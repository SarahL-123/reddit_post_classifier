{
 "cells": [
  {
   "cell_type": "markdown",
   "metadata": {},
   "source": [
    "# Project 3\n",
    "\n",
    "## Contents:\n",
    "\n",
    "[Executive Summary](#executive)\n",
    "\n",
    "[Problem Statement](#problem)\n",
    "\n",
    "[Scraping](#scraping) (See the 1_scraper notebook for more details, and the code)\n",
    "\n",
    "[EDA And Cleaning](#eda)\n",
    "\n",
    "[Data Dictionary: Posts from top](#dictionary)\n",
    "\n",
    "[Modelling](#model)\n",
    "\n",
    "[Best Model](#bestmodel)\n",
    "\n",
    "[Does Model Generalize To Other Situations?](#hotpost)\n",
    "\n",
    "[Data Dictionary: Posts from 'hot'](#hotdictionary)\n",
    "\n",
    "[Conclusion](#conclusion)"
   ]
  },
  {
   "cell_type": "markdown",
   "metadata": {},
   "source": [
    "# Executive  Summary <a class=\"anchor\" id=\"executive\"></a>\n",
    "\n",
    "We would like to identify what it is that makes a sentence or text interesting, and to make a computer do it for us instead of manually classifying text. However, it is difficult to get labelled data that states whether something is interesting or not, so we have turned to scraping Reddit. For this project, we scraped r/shittysuperpowers and r/godtiersuperpowers.\n",
    "\n",
    "---\n",
    "\n",
    "*For people who are not familiar with these 2 sub-forums of Reddit (referred to as 'subreddits'), here is a quick explanation. Reddit is essentially an online messaging board where people can submit posts and other users can view/comment on these posts. These 2 subreddits in particular both have people proposing an idea for a super power.\n",
    "\n",
    "---\n",
    "\n",
    "These subreddits were chosen because they have very similar content but with one key difference: posts in r/godtiersuperpowers need to be either sufficiently funny or creative per the subreddit rules. If a title is funny or creative we can say that it is more interesting. On the other hand, posts in r/shittysuperpowers just have to be not-useful superpowers so they aren't as interesting.\n",
    "\n",
    "The data was scraped using Reddit's API, then some cleaning and data exploration was performed. It was found that posts in r/godtiersuperpowers tend to use longer sentences as well as emojis/non-standard characters, e.g. something like \"ゴゴゴゴゴゴゴ\". Some feature engineered columns were added and the text data standardized into lowercase English characters.\n",
    "\n",
    "Throughout the analysis, other interested parties (stakeholders) such as writers or comedians were also considered.\n",
    "\n",
    "---\n",
    "\n",
    "Next, I used various NLP methods along with classification models in order to try and predict which subreddit a post was from. These include:\n",
    "- Stemming/lemmatization to reduce words to their base form\n",
    "- Count and TFIDF vectorizers to convert words into numeric data\n",
    "- Naive Bayes, Logistic, and KNN classifiers to predict subreddit category from the numeric data\n",
    "\n",
    "I found that the best combination was stemming, TFIDF vectorizing, then using Naive Bayes. This resulted in a 67% accuracy rate, which is better than getting a human (me) to categorize (64% accuracy).\n",
    "\n",
    "From this model, I extracted out the most important words that the model used when classifying. It turns out that r/godtiersuperpowers has a lot of unique words which are not present in the other subreddit. From this, we can conclude that using rare or specific words can contribute to the interesting-ness of a sentence. Comedians and writers should also take note of this point in order to attract audiences.\n",
    "\n",
    "---\n",
    "\n",
    "We can conclude that good ways to increase the interesting-ness of text are to adhere to these 3 points:\n",
    "- Be more detailed when describing something. Use more words, clarify points that may be ambigious.\n",
    "- Use less common words, for example (\"he ate the food\" vs \"he devoured the food\")\n",
    "- Use emojis or non-standard characters. The data shows it works! ¯\\\\_(ツ)_/¯.\n",
    "\n",
    "Also, the model is somewhat successful at determining how interesting a piece of text is (at least with regards to Reddit post titles). However, as this model was trained in a very specific context, it may not necessarily generalize to other areas.\n",
    "\n",
    "---"
   ]
  },
  {
   "cell_type": "markdown",
   "metadata": {},
   "source": [
    "# Problem Statement: <a class=\"anchor\" id=\"problem\"></a>\n",
    "We would like to develop a machine learning algorithm that can tell whether a sentence is interesting or not. However, it's troublesome to find data which is labelled as 'interesting' and 'not interesting'. Reddit however is a good place to scrape data, so we scraped posts from 2 similar subreddits.\n",
    "\n",
    "After some discussion, our group has chosen r/shittysuperpowers and r/godtiersuperpowers as two distinct categories.\n",
    "\n",
    "### Why these subreddits? What will it tell us about interesting sentences?\n",
    "\n",
    "First, let's see what the differences between the subreddits are. The 2 subreddits have somewhat similar formats, in which a user proposes a novel type of super power. The differences can be seen from their guidelines/rules\n",
    "\n",
    "r/shittysuperpowers\n",
    "- \"Something sort of useful, but **not really useful**\"\n",
    "- \"No Curses: If you wouldn't want that super power, or your life would be worse with that power, it's probably a curse.\"\n",
    "\n",
    "r/godtiersuperpowers\n",
    "- \"Things that aren't actually overpowered, but are **funny** so we pretend they are [...], let's keep that here\"\n",
    "- \"Additionally, **creative powers**, like finding a way the above not-very-good power could actually be god tier, are at the heart of the sub\"\n",
    "\n",
    "Based on these rules, we can see that posts in r/godtiersuperpowers need to be more interesting, since the rule states that it must be more creative, or funny (which also counts as being interesting). Posts in shittysuperpowers don't have to be interesting, it just has to be not-really-useful.\n",
    "\n",
    "#### The main benefits of developing a model that can differentiate between these 2 subreddits are:\n",
    "- We can determine how interesting a post title is\n",
    "- We can get a computer to test if something is interesting instead of asking another person (convenient for comedians, for example).\n",
    "\n",
    "The scope of this is limited to reddit post titles but there may be some good information/findings from it.\n",
    "\n",
    "### Types of Models\n",
    "The data will first be cleaned and investigated. After this, there will be 3 stages to the modelling\n",
    "\n",
    "1) Words converted into their base form using either Porter stemming, or lemmatizing\n",
    "\n",
    "2) Words converted into a matrix using either count vectorizing, or TFIDF\n",
    "\n",
    "3) Classification models such as logistic regression, KNN, or Naive Bayes are tested.\n",
    "\n",
    "The best one is decided using the metrics below\n",
    "\n",
    "### Determining Success\n",
    "To determine how successful each model is, we would like to compare it to several metrics:\n",
    "- Accuracy (we will be scraping approximately equal numbers of posts so the baseline is ~50%)\n",
    "    - Accuracy is chosen because neither category is more 'important' and there are equal class sizes\n",
    "    - Accuracy vs human (I will manually try to sort through some posts to see how accurate I am, and hopefully the computer should be able to do better)\n",
    "- AUC ROC is another useful metric as it tells us how well the model can distinguish the 2 subreddits.\n",
    "- I didn't use sensitivity or specificity since I didn't consider either subreddit to be more important. We want to know what is an interesting sentence, but also what is *not* an interesting sentence.\n",
    "\n",
    "To evaluate success I will set a goal of being more accurate than a human (me). If the model can be even more accurate than that, of course it will be nice.\n",
    "\n",
    "### Other Stakeholders\n",
    "These 2 subreddits are about super powers. This is probably not that useful to everyday life, but there are a few parties who may be interested.\n",
    "- Writers/TV or Film producers: per the rules, super powers in r/godtiersuperpowers should be considered funny or unexpectedly useful, both of which are good for putting in a book/film. Also these parties might want to know what people consider interesting in general.\n",
    "- Social scientists investigating relationships between related communities: godtiersuperpowers seems to be an alternate version of shittysuperpowers but is there actually a difference between them?\n",
    "- Comedians: They might seek inspiration about what is considered funny.\n",
    "- People who want to make popular Reddit posts"
   ]
  },
  {
   "cell_type": "markdown",
   "metadata": {},
   "source": [
    "# Scraping/Data Collection <a class=\"anchor\" id=\"scraping\"></a>\n",
    "Please see the '1_Scraper' notebook where the scraping methodology and code is explained in detail.\n",
    "\n",
    "I scraped:\n",
    "- 1000 Hot posts from each subreddit using the json API\n",
    "- 1000 all-time top posts from each subreddit using PRAW\n",
    "\n",
    "I will use the top posts to build and test models. This is because the top posts are over a bigger spread of time, and has less noise (e.g. a post recently submitted to a subreddit that doesn't follow the guidelines may not be removed, but the scraper will still pick it up).\n",
    "\n",
    "However since I also scraped the 'Hot' posts I will still use them at the end to see if my model generalizes well."
   ]
  },
  {
   "cell_type": "markdown",
   "metadata": {},
   "source": [
    "# Exploratory Data Analysis and Cleaning <a class=\"anchor\" id=\"eda\"></a>\n",
    "Load the top posts then combine into a big dataframe"
   ]
  },
  {
   "cell_type": "code",
   "execution_count": 1,
   "metadata": {},
   "outputs": [],
   "source": [
    "import pandas as pd\n",
    "import numpy as np\n",
    "import matplotlib.pyplot as plt\n",
    "import seaborn as sns\n",
    "import regex as re\n",
    "\n",
    "# I want to read the whole row\n",
    "pd.options.display.max_colwidth = 1000"
   ]
  },
  {
   "cell_type": "code",
   "execution_count": 2,
   "metadata": {},
   "outputs": [],
   "source": [
    "# read in data\n",
    "sub1_df = pd.read_csv(\"../data/scraped_subreddit_1/top_from_praw_1.csv\")\n",
    "sub2_df = pd.read_csv(\"../data/scraped_subreddit_2/top_from_praw_2.csv\")\n",
    "\n",
    "# drop unnecessary columns\n",
    "sub1_df.drop(\"Unnamed: 0\", axis = 1, inplace=True)\n",
    "sub2_df.drop(\"Unnamed: 0\", axis = 1, inplace=True)\n",
    "\n",
    "# Add in a third column that shows whether it is subreddit 1 or 2\n",
    "sub1_df[\"is_sub1\"] = 1\n",
    "sub2_df[\"is_sub1\"] = 0\n",
    "\n",
    "# merge into a larger dataframe\n",
    "all_data = pd.concat([sub1_df, sub2_df], ignore_index=True)\n",
    "\n",
    "# delete the original 2 dataframes from memory\n",
    "%reset_selective -f sub\\d_df\n",
    "\n",
    "# change column names to be representative\n",
    "all_data.rename({\"0\" : \"title\",\n",
    "                 \"1\" : \"id\",\n",
    "                 \"2\" : \"timestamp\"}, axis=1, inplace=True)"
   ]
  },
  {
   "cell_type": "markdown",
   "metadata": {},
   "source": [
    "Sort by timestamp since the posts are chronological."
   ]
  },
  {
   "cell_type": "code",
   "execution_count": 3,
   "metadata": {},
   "outputs": [],
   "source": [
    "all_data.sort_values(by=\"timestamp\", ascending=True, inplace=True)"
   ]
  },
  {
   "cell_type": "markdown",
   "metadata": {},
   "source": [
    "### Check for bad data\n",
    "Now that we have the data it is time to figure out if anything has gone horribly wrong when scraping. Check for:\n",
    "- Repeated data (by means of ID column)\n",
    "- Null data\n",
    "- Posts that have similar titles between the 2 categories?"
   ]
  },
  {
   "cell_type": "code",
   "execution_count": 4,
   "metadata": {},
   "outputs": [
    {
     "data": {
      "text/plain": [
       "array([1], dtype=int64)"
      ]
     },
     "execution_count": 4,
     "metadata": {},
     "output_type": "execute_result"
    }
   ],
   "source": [
    "# check that there are no repeats in the ID column (ie post scraped twice)\n",
    "all_data.groupby(\"id\")[\"id\"].value_counts().unique()"
   ]
  },
  {
   "cell_type": "code",
   "execution_count": 5,
   "metadata": {},
   "outputs": [
    {
     "data": {
      "text/plain": [
       "title        0\n",
       "id           0\n",
       "timestamp    0\n",
       "is_sub1      0\n",
       "dtype: int64"
      ]
     },
     "execution_count": 5,
     "metadata": {},
     "output_type": "execute_result"
    }
   ],
   "source": [
    "# check for null data\n",
    "all_data.isna().sum()"
   ]
  },
  {
   "cell_type": "code",
   "execution_count": 6,
   "metadata": {},
   "outputs": [
    {
     "data": {
      "text/html": [
       "<div>\n",
       "<style scoped>\n",
       "    .dataframe tbody tr th:only-of-type {\n",
       "        vertical-align: middle;\n",
       "    }\n",
       "\n",
       "    .dataframe tbody tr th {\n",
       "        vertical-align: top;\n",
       "    }\n",
       "\n",
       "    .dataframe thead th {\n",
       "        text-align: right;\n",
       "    }\n",
       "</style>\n",
       "<table border=\"1\" class=\"dataframe\">\n",
       "  <thead>\n",
       "    <tr style=\"text-align: right;\">\n",
       "      <th></th>\n",
       "      <th>title</th>\n",
       "      <th>id</th>\n",
       "      <th>timestamp</th>\n",
       "      <th>is_sub1</th>\n",
       "    </tr>\n",
       "  </thead>\n",
       "  <tbody>\n",
       "    <tr>\n",
       "      <th>347</th>\n",
       "      <td>Subtitles will appear when you ask someone to repeat themself.</td>\n",
       "      <td>t3_damby1</td>\n",
       "      <td>1.569707e+09</td>\n",
       "      <td>1</td>\n",
       "    </tr>\n",
       "    <tr>\n",
       "      <th>1153</th>\n",
       "      <td>Subtitles will appear when you ask someone to repeat themself.</td>\n",
       "      <td>t3_danw5p</td>\n",
       "      <td>1.569715e+09</td>\n",
       "      <td>0</td>\n",
       "    </tr>\n",
       "    <tr>\n",
       "      <th>653</th>\n",
       "      <td>This</td>\n",
       "      <td>t3_a2blwl</td>\n",
       "      <td>1.543739e+09</td>\n",
       "      <td>1</td>\n",
       "    </tr>\n",
       "    <tr>\n",
       "      <th>89</th>\n",
       "      <td>This</td>\n",
       "      <td>t3_aaxr15</td>\n",
       "      <td>1.546191e+09</td>\n",
       "      <td>1</td>\n",
       "    </tr>\n",
       "    <tr>\n",
       "      <th>771</th>\n",
       "      <td>This</td>\n",
       "      <td>t3_aoktd0</td>\n",
       "      <td>1.549658e+09</td>\n",
       "      <td>1</td>\n",
       "    </tr>\n",
       "    <tr>\n",
       "      <th>682</th>\n",
       "      <td>This</td>\n",
       "      <td>t3_aqd6oy</td>\n",
       "      <td>1.550101e+09</td>\n",
       "      <td>1</td>\n",
       "    </tr>\n",
       "    <tr>\n",
       "      <th>655</th>\n",
       "      <td>This</td>\n",
       "      <td>t3_b3yeox</td>\n",
       "      <td>1.553215e+09</td>\n",
       "      <td>1</td>\n",
       "    </tr>\n",
       "    <tr>\n",
       "      <th>1680</th>\n",
       "      <td>This</td>\n",
       "      <td>t3_cgjkdb</td>\n",
       "      <td>1.563832e+09</td>\n",
       "      <td>0</td>\n",
       "    </tr>\n",
       "    <tr>\n",
       "      <th>979</th>\n",
       "      <td>This</td>\n",
       "      <td>t3_ctwvck</td>\n",
       "      <td>1.566478e+09</td>\n",
       "      <td>0</td>\n",
       "    </tr>\n",
       "    <tr>\n",
       "      <th>352</th>\n",
       "      <td>You can</td>\n",
       "      <td>t3_bracw7</td>\n",
       "      <td>1.558445e+09</td>\n",
       "      <td>1</td>\n",
       "    </tr>\n",
       "    <tr>\n",
       "      <th>1166</th>\n",
       "      <td>You can</td>\n",
       "      <td>t3_fj1grf</td>\n",
       "      <td>1.584280e+09</td>\n",
       "      <td>0</td>\n",
       "    </tr>\n",
       "    <tr>\n",
       "      <th>693</th>\n",
       "      <td>You can control white people by giving them cheese</td>\n",
       "      <td>t3_bbew99</td>\n",
       "      <td>1.554852e+09</td>\n",
       "      <td>1</td>\n",
       "    </tr>\n",
       "    <tr>\n",
       "      <th>564</th>\n",
       "      <td>You can control white people by giving them cheese</td>\n",
       "      <td>t3_bmtf5z</td>\n",
       "      <td>1.557459e+09</td>\n",
       "      <td>1</td>\n",
       "    </tr>\n",
       "    <tr>\n",
       "      <th>1520</th>\n",
       "      <td>You can control white people by giving them cheese</td>\n",
       "      <td>t3_cg6duj</td>\n",
       "      <td>1.563756e+09</td>\n",
       "      <td>0</td>\n",
       "    </tr>\n",
       "    <tr>\n",
       "      <th>1841</th>\n",
       "      <td>You can shit someone else’s pants</td>\n",
       "      <td>t3_bmgw4i</td>\n",
       "      <td>1.557388e+09</td>\n",
       "      <td>0</td>\n",
       "    </tr>\n",
       "    <tr>\n",
       "      <th>917</th>\n",
       "      <td>You can shit someone else’s pants</td>\n",
       "      <td>t3_cz3h30</td>\n",
       "      <td>1.567509e+09</td>\n",
       "      <td>1</td>\n",
       "    </tr>\n",
       "  </tbody>\n",
       "</table>\n",
       "</div>"
      ],
      "text/plain": [
       "                                                               title  \\\n",
       "347   Subtitles will appear when you ask someone to repeat themself.   \n",
       "1153  Subtitles will appear when you ask someone to repeat themself.   \n",
       "653                                                             This   \n",
       "89                                                              This   \n",
       "771                                                             This   \n",
       "682                                                             This   \n",
       "655                                                             This   \n",
       "1680                                                            This   \n",
       "979                                                             This   \n",
       "352                                                          You can   \n",
       "1166                                                         You can   \n",
       "693               You can control white people by giving them cheese   \n",
       "564               You can control white people by giving them cheese   \n",
       "1520              You can control white people by giving them cheese   \n",
       "1841                               You can shit someone else’s pants   \n",
       "917                                You can shit someone else’s pants   \n",
       "\n",
       "             id     timestamp  is_sub1  \n",
       "347   t3_damby1  1.569707e+09        1  \n",
       "1153  t3_danw5p  1.569715e+09        0  \n",
       "653   t3_a2blwl  1.543739e+09        1  \n",
       "89    t3_aaxr15  1.546191e+09        1  \n",
       "771   t3_aoktd0  1.549658e+09        1  \n",
       "682   t3_aqd6oy  1.550101e+09        1  \n",
       "655   t3_b3yeox  1.553215e+09        1  \n",
       "1680  t3_cgjkdb  1.563832e+09        0  \n",
       "979   t3_ctwvck  1.566478e+09        0  \n",
       "352   t3_bracw7  1.558445e+09        1  \n",
       "1166  t3_fj1grf  1.584280e+09        0  \n",
       "693   t3_bbew99  1.554852e+09        1  \n",
       "564   t3_bmtf5z  1.557459e+09        1  \n",
       "1520  t3_cg6duj  1.563756e+09        0  \n",
       "1841  t3_bmgw4i  1.557388e+09        0  \n",
       "917   t3_cz3h30  1.567509e+09        1  "
      ]
     },
     "execution_count": 6,
     "metadata": {},
     "output_type": "execute_result"
    }
   ],
   "source": [
    "# check for repeated titles\n",
    "repeats = all_data[all_data[\"title\"].duplicated(keep=False)]\n",
    "repeats.head(20).sort_values(by=\"title\")"
   ]
  },
  {
   "cell_type": "code",
   "execution_count": 7,
   "metadata": {},
   "outputs": [
    {
     "data": {
      "text/plain": [
       "(1907, 4)"
      ]
     },
     "execution_count": 7,
     "metadata": {},
     "output_type": "execute_result"
    }
   ],
   "source": [
    "all_data.shape"
   ]
  },
  {
   "cell_type": "markdown",
   "metadata": {},
   "source": [
    "We can see that the scraping went well (no repeats or nulls) but there were a few titles that ended up being duplicated across both subreddits. There were also 2 titles that ended up being reposted multiple times (most notably \"This\").\n",
    "\n",
    "As most of the posts are not repeated, this is means that there may be some quantifiable difference between the two subreddits' top posts.\n",
    "\n",
    "I will drop these repeated rows since they provide no meaningful information."
   ]
  },
  {
   "cell_type": "code",
   "execution_count": 8,
   "metadata": {},
   "outputs": [],
   "source": [
    "# drop the repeats\n",
    "all_data.drop(repeats.index, inplace=True)"
   ]
  },
  {
   "cell_type": "code",
   "execution_count": 9,
   "metadata": {},
   "outputs": [
    {
     "data": {
      "text/html": [
       "<div>\n",
       "<style scoped>\n",
       "    .dataframe tbody tr th:only-of-type {\n",
       "        vertical-align: middle;\n",
       "    }\n",
       "\n",
       "    .dataframe tbody tr th {\n",
       "        vertical-align: top;\n",
       "    }\n",
       "\n",
       "    .dataframe thead th {\n",
       "        text-align: right;\n",
       "    }\n",
       "</style>\n",
       "<table border=\"1\" class=\"dataframe\">\n",
       "  <thead>\n",
       "    <tr style=\"text-align: right;\">\n",
       "      <th></th>\n",
       "      <th>title</th>\n",
       "      <th>id</th>\n",
       "      <th>timestamp</th>\n",
       "      <th>is_sub1</th>\n",
       "    </tr>\n",
       "  </thead>\n",
       "  <tbody>\n",
       "  </tbody>\n",
       "</table>\n",
       "</div>"
      ],
      "text/plain": [
       "Empty DataFrame\n",
       "Columns: [title, id, timestamp, is_sub1]\n",
       "Index: []"
      ]
     },
     "execution_count": 9,
     "metadata": {},
     "output_type": "execute_result"
    }
   ],
   "source": [
    "# check that there are no more repeats\n",
    "all_data[all_data[\"title\"].duplicated(keep=False)]"
   ]
  },
  {
   "cell_type": "code",
   "execution_count": 10,
   "metadata": {},
   "outputs": [
    {
     "data": {
      "text/html": [
       "<div>\n",
       "<style scoped>\n",
       "    .dataframe tbody tr th:only-of-type {\n",
       "        vertical-align: middle;\n",
       "    }\n",
       "\n",
       "    .dataframe tbody tr th {\n",
       "        vertical-align: top;\n",
       "    }\n",
       "\n",
       "    .dataframe thead th {\n",
       "        text-align: right;\n",
       "    }\n",
       "</style>\n",
       "<table border=\"1\" class=\"dataframe\">\n",
       "  <thead>\n",
       "    <tr style=\"text-align: right;\">\n",
       "      <th></th>\n",
       "      <th>title</th>\n",
       "      <th>id</th>\n",
       "      <th>timestamp</th>\n",
       "      <th>is_sub1</th>\n",
       "    </tr>\n",
       "  </thead>\n",
       "  <tbody>\n",
       "    <tr>\n",
       "      <th>846</th>\n",
       "      <td>you can turn into a goose, once</td>\n",
       "      <td>t3_8hpuvr</td>\n",
       "      <td>1.525719e+09</td>\n",
       "      <td>1</td>\n",
       "    </tr>\n",
       "    <tr>\n",
       "      <th>805</th>\n",
       "      <td>You can punch with half the strength of someone 2x as strong as you.</td>\n",
       "      <td>t3_8hra7y</td>\n",
       "      <td>1.525729e+09</td>\n",
       "      <td>1</td>\n",
       "    </tr>\n",
       "    <tr>\n",
       "      <th>589</th>\n",
       "      <td>You can unpee.</td>\n",
       "      <td>t3_8rsl9y</td>\n",
       "      <td>1.529257e+09</td>\n",
       "      <td>1</td>\n",
       "    </tr>\n",
       "    <tr>\n",
       "      <th>874</th>\n",
       "      <td>You are immune to clickbait, but there are 10 downsides. Number 7 will SHOCK you.</td>\n",
       "      <td>t3_8wloxs</td>\n",
       "      <td>1.530896e+09</td>\n",
       "      <td>1</td>\n",
       "    </tr>\n",
       "    <tr>\n",
       "      <th>872</th>\n",
       "      <td>Can we get this kid on here</td>\n",
       "      <td>t3_900ux3</td>\n",
       "      <td>1.531959e+09</td>\n",
       "      <td>1</td>\n",
       "    </tr>\n",
       "  </tbody>\n",
       "</table>\n",
       "</div>"
      ],
      "text/plain": [
       "                                                                                 title  \\\n",
       "846                                                    you can turn into a goose, once   \n",
       "805               You can punch with half the strength of someone 2x as strong as you.   \n",
       "589                                                                     You can unpee.   \n",
       "874  You are immune to clickbait, but there are 10 downsides. Number 7 will SHOCK you.   \n",
       "872                                                        Can we get this kid on here   \n",
       "\n",
       "            id     timestamp  is_sub1  \n",
       "846  t3_8hpuvr  1.525719e+09        1  \n",
       "805  t3_8hra7y  1.525729e+09        1  \n",
       "589  t3_8rsl9y  1.529257e+09        1  \n",
       "874  t3_8wloxs  1.530896e+09        1  \n",
       "872  t3_900ux3  1.531959e+09        1  "
      ]
     },
     "execution_count": 10,
     "metadata": {},
     "output_type": "execute_result"
    }
   ],
   "source": [
    "all_data.head()"
   ]
  },
  {
   "cell_type": "markdown",
   "metadata": {},
   "source": [
    "## Word Cloud!\n",
    "I decided to make a word cloud, to see what super powers were the most popular in general."
   ]
  },
  {
   "cell_type": "code",
   "execution_count": 113,
   "metadata": {},
   "outputs": [],
   "source": [
    "# Just save it to make a quick word cloud\n",
    "# all_data[[\"title\"]].to_csv(\"../data/forwordcloud.csv\", index=False)"
   ]
  },
  {
   "cell_type": "code",
   "execution_count": 117,
   "metadata": {},
   "outputs": [
    {
     "data": {
      "text/html": [
       "<img src=\"./original_data_wordcloud.png\"/>"
      ],
      "text/plain": [
       "<IPython.core.display.Image object>"
      ]
     },
     "execution_count": 117,
     "metadata": {},
     "output_type": "execute_result"
    }
   ],
   "source": [
    "from IPython.display import Image\n",
    "Image(url= \"./original_data_wordcloud.png\")"
   ]
  },
  {
   "cell_type": "markdown",
   "metadata": {},
   "source": [
    "We can see that there are some common phrases like 'can' (e.g. you can do X) or 'every' (e.g. every time you do Y, ___ happens\\). This doesn't really tell us anything so we should clean the data more, and try some modelling first.\n",
    "\n",
    "# What data to investigate?\n",
    "\n",
    "Since I will be vectorizing the words and using classification models, I don't think there is any need to look for specific words (that's what the classification model does so it is best to analyze the coefficients of the model instead of blindly guessing words that might be important).\n",
    "\n",
    "On the other hand, the act of vectorizing a sentence will remove some data. We should check this data to see if its important."
   ]
  },
  {
   "cell_type": "markdown",
   "metadata": {},
   "source": [
    "## Post Submission Dates\n",
    "Plot the distribution of post submission times. Also, the time will be removed before doing any modelling.\n",
    "\n",
    "However the reason I am plotting the time is that if the top posts of a subreddit were a long time ago, and the top posts of the other subreddit are more recent, certain words could be more popular based on time. This would be bad because then the model ends up looking for specific words used at specific time periods instead of whether a sentence is interesting (which is the problem we want to solve)."
   ]
  },
  {
   "cell_type": "code",
   "execution_count": 11,
   "metadata": {},
   "outputs": [
    {
     "data": {
      "text/html": [
       "<div>\n",
       "<style scoped>\n",
       "    .dataframe tbody tr th:only-of-type {\n",
       "        vertical-align: middle;\n",
       "    }\n",
       "\n",
       "    .dataframe tbody tr th {\n",
       "        vertical-align: top;\n",
       "    }\n",
       "\n",
       "    .dataframe thead th {\n",
       "        text-align: right;\n",
       "    }\n",
       "</style>\n",
       "<table border=\"1\" class=\"dataframe\">\n",
       "  <thead>\n",
       "    <tr style=\"text-align: right;\">\n",
       "      <th></th>\n",
       "      <th>title</th>\n",
       "      <th>id</th>\n",
       "      <th>timestamp</th>\n",
       "      <th>is_sub1</th>\n",
       "      <th>days_ago</th>\n",
       "    </tr>\n",
       "  </thead>\n",
       "  <tbody>\n",
       "    <tr>\n",
       "      <th>846</th>\n",
       "      <td>you can turn into a goose, once</td>\n",
       "      <td>t3_8hpuvr</td>\n",
       "      <td>1.525719e+09</td>\n",
       "      <td>1</td>\n",
       "      <td>871.466563</td>\n",
       "    </tr>\n",
       "    <tr>\n",
       "      <th>805</th>\n",
       "      <td>You can punch with half the strength of someone 2x as strong as you.</td>\n",
       "      <td>t3_8hra7y</td>\n",
       "      <td>1.525729e+09</td>\n",
       "      <td>1</td>\n",
       "      <td>871.342697</td>\n",
       "    </tr>\n",
       "    <tr>\n",
       "      <th>589</th>\n",
       "      <td>You can unpee.</td>\n",
       "      <td>t3_8rsl9y</td>\n",
       "      <td>1.529257e+09</td>\n",
       "      <td>1</td>\n",
       "      <td>830.514248</td>\n",
       "    </tr>\n",
       "    <tr>\n",
       "      <th>874</th>\n",
       "      <td>You are immune to clickbait, but there are 10 downsides. Number 7 will SHOCK you.</td>\n",
       "      <td>t3_8wloxs</td>\n",
       "      <td>1.530896e+09</td>\n",
       "      <td>1</td>\n",
       "      <td>811.541366</td>\n",
       "    </tr>\n",
       "    <tr>\n",
       "      <th>872</th>\n",
       "      <td>Can we get this kid on here</td>\n",
       "      <td>t3_900ux3</td>\n",
       "      <td>1.531959e+09</td>\n",
       "      <td>1</td>\n",
       "      <td>799.240000</td>\n",
       "    </tr>\n",
       "  </tbody>\n",
       "</table>\n",
       "</div>"
      ],
      "text/plain": [
       "                                                                                 title  \\\n",
       "846                                                    you can turn into a goose, once   \n",
       "805               You can punch with half the strength of someone 2x as strong as you.   \n",
       "589                                                                     You can unpee.   \n",
       "874  You are immune to clickbait, but there are 10 downsides. Number 7 will SHOCK you.   \n",
       "872                                                        Can we get this kid on here   \n",
       "\n",
       "            id     timestamp  is_sub1    days_ago  \n",
       "846  t3_8hpuvr  1.525719e+09        1  871.466563  \n",
       "805  t3_8hra7y  1.525729e+09        1  871.342697  \n",
       "589  t3_8rsl9y  1.529257e+09        1  830.514248  \n",
       "874  t3_8wloxs  1.530896e+09        1  811.541366  \n",
       "872  t3_900ux3  1.531959e+09        1  799.240000  "
      ]
     },
     "execution_count": 11,
     "metadata": {},
     "output_type": "execute_result"
    }
   ],
   "source": [
    "# I just copy-pasted in the current unix time for repeatability\n",
    "current_unix_time = 1601013341\n",
    "\n",
    "# make it into days\n",
    "seconds_in_day = 60 * 60 * 24\n",
    "\n",
    "# create col of how many days ago it was\n",
    "all_data[\"days_ago\"] = all_data[\"timestamp\"].map(\n",
    "    lambda s: (current_unix_time - s)/seconds_in_day)\n",
    "\n",
    "all_data.head()"
   ]
  },
  {
   "cell_type": "code",
   "execution_count": 12,
   "metadata": {},
   "outputs": [
    {
     "data": {
      "text/plain": [
       "<matplotlib.axes._subplots.AxesSubplot at 0x2881b1e8c10>"
      ]
     },
     "execution_count": 12,
     "metadata": {},
     "output_type": "execute_result"
    },
    {
     "data": {
      "image/png": "[encoded data removed]",
      "text/plain": [
       "<Figure size 432x288 with 1 Axes>"
      ]
     },
     "metadata": {
      "needs_background": "light"
     },
     "output_type": "display_data"
    }
   ],
   "source": [
    "# make a quick plot to check nothing went really wrong (see below for nicer plots with titles)\n",
    "all_data[\"days_ago\"].hist()"
   ]
  },
  {
   "cell_type": "markdown",
   "metadata": {},
   "source": [
    "Next, see if there is any pattern in the submission dates between the 2 subreddits."
   ]
  },
  {
   "cell_type": "code",
   "execution_count": 13,
   "metadata": {},
   "outputs": [
    {
     "data": {
      "image/png": "[encoded data removed]",
      "text/plain": [
       "<Figure size 720x720 with 1 Axes>"
      ]
     },
     "metadata": {},
     "output_type": "display_data"
    }
   ],
   "source": [
    "# Plot the distributions of post dates\n",
    "\n",
    "sns.set_style(\"whitegrid\")\n",
    "plt.figure(figsize=(10,10))\n",
    "ax = sns.violinplot(all_data[\"is_sub1\"], all_data[\"days_ago\"])\n",
    "\n",
    "ax.set_ylabel(\"Post Date (days ago)\", fontsize=20)\n",
    "ax.set_xlabel(\"\")\n",
    "ax.set_xticklabels([\"godtiersuperpowers\", \"shittysuperpowers\"], fontsize=20)\n",
    "ax.set_title(\"Posting Date (days ago) of top ~1000 posts per subreddit\", fontsize=20);"
   ]
  },
  {
   "cell_type": "markdown",
   "metadata": {},
   "source": [
    "We can see that r/shittysuperpowers has posts almost 1000 days ago although there aren't a lot of them. r/godtiersuperpowers seems like a spinoff so it makes sense that the posts are a bit newer. However, the means are quite close so I will not worry about it too much.\n",
    "\n",
    "If the model predicts based on words that I know are recent slang/popular words this may cause me to revise the process."
   ]
  },
  {
   "cell_type": "markdown",
   "metadata": {},
   "source": [
    "**Note**: It looks like there are posts in the future but that's just how the plot looks (see below)."
   ]
  },
  {
   "cell_type": "code",
   "execution_count": 14,
   "metadata": {},
   "outputs": [
    {
     "data": {
      "text/html": [
       "<div>\n",
       "<style scoped>\n",
       "    .dataframe tbody tr th:only-of-type {\n",
       "        vertical-align: middle;\n",
       "    }\n",
       "\n",
       "    .dataframe tbody tr th {\n",
       "        vertical-align: top;\n",
       "    }\n",
       "\n",
       "    .dataframe thead th {\n",
       "        text-align: right;\n",
       "    }\n",
       "</style>\n",
       "<table border=\"1\" class=\"dataframe\">\n",
       "  <thead>\n",
       "    <tr style=\"text-align: right;\">\n",
       "      <th></th>\n",
       "      <th>title</th>\n",
       "      <th>id</th>\n",
       "      <th>timestamp</th>\n",
       "      <th>is_sub1</th>\n",
       "      <th>days_ago</th>\n",
       "    </tr>\n",
       "  </thead>\n",
       "  <tbody>\n",
       "    <tr>\n",
       "      <th>1562</th>\n",
       "      <td>Your in-game money can be used to buy things that need real life money in video games</td>\n",
       "      <td>t3_iyro6p</td>\n",
       "      <td>1.600927e+09</td>\n",
       "      <td>0</td>\n",
       "      <td>0.995694</td>\n",
       "    </tr>\n",
       "  </tbody>\n",
       "</table>\n",
       "</div>"
      ],
      "text/plain": [
       "                                                                                      title  \\\n",
       "1562  Your in-game money can be used to buy things that need real life money in video games   \n",
       "\n",
       "             id     timestamp  is_sub1  days_ago  \n",
       "1562  t3_iyro6p  1.600927e+09        0  0.995694  "
      ]
     },
     "execution_count": 14,
     "metadata": {},
     "output_type": "execute_result"
    }
   ],
   "source": [
    "all_data[all_data[\"days_ago\"] < 1]"
   ]
  },
  {
   "cell_type": "markdown",
   "metadata": {},
   "source": [
    "## Non text characters.\n",
    "I will probably remove all of these before putting it into a model however I want to see what they are."
   ]
  },
  {
   "cell_type": "code",
   "execution_count": 15,
   "metadata": {},
   "outputs": [],
   "source": [
    "def find_non_words(series):\n",
    "    \n",
    "    all_nonwords = set()\n",
    "    nonword_regex = r\"[^A-Za-z]\"\n",
    "    \n",
    "    for one_entry in series:\n",
    "        split_words = re.findall(nonword_regex, one_entry)\n",
    "        \n",
    "        [all_nonwords.add(s) for s in split_words]\n",
    "        \n",
    "    return all_nonwords"
   ]
  },
  {
   "cell_type": "code",
   "execution_count": 16,
   "metadata": {
    "scrolled": true
   },
   "outputs": [
    {
     "data": {
      "text/plain": [
       "{' ',\n",
       " '!',\n",
       " '\"',\n",
       " '#',\n",
       " '$',\n",
       " '%',\n",
       " '&',\n",
       " \"'\",\n",
       " '(',\n",
       " ')',\n",
       " '*',\n",
       " '+',\n",
       " ',',\n",
       " '-',\n",
       " '.',\n",
       " '/',\n",
       " '0',\n",
       " '1',\n",
       " '2',\n",
       " '3',\n",
       " '4',\n",
       " '5',\n",
       " '6',\n",
       " '7',\n",
       " '8',\n",
       " '9',\n",
       " ':',\n",
       " ';',\n",
       " '=',\n",
       " '?',\n",
       " '[',\n",
       " ']',\n",
       " '_',\n",
       " '£',\n",
       " '¥',\n",
       " '°',\n",
       " 'é',\n",
       " 'ï',\n",
       " 'ǝ',\n",
       " 'ɐ',\n",
       " 'ɓ',\n",
       " 'ɔ',\n",
       " 'ɥ',\n",
       " 'ɯ',\n",
       " 'ɹ',\n",
       " 'ʇ',\n",
       " 'ʍ',\n",
       " 'ʎ',\n",
       " '˙',\n",
       " 'ๅ',\n",
       " 'ᴉ',\n",
       " '\\u200e',\n",
       " '‘',\n",
       " '’',\n",
       " '“',\n",
       " '”',\n",
       " '…',\n",
       " '⅄',\n",
       " '∀',\n",
       " '「',\n",
       " '」',\n",
       " 'ゴ',\n",
       " '👏',\n",
       " '😂',\n",
       " '😩',\n",
       " '🤡',\n",
       " '🦆'}"
      ]
     },
     "execution_count": 16,
     "metadata": {},
     "output_type": "execute_result"
    }
   ],
   "source": [
    "strange_chars = find_non_words(all_data[\"title\"])\n",
    "strange_chars"
   ]
  },
  {
   "cell_type": "markdown",
   "metadata": {},
   "source": [
    "There are a lot of strange characters. Try to identify all rows where this is an issue, to see if there is any data we can extract from it."
   ]
  },
  {
   "cell_type": "markdown",
   "metadata": {},
   "source": [
    "I tried different regex to find rows with weird characters, this one seems to work the best:"
   ]
  },
  {
   "cell_type": "code",
   "execution_count": 17,
   "metadata": {
    "scrolled": true
   },
   "outputs": [
    {
     "name": "stdout",
     "output_type": "stream",
     "text": [
      "(66, 5)\n"
     ]
    },
    {
     "data": {
      "text/html": [
       "<div>\n",
       "<style scoped>\n",
       "    .dataframe tbody tr th:only-of-type {\n",
       "        vertical-align: middle;\n",
       "    }\n",
       "\n",
       "    .dataframe tbody tr th {\n",
       "        vertical-align: top;\n",
       "    }\n",
       "\n",
       "    .dataframe thead th {\n",
       "        text-align: right;\n",
       "    }\n",
       "</style>\n",
       "<table border=\"1\" class=\"dataframe\">\n",
       "  <thead>\n",
       "    <tr style=\"text-align: right;\">\n",
       "      <th></th>\n",
       "      <th>title</th>\n",
       "      <th>id</th>\n",
       "      <th>timestamp</th>\n",
       "      <th>is_sub1</th>\n",
       "      <th>days_ago</th>\n",
       "    </tr>\n",
       "  </thead>\n",
       "  <tbody>\n",
       "    <tr>\n",
       "      <th>1690</th>\n",
       "      <td>You know every stat about every person you meet. How many strawberries had this person eaten? 1597. What’s the longest this man has gone between saying hello? ‘He said hello at 11:18am on Thursday November 8th and did not say hello again until Tuesday 13th at 11:52. 5 days 0 hours and 34 minutes’</td>\n",
       "      <td>t3_eh7op3</td>\n",
       "      <td>1.577636e+09</td>\n",
       "      <td>0</td>\n",
       "      <td>270.569572</td>\n",
       "    </tr>\n",
       "    <tr>\n",
       "      <th>216</th>\n",
       "      <td>‎ ‎ ‎ ‎ ‎ ‎ ‎ ‎ ‎ ‎ ‎ ‎ ‎ ‎ ‎ ‎ ‎</td>\n",
       "      <td>t3_hkylon</td>\n",
       "      <td>1.593843e+09</td>\n",
       "      <td>1</td>\n",
       "      <td>82.987917</td>\n",
       "    </tr>\n",
       "    <tr>\n",
       "      <th>185</th>\n",
       "      <td>When you sneeze, £10 is added to your bank account, but you also slightly shit yourself.</td>\n",
       "      <td>t3_dlxrap</td>\n",
       "      <td>1.571829e+09</td>\n",
       "      <td>1</td>\n",
       "      <td>337.778866</td>\n",
       "    </tr>\n",
       "    <tr>\n",
       "      <th>54</th>\n",
       "      <td>You can locate any discarded amount of money under $100 in a 3km radius.</td>\n",
       "      <td>t3_a2zuyd</td>\n",
       "      <td>1.543923e+09</td>\n",
       "      <td>1</td>\n",
       "      <td>660.768576</td>\n",
       "    </tr>\n",
       "    <tr>\n",
       "      <th>1354</th>\n",
       "      <td>You can change the statistical outcome of any event at will. What are the odds that I open my mailbox and find a check for $50,000? Let's made that 100%. The likelyhood of meeting my soulmate at the library today? 100%. Chances I ever die by accident or disease? That's now 0%.</td>\n",
       "      <td>t3_cs4l8c</td>\n",
       "      <td>1.566151e+09</td>\n",
       "      <td>0</td>\n",
       "      <td>403.498206</td>\n",
       "    </tr>\n",
       "    <tr>\n",
       "      <th>1363</th>\n",
       "      <td>You have the ability to control your IQ/schlong size ratio. +1inch = -10 IQ points and vice versa. Changes can be made once every full moon.</td>\n",
       "      <td>t3_h8lot1</td>\n",
       "      <td>1.592103e+09</td>\n",
       "      <td>0</td>\n",
       "      <td>103.132373</td>\n",
       "    </tr>\n",
       "    <tr>\n",
       "      <th>1595</th>\n",
       "      <td>For every new thing you do, you get paid $50</td>\n",
       "      <td>t3_dd0gbw</td>\n",
       "      <td>1.570152e+09</td>\n",
       "      <td>0</td>\n",
       "      <td>357.189641</td>\n",
       "    </tr>\n",
       "    <tr>\n",
       "      <th>908</th>\n",
       "      <td>Every time you make eye contact with someone named “Dave”, a delicious burrito will materialize in his hand…whether he wants or not.</td>\n",
       "      <td>t3_9sww8u</td>\n",
       "      <td>1.540975e+09</td>\n",
       "      <td>1</td>\n",
       "      <td>694.888426</td>\n",
       "    </tr>\n",
       "    <tr>\n",
       "      <th>533</th>\n",
       "      <td>You can switch the weather between 30°F and 30° C</td>\n",
       "      <td>t3_irovgs</td>\n",
       "      <td>1.599959e+09</td>\n",
       "      <td>1</td>\n",
       "      <td>12.198310</td>\n",
       "    </tr>\n",
       "    <tr>\n",
       "      <th>596</th>\n",
       "      <td>You can say ‘uno’ when you actually have two cards.</td>\n",
       "      <td>t3_ffj1i1</td>\n",
       "      <td>1.583701e+09</td>\n",
       "      <td>1</td>\n",
       "      <td>200.372535</td>\n",
       "    </tr>\n",
       "    <tr>\n",
       "      <th>61</th>\n",
       "      <td>˙uɐᴉlɐɹʇsn∀ pɐǝɹ uɐɔ no⅄</td>\n",
       "      <td>t3_cxtcdl</td>\n",
       "      <td>1.567238e+09</td>\n",
       "      <td>1</td>\n",
       "      <td>390.916898</td>\n",
       "    </tr>\n",
       "    <tr>\n",
       "      <th>28</th>\n",
       "      <td>If you say ‘I’m depressed’ three times in a mirror, Hitler will personally walk out of hell and give you a pat on the back, listen to your story and give encouragements</td>\n",
       "      <td>t3_cwk052</td>\n",
       "      <td>1.566995e+09</td>\n",
       "      <td>1</td>\n",
       "      <td>393.734560</td>\n",
       "    </tr>\n",
       "    <tr>\n",
       "      <th>1066</th>\n",
       "      <td>If you yell \"trick shot\" before you throw something to something it will do some weird sh*t and hit the target with 100% accuracy</td>\n",
       "      <td>t3_dxl8hg</td>\n",
       "      <td>1.573988e+09</td>\n",
       "      <td>0</td>\n",
       "      <td>312.790336</td>\n",
       "    </tr>\n",
       "    <tr>\n",
       "      <th>1623</th>\n",
       "      <td>Every time you feel tired your bank account gets $1000</td>\n",
       "      <td>t3_c6gcdg</td>\n",
       "      <td>1.561700e+09</td>\n",
       "      <td>0</td>\n",
       "      <td>455.011539</td>\n",
       "    </tr>\n",
       "    <tr>\n",
       "      <th>1736</th>\n",
       "      <td>You can earn 5$ just from making any post on reddit.</td>\n",
       "      <td>t3_bqwims</td>\n",
       "      <td>1.558364e+09</td>\n",
       "      <td>0</td>\n",
       "      <td>493.627593</td>\n",
       "    </tr>\n",
       "    <tr>\n",
       "      <th>105</th>\n",
       "      <td>ɹǝɓuɐp ǝʇɐᴉpǝɯɯᴉ uᴉ ǝๅᴉɥʍ uɐᴉๅɐɹʇsnɐ uᴉ ǝdʎʇ uɐɔ noʎ</td>\n",
       "      <td>t3_iur5uv</td>\n",
       "      <td>1.600373e+09</td>\n",
       "      <td>1</td>\n",
       "      <td>7.412951</td>\n",
       "    </tr>\n",
       "    <tr>\n",
       "      <th>290</th>\n",
       "      <td>You can spam \"🤡🤡🤡\" when you're losing an argument irl</td>\n",
       "      <td>t3_d85ikq</td>\n",
       "      <td>1.569240e+09</td>\n",
       "      <td>1</td>\n",
       "      <td>367.747894</td>\n",
       "    </tr>\n",
       "    <tr>\n",
       "      <th>1507</th>\n",
       "      <td>Everytime you open your wallet, it will spit out a $100 bill.</td>\n",
       "      <td>t3_dob3ir</td>\n",
       "      <td>1.572280e+09</td>\n",
       "      <td>0</td>\n",
       "      <td>332.565949</td>\n",
       "    </tr>\n",
       "    <tr>\n",
       "      <th>566</th>\n",
       "      <td>You get +1% health</td>\n",
       "      <td>t3_ck9d7j</td>\n",
       "      <td>1.564584e+09</td>\n",
       "      <td>1</td>\n",
       "      <td>421.635579</td>\n",
       "    </tr>\n",
       "    <tr>\n",
       "      <th>388</th>\n",
       "      <td>Every time you agree to a website’s cookies policy you can summon 3 Oatmeal &amp; Raisin cookies</td>\n",
       "      <td>t3_i0geu3</td>\n",
       "      <td>1.596087e+09</td>\n",
       "      <td>1</td>\n",
       "      <td>57.018623</td>\n",
       "    </tr>\n",
       "  </tbody>\n",
       "</table>\n",
       "</div>"
      ],
      "text/plain": [
       "                                                                                                                                                                                                                                                                                                          title  \\\n",
       "1690  You know every stat about every person you meet. How many strawberries had this person eaten? 1597. What’s the longest this man has gone between saying hello? ‘He said hello at 11:18am on Thursday November 8th and did not say hello again until Tuesday 13th at 11:52. 5 days 0 hours and 34 minutes’   \n",
       "216                                                                                                                                                                                                                                                                           ‎ ‎ ‎ ‎ ‎ ‎ ‎ ‎ ‎ ‎ ‎ ‎ ‎ ‎ ‎ ‎ ‎   \n",
       "185                                                                                                                                                                                                                    When you sneeze, £10 is added to your bank account, but you also slightly shit yourself.   \n",
       "54                                                                                                                                                                                                                                     You can locate any discarded amount of money under $100 in a 3km radius.   \n",
       "1354                      You can change the statistical outcome of any event at will. What are the odds that I open my mailbox and find a check for $50,000? Let's made that 100%. The likelyhood of meeting my soulmate at the library today? 100%. Chances I ever die by accident or disease? That's now 0%.   \n",
       "1363                                                                                                                                                               You have the ability to control your IQ/schlong size ratio. +1inch = -10 IQ points and vice versa. Changes can be made once every full moon.   \n",
       "1595                                                                                                                                                                                                                                                               For every new thing you do, you get paid $50   \n",
       "908                                                                                                                                                                        Every time you make eye contact with someone named “Dave”, a delicious burrito will materialize in his hand…whether he wants or not.   \n",
       "533                                                                                                                                                                                                                                                           You can switch the weather between 30°F and 30° C   \n",
       "596                                                                                                                                                                                                                                                         You can say ‘uno’ when you actually have two cards.   \n",
       "61                                                                                                                                                                                                                                                                                     ˙uɐᴉlɐɹʇsn∀ pɐǝɹ uɐɔ no⅄   \n",
       "28                                                                                                                                     If you say ‘I’m depressed’ three times in a mirror, Hitler will personally walk out of hell and give you a pat on the back, listen to your story and give encouragements   \n",
       "1066                                                                                                                                                                          If you yell \"trick shot\" before you throw something to something it will do some weird sh*t and hit the target with 100% accuracy   \n",
       "1623                                                                                                                                                                                                                                                     Every time you feel tired your bank account gets $1000   \n",
       "1736                                                                                                                                                                                                                                                       You can earn 5$ just from making any post on reddit.   \n",
       "105                                                                                                                                                                                                                                                        ɹǝɓuɐp ǝʇɐᴉpǝɯɯᴉ uᴉ ǝๅᴉɥʍ uɐᴉๅɐɹʇsnɐ uᴉ ǝdʎʇ uɐɔ noʎ   \n",
       "290                                                                                                                                                                                                                                                       You can spam \"🤡🤡🤡\" when you're losing an argument irl   \n",
       "1507                                                                                                                                                                                                                                              Everytime you open your wallet, it will spit out a $100 bill.   \n",
       "566                                                                                                                                                                                                                                                                                          You get +1% health   \n",
       "388                                                                                                                                                                                                                Every time you agree to a website’s cookies policy you can summon 3 Oatmeal & Raisin cookies   \n",
       "\n",
       "             id     timestamp  is_sub1    days_ago  \n",
       "1690  t3_eh7op3  1.577636e+09        0  270.569572  \n",
       "216   t3_hkylon  1.593843e+09        1   82.987917  \n",
       "185   t3_dlxrap  1.571829e+09        1  337.778866  \n",
       "54    t3_a2zuyd  1.543923e+09        1  660.768576  \n",
       "1354  t3_cs4l8c  1.566151e+09        0  403.498206  \n",
       "1363  t3_h8lot1  1.592103e+09        0  103.132373  \n",
       "1595  t3_dd0gbw  1.570152e+09        0  357.189641  \n",
       "908   t3_9sww8u  1.540975e+09        1  694.888426  \n",
       "533   t3_irovgs  1.599959e+09        1   12.198310  \n",
       "596   t3_ffj1i1  1.583701e+09        1  200.372535  \n",
       "61    t3_cxtcdl  1.567238e+09        1  390.916898  \n",
       "28    t3_cwk052  1.566995e+09        1  393.734560  \n",
       "1066  t3_dxl8hg  1.573988e+09        0  312.790336  \n",
       "1623  t3_c6gcdg  1.561700e+09        0  455.011539  \n",
       "1736  t3_bqwims  1.558364e+09        0  493.627593  \n",
       "105   t3_iur5uv  1.600373e+09        1    7.412951  \n",
       "290   t3_d85ikq  1.569240e+09        1  367.747894  \n",
       "1507  t3_dob3ir  1.572280e+09        0  332.565949  \n",
       "566   t3_ck9d7j  1.564584e+09        1  421.635579  \n",
       "388   t3_i0geu3  1.596087e+09        1   57.018623  "
      ]
     },
     "execution_count": 17,
     "metadata": {},
     "output_type": "execute_result"
    }
   ],
   "source": [
    "# print rows with weird characters\n",
    "\n",
    "# define outside loop for faster looping\n",
    "# ignore 'normal' punctuation characters\n",
    "weirdchar_regex = r\"[^A-Za-z \\,\\.\\!\\?\\d\\\"\\-\\'\\%“”\\’\\(\\)\\:/]\"\n",
    "\n",
    "def has_weird_text(text):\n",
    "    matches = re.findall(weirdchar_regex, text)\n",
    "    \n",
    "    if len(matches) > 0:\n",
    "        return True\n",
    "    return False\n",
    "\n",
    "weird_text_df = all_data[all_data[\"title\"].map(has_weird_text)]\n",
    "print(weird_text_df.shape)\n",
    "weird_text_df.sample(20)"
   ]
  },
  {
   "cell_type": "code",
   "execution_count": 18,
   "metadata": {
    "scrolled": true
   },
   "outputs": [
    {
     "name": "stdout",
     "output_type": "stream",
     "text": [
      "Every time you make eye contact with someone named “Dave”, a delicious burrito will materialize in his hand…whether he wants or not.\n",
      "You can locate any discarded amount of money under $100 in a 3km radius.\n",
      "I love this guy😂\n",
      "You always have enough cash in your pocket for your change to be $420.69\n",
      "whenever you say “howdy” to someone, a cowboy hat appears on your head for 5 seconds, and if they reply with ‘howdy’, they get a hat for 5 seconds as well\n",
      "You can make any Pokémon thicc\n",
      "You can earn 5$ just from making any post on reddit.\n",
      "If you say \"By the way, I learned to [blank] yesterday\" during a conversation you will immediately be able to do that thing\n",
      "Every time you put on a pair of pants, you will find a $20 bill in the front left pocket\n",
      "Every time you feel tired your bank account gets $1000\n",
      "You get +1% health\n",
      "Every time you breathe in $10,000 is transferred into your bank account, however every time you breathe out $10,000 is transferred out of your bank account\n",
      "You can change the statistical outcome of any event at will. What are the odds that I open my mailbox and find a check for $50,000? Let's made that 100%. The likelyhood of meeting my soulmate at the library today? 100%. Chances I ever die by accident or disease? That's now 0%.\n",
      "You make $1 every dab, but the money appear at random places in the world.\n",
      "「 T H E C U R E」: protects Stand User from disease or illness, and all sick/diseased creatures within 10 feet become cured via the stand's punches\n",
      "You have a +10% movement speed while crawling\n",
      "If you say ‘I’m depressed’ three times in a mirror, Hitler will personally walk out of hell and give you a pat on the back, listen to your story and give encouragements\n",
      "You can reïncarnate as luigi\n",
      "˙uɐᴉlɐɹʇsn∀ pɐǝɹ uɐɔ no⅄\n",
      "You can spam \"🤡🤡🤡\" when you're losing an argument irl\n",
      "For each internet point you get on Reddit, 1$ is deposited into your bank account.\n",
      "For every new thing you do, you get paid $50\n",
      "When you sneeze, £10 is added to your bank account, but you also slightly shit yourself.\n",
      "You can plant a tree just by donating $1\n",
      "Everytime you open your wallet, it will spit out a $100 bill.\n",
      "You get 1$ every time you recycle 1 plastic bottle.\n",
      "Putting👏claps👏between👏every👏word👏you👏type👏in👏a👏statement👏makes👏everyone👏reading👏instantly👏agree👏with👏it.\n",
      "Every time you get a random boner, you get $100,000\n",
      "Every time you forget about this power, a bear enters the room and hands you $150 in cash.\n",
      "Anything that costs more than $7, to you, is now only $7\n",
      "If you yell \"trick shot\" before you throw something to something it will do some weird sh*t and hit the target with 100% accuracy\n",
      "You can snap you fingers to gain $1000 but everyone within 500 yards craps their pants.\n",
      "You acquire anything and everything that anyone in the world declares ‘lost’. Lost money is directly deposited into your account and lost items appear in a large storage unit, complete with constantly updated, easy to read inventory and Unwanted items can be sent back to their lost location.\n",
      "You have to ability to destroy anyone in a single tap, to activate you have to say: ... OwO Could you fuck my ass with your wong😩 Hentai-san???\n",
      "10 seconds before you nut, the ‘tactical nuke incoming’ audio from modern warfare 2 plays, from your dick.\n",
      "You know every stat about every person you meet. How many strawberries had this person eaten? 1597. What’s the longest this man has gone between saying hello? ‘He said hello at 11:18am on Thursday November 8th and did not say hello again until Tuesday 13th at 11:52. 5 days 0 hours and 34 minutes’\n",
      "You earn 1$ per each upvote you get on reddit\n",
      "They're*. The ability to correct grammar mistakes before they happen, as long as their yours.\n",
      "Whenever you say ‘hold my beer’ the thing you are about to do actually works out.\n",
      "Every time you close your eyes, even just to blink, your energy level increases at a rate of +1% for every second they are shut.\n",
      "You will get $350 for each survey you complete.\n",
      "When you recover from an illness, the pokémon centre theme plays.\n",
      "You have a spidey sense, except the said object or direction of incoming danger signals you via: \"ゴゴゴゴ\"\n",
      "You can correct “#1 Dad” mugs to be statistically correct.\n",
      "You can say ‘uno’ when you actually have two cards.\n",
      "You can eat anything, and I mean *ANYTHING* and it'll always taste like you're favorite food/drink. Additional side effects include never gaining the extra weight and being able to digest anything.\n",
      "You can use Pokémon escape ropes to come back to your house\n",
      "If you say “Sorry, I was eating a Milky Way” in the most annoying way possible, you’ll be absolved of any mistake; up to murder. The caveat is that they’ll slap the shit out of you then forget what you did and that they slapped you.\n",
      "Everytime you wash your hands, The Labs making a Vaccine for Corona are funded 10,000 $, £, or ¥ each.\n",
      "You have to ability to make anything appear by saying \"Boy, I sure wish I had a _____ right now.\"\n",
      "You can read the \"[removed]\" comments anyways.\n",
      "You have the ability to control your IQ/schlong size ratio. +1inch = -10 IQ points and vice versa. Changes can be made once every full moon.\n",
      "‎ ‎ ‎ ‎ ‎ ‎ ‎ ‎ ‎ ‎ ‎ ‎ ‎ ‎ ‎ ‎ ‎\n",
      "When someone tells you to ALT + F4 to fix a problem it actually fixes the problem.\n",
      "Everytime you bust a nut you get $1,000,000 in cold hard cash\n",
      "infinite money… kinda\n",
      "You can break into a car or house without triggering the alarm * only if someone is inside\n",
      "You can telepathically communicate with anyone on earth within one second of them using the '🦆' emoji.\n",
      "Every time you agree to a website’s cookies policy you can summon 3 Oatmeal & Raisin cookies\n",
      "You now have the power to turn any \"You just won $1,000,000\" type scam on the internet into the real thing.\n",
      "Every time you work a shift your hourly wage goes up by 1$\n",
      "You can now binge eat and whatever weight that you would have gained is instead converted into cold hard cash to the rate of 1kg = 1,000 dollars.\n",
      "Your hands can resist 100° Celsius and more, so to cleanse them of bacteria just boil some water and stick em in\n",
      "You have auto save points for crucial life decisions and at age 65, you get the option of New Game+\n",
      "You can switch the weather between 30°F and 30° C\n",
      "ɹǝɓuɐp ǝʇɐᴉpǝɯɯᴉ uᴉ ǝๅᴉɥʍ uɐᴉๅɐɹʇsnɐ uᴉ ǝdʎʇ uɐɔ noʎ\n"
     ]
    }
   ],
   "source": [
    "# print out every single weird line\n",
    "[print(s) for s in weird_text_df[\"title\"]];"
   ]
  },
  {
   "cell_type": "markdown",
   "metadata": {},
   "source": [
    "Things I found from the above:\n",
    "- Ellipsis can be a charcter: \"…\" is not the same as 3 periods \"...\"\n",
    "- Quotation marks come in left and right versions: “howdy” is not the same as \"howdy\"\n",
    "- People like repeating emojis: \"Putting👏claps👏between👏every👏word👏you...\"\n",
    "- 'Fancy' characters, such as \"[...]  7,𝑡𝑜𝑦𝑜𝑢,𝑖𝑠𝑛𝑜𝑤𝑜𝑛𝑙𝑦 7\" can be created via formatting text as a math equation. It's a bit unclear whether this is *actually* different text or just formatted in a different way.\n",
    "- Some posts are entirely upside down text, for example \"uɐᴉlɐɹʇsn∀ pɐǝɹ uɐɔ no⅄\"\n",
    "- Some words are split into individual letters, such as \"T H E C U R E\"\n",
    "- One of the posts is only empty/invisible characters (the left-to-right mark)\n",
    "- Some words have non-english characters that are similar to english characters: \"pokémon\" vs \"pokemon\"\n",
    "\n",
    "There are some posts that have a lot of these special characters."
   ]
  },
  {
   "cell_type": "markdown",
   "metadata": {},
   "source": [
    "## What can be done?\n",
    "It seems that most non-[A-Za-z] characters don't actually contribute to the meaning. The exceptions are:\n",
    "- upside down words (which, annoyingly, are also spelled backwards)\n",
    "- words formatted as math\n",
    "- completely invisible post titles (if I regex replace them, the title will be null)\n",
    "- Words where people may spell it with variations, like \"pokémon\" or \"pokemon\"\n",
    "\n",
    "All other non-standard characters will be removed."
   ]
  },
  {
   "cell_type": "markdown",
   "metadata": {},
   "source": [
    "## Popularity across the 2 subreddits\n",
    "I also decided to try and analyze if these non-standard characters appear more in one subreddit. Since I'm going to remove them using regex, maybe I can get something useful from them before deleting.\n",
    "\n",
    "I will plot the popularity of each of these characters and see how many times they appear. Count vectorizer is the easiest way to do it, we just vectorize all of the punctuations instead of words."
   ]
  },
  {
   "cell_type": "code",
   "execution_count": 19,
   "metadata": {},
   "outputs": [],
   "source": [
    "from sklearn.feature_extraction.text import CountVectorizer"
   ]
  },
  {
   "cell_type": "code",
   "execution_count": 20,
   "metadata": {},
   "outputs": [],
   "source": [
    "# use count vectorizer\n",
    "\n",
    "# we define words as punctuation instead\n",
    "# I filtered out commas, periods, exclamation marks, and digits also\n",
    "only_nonletters_regex = r\"[^A-Za-z \\.\\,\\!\\d]\"\n",
    "\n",
    "punctuation_cv = CountVectorizer(token_pattern=only_nonletters_regex)\n",
    "\n",
    "punc_counts = punctuation_cv.fit_transform(all_data[\"title\"])\n",
    "\n",
    "punc_counts_df = pd.DataFrame(punc_counts.todense(), columns=punctuation_cv.get_feature_names())"
   ]
  },
  {
   "cell_type": "code",
   "execution_count": 21,
   "metadata": {},
   "outputs": [
    {
     "name": "stdout",
     "output_type": "stream",
     "text": [
      "(1891, 53)\n"
     ]
    },
    {
     "data": {
      "text/plain": [
       "Index(['\"', '#', '$', '%', '&', ''', '(', ')', '*', '+', '-', '/', ':', ';',\n",
       "       '=', '?', '[', ']', '_', '£', '¥', '°', 'é', 'ï', 'ǝ', 'ɐ', 'ɓ', 'ɔ',\n",
       "       'ɥ', 'ɯ', 'ɹ', 'ʇ', 'ʍ', 'ʎ', '˙', 'ๅ', 'ᴉ', '‎', '‘', '’', '“', '”',\n",
       "       '…', '⅄', '∀', '「', '」', 'ゴ', '👏', '😂', '😩', '🤡', '🦆'],\n",
       "      dtype='object')"
      ]
     },
     "execution_count": 21,
     "metadata": {},
     "output_type": "execute_result"
    }
   ],
   "source": [
    "print(punc_counts_df.shape)\n",
    "punc_counts_df.columns"
   ]
  },
  {
   "cell_type": "code",
   "execution_count": 22,
   "metadata": {},
   "outputs": [],
   "source": [
    "# Divide this into the 2 subreddits and plot popularity...\n",
    "punc_counts_df[\"is_sub1\"] = all_data[\"is_sub1\"]"
   ]
  },
  {
   "cell_type": "code",
   "execution_count": 23,
   "metadata": {},
   "outputs": [],
   "source": [
    "# make a function that finds the occurrences and makes it nicely formatted\n",
    "\n",
    "def make_occurrence_table(sub1_counts, sub2_counts):\n",
    "    # concat the 2 columns\n",
    "    new_df = pd.concat([sub1_counts, sub2_counts], axis=1)\n",
    "    \n",
    "    # add col for sum\n",
    "    new_df[\"sum\"] = new_df[0] + new_df[1]\n",
    "    \n",
    "    # change the column names\n",
    "    new_df.rename({0 : \"sub1\",\n",
    "                   1 : \"sub2\"}, axis=1, inplace=True)\n",
    "    \n",
    "    # sort by the total occurrences\n",
    "    new_df.sort_values(by=\"sum\", ascending=False, inplace=True)\n",
    "    \n",
    "    \n",
    "    return new_df"
   ]
  },
  {
   "cell_type": "markdown",
   "metadata": {},
   "source": [
    "Make a table that shows popularity of each character between the 2 subreddits"
   ]
  },
  {
   "cell_type": "code",
   "execution_count": 24,
   "metadata": {
    "scrolled": true
   },
   "outputs": [
    {
     "data": {
      "text/html": [
       "<div>\n",
       "<style scoped>\n",
       "    .dataframe tbody tr th:only-of-type {\n",
       "        vertical-align: middle;\n",
       "    }\n",
       "\n",
       "    .dataframe tbody tr th {\n",
       "        vertical-align: top;\n",
       "    }\n",
       "\n",
       "    .dataframe thead th {\n",
       "        text-align: right;\n",
       "    }\n",
       "</style>\n",
       "<table border=\"1\" class=\"dataframe\">\n",
       "  <thead>\n",
       "    <tr style=\"text-align: right;\">\n",
       "      <th></th>\n",
       "      <th>sub1</th>\n",
       "      <th>sub2</th>\n",
       "      <th>sum</th>\n",
       "    </tr>\n",
       "  </thead>\n",
       "  <tbody>\n",
       "    <tr>\n",
       "      <th>'</th>\n",
       "      <td>104</td>\n",
       "      <td>129</td>\n",
       "      <td>233</td>\n",
       "    </tr>\n",
       "    <tr>\n",
       "      <th>’</th>\n",
       "      <td>60</td>\n",
       "      <td>77</td>\n",
       "      <td>137</td>\n",
       "    </tr>\n",
       "    <tr>\n",
       "      <th>\"</th>\n",
       "      <td>53</td>\n",
       "      <td>74</td>\n",
       "      <td>127</td>\n",
       "    </tr>\n",
       "    <tr>\n",
       "      <th>%</th>\n",
       "      <td>43</td>\n",
       "      <td>43</td>\n",
       "      <td>86</td>\n",
       "    </tr>\n",
       "    <tr>\n",
       "      <th>“</th>\n",
       "      <td>31</td>\n",
       "      <td>40</td>\n",
       "      <td>71</td>\n",
       "    </tr>\n",
       "    <tr>\n",
       "      <th>”</th>\n",
       "      <td>30</td>\n",
       "      <td>40</td>\n",
       "      <td>70</td>\n",
       "    </tr>\n",
       "    <tr>\n",
       "      <th>-</th>\n",
       "      <td>27</td>\n",
       "      <td>41</td>\n",
       "      <td>68</td>\n",
       "    </tr>\n",
       "    <tr>\n",
       "      <th>/</th>\n",
       "      <td>23</td>\n",
       "      <td>28</td>\n",
       "      <td>51</td>\n",
       "    </tr>\n",
       "    <tr>\n",
       "      <th>(</th>\n",
       "      <td>24</td>\n",
       "      <td>10</td>\n",
       "      <td>34</td>\n",
       "    </tr>\n",
       "    <tr>\n",
       "      <th>)</th>\n",
       "      <td>24</td>\n",
       "      <td>10</td>\n",
       "      <td>34</td>\n",
       "    </tr>\n",
       "    <tr>\n",
       "      <th>$</th>\n",
       "      <td>13</td>\n",
       "      <td>10</td>\n",
       "      <td>23</td>\n",
       "    </tr>\n",
       "    <tr>\n",
       "      <th>:</th>\n",
       "      <td>10</td>\n",
       "      <td>10</td>\n",
       "      <td>20</td>\n",
       "    </tr>\n",
       "    <tr>\n",
       "      <th>?</th>\n",
       "      <td>5</td>\n",
       "      <td>11</td>\n",
       "      <td>16</td>\n",
       "    </tr>\n",
       "    <tr>\n",
       "      <th>‘</th>\n",
       "      <td>2</td>\n",
       "      <td>5</td>\n",
       "      <td>7</td>\n",
       "    </tr>\n",
       "    <tr>\n",
       "      <th>+</th>\n",
       "      <td>2</td>\n",
       "      <td>4</td>\n",
       "      <td>6</td>\n",
       "    </tr>\n",
       "    <tr>\n",
       "      <th>*</th>\n",
       "      <td>0</td>\n",
       "      <td>4</td>\n",
       "      <td>4</td>\n",
       "    </tr>\n",
       "    <tr>\n",
       "      <th>é</th>\n",
       "      <td>1</td>\n",
       "      <td>2</td>\n",
       "      <td>3</td>\n",
       "    </tr>\n",
       "    <tr>\n",
       "      <th>ɔ</th>\n",
       "      <td>1</td>\n",
       "      <td>1</td>\n",
       "      <td>2</td>\n",
       "    </tr>\n",
       "    <tr>\n",
       "      <th>ɹ</th>\n",
       "      <td>1</td>\n",
       "      <td>1</td>\n",
       "      <td>2</td>\n",
       "    </tr>\n",
       "    <tr>\n",
       "      <th>ᴉ</th>\n",
       "      <td>1</td>\n",
       "      <td>1</td>\n",
       "      <td>2</td>\n",
       "    </tr>\n",
       "    <tr>\n",
       "      <th>ʇ</th>\n",
       "      <td>1</td>\n",
       "      <td>1</td>\n",
       "      <td>2</td>\n",
       "    </tr>\n",
       "    <tr>\n",
       "      <th>…</th>\n",
       "      <td>1</td>\n",
       "      <td>1</td>\n",
       "      <td>2</td>\n",
       "    </tr>\n",
       "    <tr>\n",
       "      <th>ǝ</th>\n",
       "      <td>1</td>\n",
       "      <td>1</td>\n",
       "      <td>2</td>\n",
       "    </tr>\n",
       "    <tr>\n",
       "      <th>ɐ</th>\n",
       "      <td>1</td>\n",
       "      <td>1</td>\n",
       "      <td>2</td>\n",
       "    </tr>\n",
       "    <tr>\n",
       "      <th>£</th>\n",
       "      <td>1</td>\n",
       "      <td>1</td>\n",
       "      <td>2</td>\n",
       "    </tr>\n",
       "    <tr>\n",
       "      <th>°</th>\n",
       "      <td>0</td>\n",
       "      <td>2</td>\n",
       "      <td>2</td>\n",
       "    </tr>\n",
       "    <tr>\n",
       "      <th>]</th>\n",
       "      <td>1</td>\n",
       "      <td>1</td>\n",
       "      <td>2</td>\n",
       "    </tr>\n",
       "    <tr>\n",
       "      <th>[</th>\n",
       "      <td>1</td>\n",
       "      <td>1</td>\n",
       "      <td>2</td>\n",
       "    </tr>\n",
       "    <tr>\n",
       "      <th>=</th>\n",
       "      <td>0</td>\n",
       "      <td>2</td>\n",
       "      <td>2</td>\n",
       "    </tr>\n",
       "    <tr>\n",
       "      <th>ゴ</th>\n",
       "      <td>0</td>\n",
       "      <td>1</td>\n",
       "      <td>1</td>\n",
       "    </tr>\n",
       "    <tr>\n",
       "      <th>」</th>\n",
       "      <td>1</td>\n",
       "      <td>0</td>\n",
       "      <td>1</td>\n",
       "    </tr>\n",
       "    <tr>\n",
       "      <th>「</th>\n",
       "      <td>1</td>\n",
       "      <td>0</td>\n",
       "      <td>1</td>\n",
       "    </tr>\n",
       "    <tr>\n",
       "      <th>∀</th>\n",
       "      <td>1</td>\n",
       "      <td>0</td>\n",
       "      <td>1</td>\n",
       "    </tr>\n",
       "    <tr>\n",
       "      <th>🤡</th>\n",
       "      <td>1</td>\n",
       "      <td>0</td>\n",
       "      <td>1</td>\n",
       "    </tr>\n",
       "    <tr>\n",
       "      <th>😂</th>\n",
       "      <td>1</td>\n",
       "      <td>0</td>\n",
       "      <td>1</td>\n",
       "    </tr>\n",
       "    <tr>\n",
       "      <th>⅄</th>\n",
       "      <td>1</td>\n",
       "      <td>0</td>\n",
       "      <td>1</td>\n",
       "    </tr>\n",
       "    <tr>\n",
       "      <th>😩</th>\n",
       "      <td>0</td>\n",
       "      <td>1</td>\n",
       "      <td>1</td>\n",
       "    </tr>\n",
       "    <tr>\n",
       "      <th>👏</th>\n",
       "      <td>0</td>\n",
       "      <td>1</td>\n",
       "      <td>1</td>\n",
       "    </tr>\n",
       "    <tr>\n",
       "      <th>ɓ</th>\n",
       "      <td>0</td>\n",
       "      <td>1</td>\n",
       "      <td>1</td>\n",
       "    </tr>\n",
       "    <tr>\n",
       "      <th>‎</th>\n",
       "      <td>0</td>\n",
       "      <td>1</td>\n",
       "      <td>1</td>\n",
       "    </tr>\n",
       "    <tr>\n",
       "      <th>ๅ</th>\n",
       "      <td>0</td>\n",
       "      <td>1</td>\n",
       "      <td>1</td>\n",
       "    </tr>\n",
       "    <tr>\n",
       "      <th>˙</th>\n",
       "      <td>1</td>\n",
       "      <td>0</td>\n",
       "      <td>1</td>\n",
       "    </tr>\n",
       "    <tr>\n",
       "      <th>ʎ</th>\n",
       "      <td>0</td>\n",
       "      <td>1</td>\n",
       "      <td>1</td>\n",
       "    </tr>\n",
       "    <tr>\n",
       "      <th>ʍ</th>\n",
       "      <td>0</td>\n",
       "      <td>1</td>\n",
       "      <td>1</td>\n",
       "    </tr>\n",
       "    <tr>\n",
       "      <th>ɯ</th>\n",
       "      <td>0</td>\n",
       "      <td>1</td>\n",
       "      <td>1</td>\n",
       "    </tr>\n",
       "    <tr>\n",
       "      <th>ɥ</th>\n",
       "      <td>0</td>\n",
       "      <td>1</td>\n",
       "      <td>1</td>\n",
       "    </tr>\n",
       "    <tr>\n",
       "      <th>#</th>\n",
       "      <td>0</td>\n",
       "      <td>1</td>\n",
       "      <td>1</td>\n",
       "    </tr>\n",
       "    <tr>\n",
       "      <th>ï</th>\n",
       "      <td>1</td>\n",
       "      <td>0</td>\n",
       "      <td>1</td>\n",
       "    </tr>\n",
       "    <tr>\n",
       "      <th>¥</th>\n",
       "      <td>0</td>\n",
       "      <td>1</td>\n",
       "      <td>1</td>\n",
       "    </tr>\n",
       "    <tr>\n",
       "      <th>_</th>\n",
       "      <td>0</td>\n",
       "      <td>1</td>\n",
       "      <td>1</td>\n",
       "    </tr>\n",
       "    <tr>\n",
       "      <th>;</th>\n",
       "      <td>0</td>\n",
       "      <td>1</td>\n",
       "      <td>1</td>\n",
       "    </tr>\n",
       "    <tr>\n",
       "      <th>&amp;</th>\n",
       "      <td>0</td>\n",
       "      <td>1</td>\n",
       "      <td>1</td>\n",
       "    </tr>\n",
       "    <tr>\n",
       "      <th>🦆</th>\n",
       "      <td>0</td>\n",
       "      <td>1</td>\n",
       "      <td>1</td>\n",
       "    </tr>\n",
       "  </tbody>\n",
       "</table>\n",
       "</div>"
      ],
      "text/plain": [
       "   sub1  sub2  sum\n",
       "'   104   129  233\n",
       "’    60    77  137\n",
       "\"    53    74  127\n",
       "%    43    43   86\n",
       "“    31    40   71\n",
       "”    30    40   70\n",
       "-    27    41   68\n",
       "/    23    28   51\n",
       "(    24    10   34\n",
       ")    24    10   34\n",
       "$    13    10   23\n",
       ":    10    10   20\n",
       "?     5    11   16\n",
       "‘     2     5    7\n",
       "+     2     4    6\n",
       "*     0     4    4\n",
       "é     1     2    3\n",
       "ɔ     1     1    2\n",
       "ɹ     1     1    2\n",
       "ᴉ     1     1    2\n",
       "ʇ     1     1    2\n",
       "…     1     1    2\n",
       "ǝ     1     1    2\n",
       "ɐ     1     1    2\n",
       "£     1     1    2\n",
       "°     0     2    2\n",
       "]     1     1    2\n",
       "[     1     1    2\n",
       "=     0     2    2\n",
       "ゴ     0     1    1\n",
       "」     1     0    1\n",
       "「     1     0    1\n",
       "∀     1     0    1\n",
       "🤡     1     0    1\n",
       "😂     1     0    1\n",
       "⅄     1     0    1\n",
       "😩     0     1    1\n",
       "👏     0     1    1\n",
       "ɓ     0     1    1\n",
       "‎     0     1    1\n",
       "ๅ     0     1    1\n",
       "˙     1     0    1\n",
       "ʎ     0     1    1\n",
       "ʍ     0     1    1\n",
       "ɯ     0     1    1\n",
       "ɥ     0     1    1\n",
       "#     0     1    1\n",
       "ï     1     0    1\n",
       "¥     0     1    1\n",
       "_     0     1    1\n",
       ";     0     1    1\n",
       "&     0     1    1\n",
       "🦆     0     1    1"
      ]
     },
     "execution_count": 24,
     "metadata": {},
     "output_type": "execute_result"
    }
   ],
   "source": [
    "# count weird chars\n",
    "sub1_occurrences = punc_counts_df[punc_counts_df[\"is_sub1\"] == 1].iloc[:,:-1].astype(bool).sum()\n",
    "sub2_occurrences = punc_counts_df[punc_counts_df[\"is_sub1\"] == 0].iloc[:,:-1].astype(bool).sum()\n",
    "\n",
    "occurrence_table = make_occurrence_table(sub1_occurrences, sub2_occurrences)\n",
    "occurrence_table"
   ]
  },
  {
   "cell_type": "markdown",
   "metadata": {},
   "source": [
    "It's pretty clear that there isn't enough data to look at each atypical character individually. I will try and see if the less-used ones are more popular (in general) on any subreddit."
   ]
  },
  {
   "cell_type": "code",
   "execution_count": 25,
   "metadata": {},
   "outputs": [
    {
     "name": "stdout",
     "output_type": "stream",
     "text": [
      "Number of posts containing symbols with <100 occurrence\n",
      "sub1    253\n",
      "sub2    288\n",
      "sum     541\n",
      "dtype: int64\n",
      "\n",
      "Number of posts containing symbols with <50 occurrence\n",
      "sub1     99\n",
      "sub2     96\n",
      "sum     195\n",
      "dtype: int64\n",
      "\n",
      "Number of posts containing symbols with <10 occurrence\n",
      "sub1    23\n",
      "sub2    45\n",
      "sum     68\n",
      "dtype: int64\n",
      "\n",
      "Number of posts containing symbols with <5 occurrence\n",
      "sub1    19\n",
      "sub2    36\n",
      "sum     55\n",
      "dtype: int64\n"
     ]
    }
   ],
   "source": [
    "# See if any subreddit has more \n",
    "\n",
    "# for symbols with <100 occurrences\n",
    "print(\"Number of posts containing symbols with <100 occurrence\")\n",
    "print(occurrence_table[occurrence_table[\"sum\"] < 100].sum())\n",
    "\n",
    "print()\n",
    "\n",
    "print(\"Number of posts containing symbols with <50 occurrence\")\n",
    "print(occurrence_table[occurrence_table[\"sum\"] < 50].sum())\n",
    "\n",
    "print()\n",
    "\n",
    "print(\"Number of posts containing symbols with <10 occurrence\")\n",
    "print(occurrence_table[occurrence_table[\"sum\"] < 10].sum())\n",
    "\n",
    "print()\n",
    "\n",
    "print(\"Number of posts containing symbols with <5 occurrence\")\n",
    "print(occurrence_table[occurrence_table[\"sum\"] < 5].sum())"
   ]
  },
  {
   "cell_type": "markdown",
   "metadata": {},
   "source": [
    "We can see that for these less-used characters, they appear more often in r/godtiersuperpowers for whatever reason so I'll put a column that indicates whether these weird characters are present.\n",
    "\n",
    "I don't want to count how many of the characters there are since a sentence like \"Putting👏claps👏between👏every...\" would end up with a lot, even though it's the same character."
   ]
  },
  {
   "cell_type": "markdown",
   "metadata": {},
   "source": [
    "Also, there were only about 68 of these posts, which is about 3% so it wasn't really worth investigating. I still added it in as a column since I already went through the process of sorting it, however this probably won't have much of an effect so I didn't bother adding a chart here."
   ]
  },
  {
   "cell_type": "code",
   "execution_count": 26,
   "metadata": {},
   "outputs": [
    {
     "data": {
      "text/html": [
       "<div>\n",
       "<style scoped>\n",
       "    .dataframe tbody tr th:only-of-type {\n",
       "        vertical-align: middle;\n",
       "    }\n",
       "\n",
       "    .dataframe tbody tr th {\n",
       "        vertical-align: top;\n",
       "    }\n",
       "\n",
       "    .dataframe thead th {\n",
       "        text-align: right;\n",
       "    }\n",
       "</style>\n",
       "<table border=\"1\" class=\"dataframe\">\n",
       "  <thead>\n",
       "    <tr style=\"text-align: right;\">\n",
       "      <th></th>\n",
       "      <th>title</th>\n",
       "      <th>id</th>\n",
       "      <th>timestamp</th>\n",
       "      <th>is_sub1</th>\n",
       "      <th>days_ago</th>\n",
       "      <th>has_weird_chars</th>\n",
       "    </tr>\n",
       "  </thead>\n",
       "  <tbody>\n",
       "    <tr>\n",
       "      <th>846</th>\n",
       "      <td>you can turn into a goose, once</td>\n",
       "      <td>t3_8hpuvr</td>\n",
       "      <td>1.525719e+09</td>\n",
       "      <td>1</td>\n",
       "      <td>871.466563</td>\n",
       "      <td>0</td>\n",
       "    </tr>\n",
       "    <tr>\n",
       "      <th>805</th>\n",
       "      <td>You can punch with half the strength of someone 2x as strong as you.</td>\n",
       "      <td>t3_8hra7y</td>\n",
       "      <td>1.525729e+09</td>\n",
       "      <td>1</td>\n",
       "      <td>871.342697</td>\n",
       "      <td>0</td>\n",
       "    </tr>\n",
       "    <tr>\n",
       "      <th>589</th>\n",
       "      <td>You can unpee.</td>\n",
       "      <td>t3_8rsl9y</td>\n",
       "      <td>1.529257e+09</td>\n",
       "      <td>1</td>\n",
       "      <td>830.514248</td>\n",
       "      <td>0</td>\n",
       "    </tr>\n",
       "    <tr>\n",
       "      <th>874</th>\n",
       "      <td>You are immune to clickbait, but there are 10 downsides. Number 7 will SHOCK you.</td>\n",
       "      <td>t3_8wloxs</td>\n",
       "      <td>1.530896e+09</td>\n",
       "      <td>1</td>\n",
       "      <td>811.541366</td>\n",
       "      <td>0</td>\n",
       "    </tr>\n",
       "    <tr>\n",
       "      <th>872</th>\n",
       "      <td>Can we get this kid on here</td>\n",
       "      <td>t3_900ux3</td>\n",
       "      <td>1.531959e+09</td>\n",
       "      <td>1</td>\n",
       "      <td>799.240000</td>\n",
       "      <td>0</td>\n",
       "    </tr>\n",
       "  </tbody>\n",
       "</table>\n",
       "</div>"
      ],
      "text/plain": [
       "                                                                                 title  \\\n",
       "846                                                    you can turn into a goose, once   \n",
       "805               You can punch with half the strength of someone 2x as strong as you.   \n",
       "589                                                                     You can unpee.   \n",
       "874  You are immune to clickbait, but there are 10 downsides. Number 7 will SHOCK you.   \n",
       "872                                                        Can we get this kid on here   \n",
       "\n",
       "            id     timestamp  is_sub1    days_ago  has_weird_chars  \n",
       "846  t3_8hpuvr  1.525719e+09        1  871.466563                0  \n",
       "805  t3_8hra7y  1.525729e+09        1  871.342697                0  \n",
       "589  t3_8rsl9y  1.529257e+09        1  830.514248                0  \n",
       "874  t3_8wloxs  1.530896e+09        1  811.541366                0  \n",
       "872  t3_900ux3  1.531959e+09        1  799.240000                0  "
      ]
     },
     "execution_count": 26,
     "metadata": {},
     "output_type": "execute_result"
    }
   ],
   "source": [
    "# based on EDA I identified the most common punctuation\n",
    "# so anything not in this, is considered 'weird'. This only works for English text obv\n",
    "weird_chars_regex = r\"[^A-Za-z \\.\\,\\!\\d\\'\\’\\\"\\%\\“\\”\\-\\/\\(\\)\\$\\:\\?]\"\n",
    "\n",
    "all_data[\"has_weird_chars\"] = all_data[\"title\"].map(\n",
    "    lambda s: 1 if  len(re.findall(weird_chars_regex, s))!=0 else 0)\n",
    "\n",
    "all_data.head()"
   ]
  },
  {
   "cell_type": "code",
   "execution_count": 27,
   "metadata": {},
   "outputs": [
    {
     "data": {
      "text/html": [
       "<div>\n",
       "<style scoped>\n",
       "    .dataframe tbody tr th:only-of-type {\n",
       "        vertical-align: middle;\n",
       "    }\n",
       "\n",
       "    .dataframe tbody tr th {\n",
       "        vertical-align: top;\n",
       "    }\n",
       "\n",
       "    .dataframe thead th {\n",
       "        text-align: right;\n",
       "    }\n",
       "</style>\n",
       "<table border=\"1\" class=\"dataframe\">\n",
       "  <thead>\n",
       "    <tr style=\"text-align: right;\">\n",
       "      <th></th>\n",
       "      <th>title</th>\n",
       "      <th>id</th>\n",
       "      <th>timestamp</th>\n",
       "      <th>is_sub1</th>\n",
       "      <th>days_ago</th>\n",
       "      <th>has_weird_chars</th>\n",
       "    </tr>\n",
       "  </thead>\n",
       "  <tbody>\n",
       "    <tr>\n",
       "      <th>989</th>\n",
       "      <td>You are invincible if you can't fly</td>\n",
       "      <td>t3_d2c1vh</td>\n",
       "      <td>1.568140e+09</td>\n",
       "      <td>0</td>\n",
       "      <td>380.472731</td>\n",
       "      <td>0</td>\n",
       "    </tr>\n",
       "    <tr>\n",
       "      <th>1258</th>\n",
       "      <td>When there is something wrong with you, you will immediately know what's wrong and what to do.</td>\n",
       "      <td>t3_hprb5g</td>\n",
       "      <td>1.594544e+09</td>\n",
       "      <td>0</td>\n",
       "      <td>74.876921</td>\n",
       "      <td>0</td>\n",
       "    </tr>\n",
       "    <tr>\n",
       "      <th>120</th>\n",
       "      <td>You now have 51% chance to win a coin flip</td>\n",
       "      <td>t3_by8pot</td>\n",
       "      <td>1.560005e+09</td>\n",
       "      <td>1</td>\n",
       "      <td>474.628611</td>\n",
       "      <td>0</td>\n",
       "    </tr>\n",
       "    <tr>\n",
       "      <th>1381</th>\n",
       "      <td>Anything that fits in your mouth is now edible and has exclusively positive health benefits.</td>\n",
       "      <td>t3_g2udmv</td>\n",
       "      <td>1.587095e+09</td>\n",
       "      <td>0</td>\n",
       "      <td>161.089051</td>\n",
       "      <td>0</td>\n",
       "    </tr>\n",
       "    <tr>\n",
       "      <th>1642</th>\n",
       "      <td>Every time you're feeling sad or worthless, Keanu Reeves appears next to you and tells you you're breathtaking</td>\n",
       "      <td>t3_bzdigw</td>\n",
       "      <td>1.560265e+09</td>\n",
       "      <td>0</td>\n",
       "      <td>471.624387</td>\n",
       "      <td>0</td>\n",
       "    </tr>\n",
       "  </tbody>\n",
       "</table>\n",
       "</div>"
      ],
      "text/plain": [
       "                                                                                                               title  \\\n",
       "989                                                                              You are invincible if you can't fly   \n",
       "1258                  When there is something wrong with you, you will immediately know what's wrong and what to do.   \n",
       "120                                                                       You now have 51% chance to win a coin flip   \n",
       "1381                    Anything that fits in your mouth is now edible and has exclusively positive health benefits.   \n",
       "1642  Every time you're feeling sad or worthless, Keanu Reeves appears next to you and tells you you're breathtaking   \n",
       "\n",
       "             id     timestamp  is_sub1    days_ago  has_weird_chars  \n",
       "989   t3_d2c1vh  1.568140e+09        0  380.472731                0  \n",
       "1258  t3_hprb5g  1.594544e+09        0   74.876921                0  \n",
       "120   t3_by8pot  1.560005e+09        1  474.628611                0  \n",
       "1381  t3_g2udmv  1.587095e+09        0  161.089051                0  \n",
       "1642  t3_bzdigw  1.560265e+09        0  471.624387                0  "
      ]
     },
     "execution_count": 27,
     "metadata": {},
     "output_type": "execute_result"
    }
   ],
   "source": [
    "all_data.sample(5)"
   ]
  },
  {
   "cell_type": "markdown",
   "metadata": {},
   "source": [
    "## Words formatted as math equations:\n",
    "For some reason, words were able to be formatted as math. Here is an example."
   ]
  },
  {
   "cell_type": "code",
   "execution_count": 28,
   "metadata": {},
   "outputs": [
    {
     "data": {
      "text/html": [
       "<div>\n",
       "<style scoped>\n",
       "    .dataframe tbody tr th:only-of-type {\n",
       "        vertical-align: middle;\n",
       "    }\n",
       "\n",
       "    .dataframe tbody tr th {\n",
       "        vertical-align: top;\n",
       "    }\n",
       "\n",
       "    .dataframe thead th {\n",
       "        text-align: right;\n",
       "    }\n",
       "</style>\n",
       "<table border=\"1\" class=\"dataframe\">\n",
       "  <thead>\n",
       "    <tr style=\"text-align: right;\">\n",
       "      <th></th>\n",
       "      <th>title</th>\n",
       "      <th>id</th>\n",
       "      <th>timestamp</th>\n",
       "      <th>is_sub1</th>\n",
       "      <th>days_ago</th>\n",
       "      <th>has_weird_chars</th>\n",
       "    </tr>\n",
       "  </thead>\n",
       "  <tbody>\n",
       "    <tr>\n",
       "      <th>790</th>\n",
       "      <td>Every time you breathe in $10,000 is transferred into your bank account, however every time you breathe out $10,000 is transferred out of your bank account</td>\n",
       "      <td>t3_cns94t</td>\n",
       "      <td>1.565299e+09</td>\n",
       "      <td>1</td>\n",
       "      <td>413.356435</td>\n",
       "      <td>0</td>\n",
       "    </tr>\n",
       "  </tbody>\n",
       "</table>\n",
       "</div>"
      ],
      "text/plain": [
       "                                                                                                                                                           title  \\\n",
       "790  Every time you breathe in $10,000 is transferred into your bank account, however every time you breathe out $10,000 is transferred out of your bank account   \n",
       "\n",
       "            id     timestamp  is_sub1    days_ago  has_weird_chars  \n",
       "790  t3_cns94t  1.565299e+09        1  413.356435                0  "
      ]
     },
     "execution_count": 28,
     "metadata": {},
     "output_type": "execute_result"
    }
   ],
   "source": [
    "all_data[all_data.index == 790]"
   ]
  },
  {
   "cell_type": "code",
   "execution_count": 29,
   "metadata": {},
   "outputs": [
    {
     "data": {
      "text/plain": [
       "790    Every time you breathe in $10,000 is transferred into your bank account, however every time you breathe out $10,000 is transferred out of your bank account\n",
       "Name: title, dtype: object"
      ]
     },
     "execution_count": 29,
     "metadata": {},
     "output_type": "execute_result"
    }
   ],
   "source": [
    "all_data[all_data.index == 790][\"title\"]"
   ]
  },
  {
   "cell_type": "markdown",
   "metadata": {},
   "source": [
    "It turns out that markdown is formatting it as an equation because of the 2 dollar signs. Like this:\n",
    "\n",
    "- $math$\n",
    "\n",
    "is just\n",
    "\n",
    "- \\\\$ math \\$\n",
    "\n",
    "It isn't formatted differently in the data, it's just displaying wrongly in the jupyter notebook. So this isn't an issue."
   ]
  },
  {
   "cell_type": "markdown",
   "metadata": {},
   "source": [
    "### Completely invisible post titles:\n",
    "Most of the time, there isn't any point in having invisible characters in a post title as readers will not be able to tell it is there. Also this only happens once."
   ]
  },
  {
   "cell_type": "code",
   "execution_count": 30,
   "metadata": {},
   "outputs": [
    {
     "data": {
      "text/html": [
       "<div>\n",
       "<style scoped>\n",
       "    .dataframe tbody tr th:only-of-type {\n",
       "        vertical-align: middle;\n",
       "    }\n",
       "\n",
       "    .dataframe tbody tr th {\n",
       "        vertical-align: top;\n",
       "    }\n",
       "\n",
       "    .dataframe thead th {\n",
       "        text-align: right;\n",
       "    }\n",
       "</style>\n",
       "<table border=\"1\" class=\"dataframe\">\n",
       "  <thead>\n",
       "    <tr style=\"text-align: right;\">\n",
       "      <th></th>\n",
       "      <th>title</th>\n",
       "      <th>id</th>\n",
       "      <th>timestamp</th>\n",
       "      <th>is_sub1</th>\n",
       "      <th>days_ago</th>\n",
       "      <th>has_weird_chars</th>\n",
       "    </tr>\n",
       "  </thead>\n",
       "  <tbody>\n",
       "    <tr>\n",
       "      <th>216</th>\n",
       "      <td>‎ ‎ ‎ ‎ ‎ ‎ ‎ ‎ ‎ ‎ ‎ ‎ ‎ ‎ ‎ ‎ ‎</td>\n",
       "      <td>t3_hkylon</td>\n",
       "      <td>1.593843e+09</td>\n",
       "      <td>1</td>\n",
       "      <td>82.987917</td>\n",
       "      <td>1</td>\n",
       "    </tr>\n",
       "  </tbody>\n",
       "</table>\n",
       "</div>"
      ],
      "text/plain": [
       "                                 title         id     timestamp  is_sub1  \\\n",
       "216  ‎ ‎ ‎ ‎ ‎ ‎ ‎ ‎ ‎ ‎ ‎ ‎ ‎ ‎ ‎ ‎ ‎  t3_hkylon  1.593843e+09        1   \n",
       "\n",
       "      days_ago  has_weird_chars  \n",
       "216  82.987917                1  "
      ]
     },
     "execution_count": 30,
     "metadata": {},
     "output_type": "execute_result"
    }
   ],
   "source": [
    "all_data[all_data.index == 216]"
   ]
  },
  {
   "cell_type": "markdown",
   "metadata": {},
   "source": [
    "For the purposes of this analysis it does nothing as it will either be in the training data and be completely unique or in the test data and give an error, so I'll probably just remove it."
   ]
  },
  {
   "cell_type": "code",
   "execution_count": 31,
   "metadata": {},
   "outputs": [],
   "source": [
    "all_data.drop(all_data[all_data[\"id\"] == \"t3_hkylon\"].index, inplace=True)"
   ]
  },
  {
   "cell_type": "markdown",
   "metadata": {},
   "source": [
    "### Upside Down Characters\n",
    "There were a few posts with upside down text. They were:\n",
    "- \"˙uɐᴉlɐɹʇsn∀ pɐǝɹ uɐɔ no⅄\"\n",
    "- \"ɹǝɓuɐp ǝʇɐᴉpǝɯɯᴉ uᴉ ǝๅᴉɥʍ uɐᴉๅɐɹʇsnɐ uᴉ ǝdʎʇ uɐɔ noʎ\"\n",
    "\n",
    "both of which relate to Australia"
   ]
  },
  {
   "cell_type": "code",
   "execution_count": 32,
   "metadata": {},
   "outputs": [
    {
     "data": {
      "text/html": [
       "<div>\n",
       "<style scoped>\n",
       "    .dataframe tbody tr th:only-of-type {\n",
       "        vertical-align: middle;\n",
       "    }\n",
       "\n",
       "    .dataframe tbody tr th {\n",
       "        vertical-align: top;\n",
       "    }\n",
       "\n",
       "    .dataframe thead th {\n",
       "        text-align: right;\n",
       "    }\n",
       "</style>\n",
       "<table border=\"1\" class=\"dataframe\">\n",
       "  <thead>\n",
       "    <tr style=\"text-align: right;\">\n",
       "      <th></th>\n",
       "      <th>title</th>\n",
       "      <th>id</th>\n",
       "      <th>timestamp</th>\n",
       "      <th>is_sub1</th>\n",
       "      <th>days_ago</th>\n",
       "      <th>has_weird_chars</th>\n",
       "    </tr>\n",
       "  </thead>\n",
       "  <tbody>\n",
       "    <tr>\n",
       "      <th>61</th>\n",
       "      <td>˙uɐᴉlɐɹʇsn∀ pɐǝɹ uɐɔ no⅄</td>\n",
       "      <td>t3_cxtcdl</td>\n",
       "      <td>1.567238e+09</td>\n",
       "      <td>1</td>\n",
       "      <td>390.916898</td>\n",
       "      <td>1</td>\n",
       "    </tr>\n",
       "    <tr>\n",
       "      <th>105</th>\n",
       "      <td>ɹǝɓuɐp ǝʇɐᴉpǝɯɯᴉ uᴉ ǝๅᴉɥʍ uɐᴉๅɐɹʇsnɐ uᴉ ǝdʎʇ uɐɔ noʎ</td>\n",
       "      <td>t3_iur5uv</td>\n",
       "      <td>1.600373e+09</td>\n",
       "      <td>1</td>\n",
       "      <td>7.412951</td>\n",
       "      <td>1</td>\n",
       "    </tr>\n",
       "  </tbody>\n",
       "</table>\n",
       "</div>"
      ],
      "text/plain": [
       "                                                    title         id  \\\n",
       "61                               ˙uɐᴉlɐɹʇsn∀ pɐǝɹ uɐɔ no⅄  t3_cxtcdl   \n",
       "105  ɹǝɓuɐp ǝʇɐᴉpǝɯɯᴉ uᴉ ǝๅᴉɥʍ uɐᴉๅɐɹʇsnɐ uᴉ ǝdʎʇ uɐɔ noʎ  t3_iur5uv   \n",
       "\n",
       "        timestamp  is_sub1    days_ago  has_weird_chars  \n",
       "61   1.567238e+09        1  390.916898                1  \n",
       "105  1.600373e+09        1    7.412951                1  "
      ]
     },
     "execution_count": 32,
     "metadata": {},
     "output_type": "execute_result"
    }
   ],
   "source": [
    "all_data[all_data[\"title\"].str.contains(\"uɐɔ\")]"
   ]
  },
  {
   "cell_type": "markdown",
   "metadata": {},
   "source": [
    "This kind of upside down text only occurs in shittysuperpowers. It's not common and also only in one subreddit so I just dropped it."
   ]
  },
  {
   "cell_type": "code",
   "execution_count": 33,
   "metadata": {},
   "outputs": [],
   "source": [
    "all_data.drop(all_data[all_data[\"id\"] == \"t3_cxtcdl\"].index, inplace=True)\n",
    "all_data.drop(all_data[all_data[\"id\"] == \"t3_iur5uv\"].index, inplace=True)"
   ]
  },
  {
   "cell_type": "markdown",
   "metadata": {},
   "source": [
    "## Words with different 'spellings'\n",
    "The best example is \"pokémon\" vs \"pokemon\" although there are a few other situations where this occurs too. I will replace letters that look like english chars, with the equivalent english char.\n",
    "\n",
    "It's not too complicated to do this so I just made a function below.\n",
    "\n",
    "This is a very English-centric approach and doesn't consider languages where these characters are actually distinct characters, however this is an English based subreddit so I am ok with making this simplifying assumption."
   ]
  },
  {
   "cell_type": "code",
   "execution_count": 34,
   "metadata": {},
   "outputs": [],
   "source": [
    "def replace_diacritics(text):\n",
    "    \n",
    "    # Found some common ones here\n",
    "    # https://www.thoughtco.com/what-is-a-diacritic-mark-1690444\n",
    "    common_letters = {'é' : 'e',\n",
    "                      'ç' : 'c',\n",
    "                      'à' : 'a',\n",
    "                      'ô' : 'o',\n",
    "                      'ë' : 'e',\n",
    "                      'ö' : 'o',\n",
    "                      'ï' : 'i',\n",
    "                      'è' : 'e',\n",
    "                      'ā' : 'a',\n",
    "                      'ñ' : 'n',\n",
    "                      'ã' : 'a'}\n",
    "    for key, value in common_letters.items():\n",
    "        if key not in text:\n",
    "            continue\n",
    "        text = text.replace(key, value)\n",
    "    return text"
   ]
  },
  {
   "cell_type": "code",
   "execution_count": 35,
   "metadata": {},
   "outputs": [],
   "source": [
    "all_data[\"title\"] = all_data[\"title\"].map(replace_diacritics)"
   ]
  },
  {
   "cell_type": "markdown",
   "metadata": {},
   "source": [
    "## Sentence length\n",
    "The last thing I can think of to extract information from the text (apart from the whole vectorizing process done later) is the sentence length.\n",
    "\n",
    "Plot the distribution of sentence lengths between the 2 subreddits."
   ]
  },
  {
   "cell_type": "code",
   "execution_count": 36,
   "metadata": {},
   "outputs": [],
   "source": [
    "def sentence_len(text):\n",
    "    only_chars = r\"[^A-Za-z]\"\n",
    "\n",
    "    text = re.sub(only_chars, \" \", text)\n",
    "        \n",
    "    return len(text.split())"
   ]
  },
  {
   "cell_type": "code",
   "execution_count": 37,
   "metadata": {},
   "outputs": [],
   "source": [
    "all_data[\"sentence_len\"] = all_data[\"title\"].map(sentence_len)"
   ]
  },
  {
   "cell_type": "code",
   "execution_count": 38,
   "metadata": {},
   "outputs": [
    {
     "data": {
      "image/png": "[encoded data removed]",
      "text/plain": [
       "<Figure size 1080x720 with 1 Axes>"
      ]
     },
     "metadata": {},
     "output_type": "display_data"
    }
   ],
   "source": [
    "sns.set_style(\"whitegrid\")\n",
    "plt.figure(figsize=(15,10))\n",
    "\n",
    "ax = sns.distplot(all_data[all_data[\"is_sub1\"] == 1][\"sentence_len\"])\n",
    "\n",
    "ax.set_ylabel(\"Relative popularity\", fontsize=20)\n",
    "ax.set_xlabel(\"Words in Sentence\", fontsize=20)\n",
    "ax.set_title(\"r/shittysuperpowers: sentence lengths\", fontsize=20);"
   ]
  },
  {
   "cell_type": "code",
   "execution_count": 39,
   "metadata": {
    "scrolled": false
   },
   "outputs": [
    {
     "data": {
      "image/png": "[encoded data removed]",
      "text/plain": [
       "<Figure size 1080x720 with 1 Axes>"
      ]
     },
     "metadata": {},
     "output_type": "display_data"
    }
   ],
   "source": [
    "plt.figure(figsize=(15,10))\n",
    "ax = sns.distplot(all_data[all_data[\"is_sub1\"] == 0][\"sentence_len\"])\n",
    "\n",
    "ax.set_ylabel(\"Relative popularity\", fontsize=20)\n",
    "ax.set_xlabel(\"Words in Sentence\", fontsize=20)\n",
    "ax.set_title(\"r/godtiersuperpowers: sentence lengths\", fontsize=20);"
   ]
  },
  {
   "cell_type": "code",
   "execution_count": 40,
   "metadata": {},
   "outputs": [
    {
     "name": "stdout",
     "output_type": "stream",
     "text": [
      "13.985854189336235\n",
      "15.682146542827658\n"
     ]
    }
   ],
   "source": [
    "# get the means of both subreddits:\n",
    "print(all_data[all_data[\"is_sub1\"] == 1][\"sentence_len\"].mean())\n",
    "\n",
    "print(all_data[all_data[\"is_sub1\"] == 0][\"sentence_len\"].mean())"
   ]
  },
  {
   "cell_type": "markdown",
   "metadata": {},
   "source": [
    "Surprisingly the means are kind of different so let's use a t-test to see if they are the same."
   ]
  },
  {
   "cell_type": "code",
   "execution_count": 41,
   "metadata": {},
   "outputs": [
    {
     "data": {
      "text/plain": [
       "Ttest_indResult(statistic=-4.491825237248447, pvalue=7.489254901067547e-06)"
      ]
     },
     "execution_count": 41,
     "metadata": {},
     "output_type": "execute_result"
    }
   ],
   "source": [
    "from scipy.stats import ttest_ind\n",
    "\n",
    "ttest_ind(all_data[all_data[\"is_sub1\"] == 1][\"sentence_len\"],\n",
    "          all_data[all_data[\"is_sub1\"] == 0][\"sentence_len\"])"
   ]
  },
  {
   "cell_type": "markdown",
   "metadata": {},
   "source": [
    "The p value is small so it is unlikely that this is up to chance. Therefore we can conclude that godtiersuperpowers are, on average, a bit longer. So this is good to know when trying to make a model.\n",
    "\n",
    "### Important note for stakeholders\n",
    "The EDA shows that longer sentences are on average more interesting since r/godtiersuperpowers is supposed to be more creative/funny than r/shittysuperpowers and the sentences are longer. So if you want to make a creative or funny sentence for your book/show, maybe make it longer and more detailed."
   ]
  },
  {
   "cell_type": "markdown",
   "metadata": {},
   "source": [
    "## Box plot of sentence lengths\n",
    "It's easier to compare than the histograms above."
   ]
  },
  {
   "cell_type": "code",
   "execution_count": 42,
   "metadata": {},
   "outputs": [
    {
     "data": {
      "image/png": "[encoded data removed]",
      "text/plain": [
       "<Figure size 720x720 with 1 Axes>"
      ]
     },
     "metadata": {},
     "output_type": "display_data"
    }
   ],
   "source": [
    "# boxplot of sentence lengths\n",
    "sns.set_style(\"whitegrid\")\n",
    "plt.figure(figsize=(10,10))\n",
    "ax = sns.boxplot(all_data[\"is_sub1\"], all_data[\"sentence_len\"])\n",
    "\n",
    "ax.set_ylabel(\"Sentence length (# of words)\", fontsize=20)\n",
    "ax.set_xlabel(\"\")\n",
    "ax.set_xticklabels([\"godtiersuperpowers\", \"shittysuperpowers\"], fontsize=20)\n",
    "ax.set_title(\"Sentence Length of top ~1000 posts per subreddit\", fontsize=20);"
   ]
  },
  {
   "cell_type": "markdown",
   "metadata": {},
   "source": [
    "There are outliers but just with regards to sentence length, its not enough grounds to remove them."
   ]
  },
  {
   "cell_type": "markdown",
   "metadata": {},
   "source": [
    "### Word Lengths\n",
    "Another thing that the vectorized words model won't consider is how long the average word is. Maybe one subreddit has more complicated words, which could be more interesting. \n",
    "\n",
    "Vectorized words in a matrix don't consider this, they just consider how often a word appears. Therefore we should investigate this too."
   ]
  },
  {
   "cell_type": "code",
   "execution_count": 188,
   "metadata": {},
   "outputs": [],
   "source": [
    "def word_lengths(text):\n",
    "    \n",
    "    # replace non words with space, except apostrophe\n",
    "    regex_str = r\"[^A-Za-z\\'\\’]\"\n",
    "    regex_apostrophe = \"[\\’\\']\"\n",
    "    text = re.sub(regex_str, \" \", text)\n",
    "    text = re.sub(regex_apostrophe, \"\", text)\n",
    "    \n",
    "    # find the average word length\n",
    "    words = text.split()\n",
    "    \n",
    "    word_lengths = []\n",
    "    \n",
    "    for word in words:\n",
    "        word_lengths.append(len(word))\n",
    "        \n",
    "    return np.mean(word_lengths)"
   ]
  },
  {
   "cell_type": "code",
   "execution_count": 189,
   "metadata": {},
   "outputs": [],
   "source": [
    "all_data[\"avg_word_len\"] = all_data[\"title\"].map(word_lengths)"
   ]
  },
  {
   "cell_type": "code",
   "execution_count": 190,
   "metadata": {},
   "outputs": [
    {
     "data": {
      "text/html": [
       "<div>\n",
       "<style scoped>\n",
       "    .dataframe tbody tr th:only-of-type {\n",
       "        vertical-align: middle;\n",
       "    }\n",
       "\n",
       "    .dataframe tbody tr th {\n",
       "        vertical-align: top;\n",
       "    }\n",
       "\n",
       "    .dataframe thead th {\n",
       "        text-align: right;\n",
       "    }\n",
       "</style>\n",
       "<table border=\"1\" class=\"dataframe\">\n",
       "  <thead>\n",
       "    <tr style=\"text-align: right;\">\n",
       "      <th></th>\n",
       "      <th>title</th>\n",
       "      <th>id</th>\n",
       "      <th>timestamp</th>\n",
       "      <th>is_sub1</th>\n",
       "      <th>days_ago</th>\n",
       "      <th>has_weird_chars</th>\n",
       "      <th>sentence_len</th>\n",
       "      <th>avg_word_len</th>\n",
       "    </tr>\n",
       "  </thead>\n",
       "  <tbody>\n",
       "    <tr>\n",
       "      <th>846</th>\n",
       "      <td>you can turn into a goose once</td>\n",
       "      <td>t3_8hpuvr</td>\n",
       "      <td>1.525719e+09</td>\n",
       "      <td>1</td>\n",
       "      <td>871.466563</td>\n",
       "      <td>0</td>\n",
       "      <td>7</td>\n",
       "      <td>3.428571</td>\n",
       "    </tr>\n",
       "    <tr>\n",
       "      <th>805</th>\n",
       "      <td>you can punch with half the strength of someone x as strong as you</td>\n",
       "      <td>t3_8hra7y</td>\n",
       "      <td>1.525729e+09</td>\n",
       "      <td>1</td>\n",
       "      <td>871.342697</td>\n",
       "      <td>0</td>\n",
       "      <td>14</td>\n",
       "      <td>3.785714</td>\n",
       "    </tr>\n",
       "    <tr>\n",
       "      <th>589</th>\n",
       "      <td>you can unpee</td>\n",
       "      <td>t3_8rsl9y</td>\n",
       "      <td>1.529257e+09</td>\n",
       "      <td>1</td>\n",
       "      <td>830.514248</td>\n",
       "      <td>0</td>\n",
       "      <td>3</td>\n",
       "      <td>3.666667</td>\n",
       "    </tr>\n",
       "    <tr>\n",
       "      <th>874</th>\n",
       "      <td>you are immune to clickbait but there are downsides number will shock you</td>\n",
       "      <td>t3_8wloxs</td>\n",
       "      <td>1.530896e+09</td>\n",
       "      <td>1</td>\n",
       "      <td>811.541366</td>\n",
       "      <td>0</td>\n",
       "      <td>13</td>\n",
       "      <td>4.692308</td>\n",
       "    </tr>\n",
       "    <tr>\n",
       "      <th>872</th>\n",
       "      <td>can we get this kid on here</td>\n",
       "      <td>t3_900ux3</td>\n",
       "      <td>1.531959e+09</td>\n",
       "      <td>1</td>\n",
       "      <td>799.240000</td>\n",
       "      <td>0</td>\n",
       "      <td>7</td>\n",
       "      <td>3.000000</td>\n",
       "    </tr>\n",
       "  </tbody>\n",
       "</table>\n",
       "</div>"
      ],
      "text/plain": [
       "                                                                         title  \\\n",
       "846                                             you can turn into a goose once   \n",
       "805         you can punch with half the strength of someone x as strong as you   \n",
       "589                                                              you can unpee   \n",
       "874  you are immune to clickbait but there are downsides number will shock you   \n",
       "872                                                can we get this kid on here   \n",
       "\n",
       "            id     timestamp  is_sub1    days_ago  has_weird_chars  \\\n",
       "846  t3_8hpuvr  1.525719e+09        1  871.466563                0   \n",
       "805  t3_8hra7y  1.525729e+09        1  871.342697                0   \n",
       "589  t3_8rsl9y  1.529257e+09        1  830.514248                0   \n",
       "874  t3_8wloxs  1.530896e+09        1  811.541366                0   \n",
       "872  t3_900ux3  1.531959e+09        1  799.240000                0   \n",
       "\n",
       "     sentence_len  avg_word_len  \n",
       "846             7      3.428571  \n",
       "805            14      3.785714  \n",
       "589             3      3.666667  \n",
       "874            13      4.692308  \n",
       "872             7      3.000000  "
      ]
     },
     "execution_count": 190,
     "metadata": {},
     "output_type": "execute_result"
    }
   ],
   "source": [
    "all_data.head()"
   ]
  },
  {
   "cell_type": "markdown",
   "metadata": {},
   "source": [
    "Plot the word lengths between the two subreddits"
   ]
  },
  {
   "cell_type": "code",
   "execution_count": 191,
   "metadata": {},
   "outputs": [
    {
     "data": {
      "image/png": "[encoded data removed]",
      "text/plain": [
       "<Figure size 1080x720 with 1 Axes>"
      ]
     },
     "metadata": {},
     "output_type": "display_data"
    }
   ],
   "source": [
    "sns.set_style(\"whitegrid\")\n",
    "plt.figure(figsize=(15,10))\n",
    "\n",
    "ax = sns.distplot(all_data[all_data[\"is_sub1\"] == 1][\"avg_word_len\"])\n",
    "\n",
    "ax.set_ylabel(\"Relative popularity\", fontsize=20)\n",
    "ax.set_xlabel(\"Average word length\", fontsize=20)\n",
    "ax.set_title(\"r/shittysuperpowers: average length of a word\", fontsize=20);"
   ]
  },
  {
   "cell_type": "code",
   "execution_count": 192,
   "metadata": {},
   "outputs": [
    {
     "data": {
      "image/png": "[encoded data removed]",
      "text/plain": [
       "<Figure size 1080x720 with 1 Axes>"
      ]
     },
     "metadata": {},
     "output_type": "display_data"
    }
   ],
   "source": [
    "sns.set_style(\"whitegrid\")\n",
    "plt.figure(figsize=(15,10))\n",
    "\n",
    "ax = sns.distplot(all_data[all_data[\"is_sub1\"] == 0][\"avg_word_len\"])\n",
    "\n",
    "ax.set_ylabel(\"Relative popularity\", fontsize=20)\n",
    "ax.set_xlabel(\"Average word length\", fontsize=20)\n",
    "ax.set_title(\"r/godtiersuperpowers: average length of a word\", fontsize=20);"
   ]
  },
  {
   "cell_type": "markdown",
   "metadata": {},
   "source": [
    "It looks like there might be a difference."
   ]
  },
  {
   "cell_type": "code",
   "execution_count": 193,
   "metadata": {},
   "outputs": [
    {
     "name": "stdout",
     "output_type": "stream",
     "text": [
      "4.379038385466968\n",
      "4.36526934040579\n"
     ]
    }
   ],
   "source": [
    "# print the means\n",
    "\n",
    "print(all_data[all_data[\"is_sub1\"] == 1][\"avg_word_len\"].mean())\n",
    "\n",
    "print(all_data[all_data[\"is_sub1\"] == 0][\"avg_word_len\"].mean())"
   ]
  },
  {
   "cell_type": "code",
   "execution_count": 194,
   "metadata": {},
   "outputs": [
    {
     "data": {
      "text/plain": [
       "Ttest_indResult(statistic=0.4882192389836357, pvalue=0.6254513138225797)"
      ]
     },
     "execution_count": 194,
     "metadata": {},
     "output_type": "execute_result"
    }
   ],
   "source": [
    "# See if there is a difference\n",
    "ttest_ind(all_data[all_data[\"is_sub1\"] == 1][\"avg_word_len\"],\n",
    "          all_data[all_data[\"is_sub1\"] == 0][\"avg_word_len\"])"
   ]
  },
  {
   "cell_type": "markdown",
   "metadata": {},
   "source": [
    "p value is too high so there is no statistical difference between the lengths of words between the 2 subreddits."
   ]
  },
  {
   "cell_type": "code",
   "execution_count": 195,
   "metadata": {},
   "outputs": [],
   "source": [
    "# it's useless so just drop it\n",
    "all_data.drop(\"avg_word_len\", axis=1, inplace=True)"
   ]
  },
  {
   "cell_type": "markdown",
   "metadata": {},
   "source": [
    "## Can we make a model that accurately predicts the category?\n",
    "There seems to be some differences between the two subreddits so I think it may be possible.\n",
    "- Not many posts shared between the two reddits\n",
    "- Difference in sentence length\n",
    "- godtiersuperpowers has more emojis/non-standard chars\n",
    "\n",
    "I will try a baseline model but first we need to make everything lowercase and remove non-letter characters."
   ]
  },
  {
   "cell_type": "markdown",
   "metadata": {},
   "source": [
    "Replace all non-text with spaces, except for apostrophes which are replaced by nothing (so \"you're\" -> \"youre\" and not \"you\" \"re\")"
   ]
  },
  {
   "cell_type": "code",
   "execution_count": 43,
   "metadata": {},
   "outputs": [],
   "source": [
    "# \n",
    "def only_chars_and_lowercase(text):\n",
    "        \n",
    "    regex_str = r\"[^A-Za-z\\'\\’]\"\n",
    "\n",
    "    # word like 'doesn't' should become 'doesnt'\n",
    "    regex_apostrophe = \"[\\’\\']\"\n",
    "\n",
    "    text = re.sub(regex_str, \" \", text)\n",
    "    text = re.sub(regex_apostrophe, \"\", text)\n",
    "\n",
    "    # split into individual words\n",
    "    # this removes excess spaces\n",
    "    text_split = text.split()\n",
    "\n",
    "    # make it lowercase\n",
    "    text_split = [s.lower() for s in text_split]\n",
    "\n",
    "    # combine the words\n",
    "    return \" \".join(text_split)"
   ]
  },
  {
   "cell_type": "code",
   "execution_count": 44,
   "metadata": {},
   "outputs": [],
   "source": [
    "all_data[\"title\"] = all_data[\"title\"].map(only_chars_and_lowercase)"
   ]
  },
  {
   "cell_type": "markdown",
   "metadata": {},
   "source": [
    "Save the data as the cleaned version (uncomment to save)"
   ]
  },
  {
   "cell_type": "code",
   "execution_count": 45,
   "metadata": {},
   "outputs": [
    {
     "name": "stdout",
     "output_type": "stream",
     "text": [
      "done\n"
     ]
    }
   ],
   "source": [
    "# all_data.to_csv(\"../data/cleaned/top_posts_both.csv\")\n",
    "print(\"done\")"
   ]
  },
  {
   "cell_type": "markdown",
   "metadata": {},
   "source": [
    "# Data Dictionary <a class=\"anchor\" id=\"dictionary\"></a>\n",
    "**This table is for the top 1000 posts of each subreddit**.\n",
    "\n",
    "This is because I think that the top posts will give a clearer difference between the 2 subreddits. The hot data is used to check if the model generalizes to other types of posts at the end.\n",
    "\n",
    "|Column|Mean|Standard Deviation|Other Info\n",
    "|---|---|---|---|\n",
    "|title|-|-|The title of the Reddit post. Non-letter characters are removed and turned into spaces, except apostrophes which were just removed. All text is lowercase. Is used for modelling|\n",
    "|id|-|-|The unique ID of the reddit post used to identify duplicates. Not used for modelling.\n",
    "|timestamp|1,573,905,725|14,633,038|Unix timestamp of post date. See 'days ago' column below for more context. Not used for modelling.|\n",
    "|is_sub1|0.487|0.5|1 for shittysuperpowers, 0 for godtiersuperpowers. The target variable|\n",
    "|days_ago|313.7|169.4|How many days ago the post was created, as of Unix time 1601013341. Not used for modelling. Shittysuperpowers has posts that go back significantly longer than godtiersuperpowers but the majority are within about 2-3 years|\n",
    "|has_weird_chars|0.022|0.146|Whether the post title had non-standard characters before cleaning. Is used for modelling. The characters are defined as anything not a letter, digit, space, or these punctuations: ,.!?\"'%“”’)(\\/: These are a lot more common in godtiersuperpowers|\n",
    "|sentence_len|14.86|8.24|Number of words in the sentence. For shittysuperpowers the mean is 13.99 and for godtiersuperpowers the mean is 15.68. Is used for modelling as there was a statistically significant difference. Some posts have very long titles (50+ words) and the shortest just one (e.g. \"This\") but most are within 8-20|\n",
    "\n",
    "\n",
    "The same data was also collected for the 'hot' posts, although the mean and standard deviation will be different. See the corresponding section at the end.\n"
   ]
  },
  {
   "cell_type": "markdown",
   "metadata": {},
   "source": [
    "# Preprocess/Model <a class=\"anchor\" id=\"model\"></a>"
   ]
  },
  {
   "cell_type": "markdown",
   "metadata": {},
   "source": [
    "## Baseline accuracy\n",
    "First, we should establish some baseline metrics so we know if the model works well. First is just taking the mean."
   ]
  },
  {
   "cell_type": "code",
   "execution_count": 46,
   "metadata": {},
   "outputs": [
    {
     "data": {
      "text/plain": [
       "0.5132415254237288"
      ]
     },
     "execution_count": 46,
     "metadata": {},
     "output_type": "execute_result"
    }
   ],
   "source": [
    "1 - all_data[\"is_sub1\"].mean()"
   ]
  },
  {
   "cell_type": "markdown",
   "metadata": {},
   "source": [
    "So on average, if we just guess that a post came from r/godtiersuperpowers we would be correct about 51% of the time. This makes sense since we got 1000 posts from each subreddit (minus a few for NSFW).\n",
    "\n",
    "So if a model can only predict with 50% accuracy then it is just guessing which is not helpful."
   ]
  },
  {
   "cell_type": "markdown",
   "metadata": {},
   "source": [
    "## Based on human guess\n",
    "This seems like a pretty difficult choice of subreddits so I wasn't sure how well models could work. I decided to classify about 100 post titles by hand. The reasoning is that if a human can't classify the posts well it would be hard to do for a computer too.\n",
    "\n",
    "Note: I did this using a spreadsheet on Google Docs, and just picked 100 random posts.\n",
    "\n",
    "I got about 64% of them correct, which is better than just guessing, however it's still not that good. It just shows that these 2 subreddits are very similar. If the final model can be better than this, I will feel satisfied."
   ]
  },
  {
   "cell_type": "markdown",
   "metadata": {},
   "source": [
    "## Basic model\n",
    "First, split data into train and test based on time."
   ]
  },
  {
   "cell_type": "code",
   "execution_count": 47,
   "metadata": {},
   "outputs": [
    {
     "data": {
      "text/html": [
       "<div>\n",
       "<style scoped>\n",
       "    .dataframe tbody tr th:only-of-type {\n",
       "        vertical-align: middle;\n",
       "    }\n",
       "\n",
       "    .dataframe tbody tr th {\n",
       "        vertical-align: top;\n",
       "    }\n",
       "\n",
       "    .dataframe thead th {\n",
       "        text-align: right;\n",
       "    }\n",
       "</style>\n",
       "<table border=\"1\" class=\"dataframe\">\n",
       "  <thead>\n",
       "    <tr style=\"text-align: right;\">\n",
       "      <th></th>\n",
       "      <th>title</th>\n",
       "      <th>id</th>\n",
       "      <th>timestamp</th>\n",
       "      <th>is_sub1</th>\n",
       "      <th>days_ago</th>\n",
       "      <th>has_weird_chars</th>\n",
       "      <th>sentence_len</th>\n",
       "    </tr>\n",
       "  </thead>\n",
       "  <tbody>\n",
       "    <tr>\n",
       "      <th>846</th>\n",
       "      <td>you can turn into a goose once</td>\n",
       "      <td>t3_8hpuvr</td>\n",
       "      <td>1.525719e+09</td>\n",
       "      <td>1</td>\n",
       "      <td>871.466563</td>\n",
       "      <td>0</td>\n",
       "      <td>7</td>\n",
       "    </tr>\n",
       "    <tr>\n",
       "      <th>805</th>\n",
       "      <td>you can punch with half the strength of someone x as strong as you</td>\n",
       "      <td>t3_8hra7y</td>\n",
       "      <td>1.525729e+09</td>\n",
       "      <td>1</td>\n",
       "      <td>871.342697</td>\n",
       "      <td>0</td>\n",
       "      <td>14</td>\n",
       "    </tr>\n",
       "    <tr>\n",
       "      <th>589</th>\n",
       "      <td>you can unpee</td>\n",
       "      <td>t3_8rsl9y</td>\n",
       "      <td>1.529257e+09</td>\n",
       "      <td>1</td>\n",
       "      <td>830.514248</td>\n",
       "      <td>0</td>\n",
       "      <td>3</td>\n",
       "    </tr>\n",
       "    <tr>\n",
       "      <th>874</th>\n",
       "      <td>you are immune to clickbait but there are downsides number will shock you</td>\n",
       "      <td>t3_8wloxs</td>\n",
       "      <td>1.530896e+09</td>\n",
       "      <td>1</td>\n",
       "      <td>811.541366</td>\n",
       "      <td>0</td>\n",
       "      <td>13</td>\n",
       "    </tr>\n",
       "    <tr>\n",
       "      <th>872</th>\n",
       "      <td>can we get this kid on here</td>\n",
       "      <td>t3_900ux3</td>\n",
       "      <td>1.531959e+09</td>\n",
       "      <td>1</td>\n",
       "      <td>799.240000</td>\n",
       "      <td>0</td>\n",
       "      <td>7</td>\n",
       "    </tr>\n",
       "  </tbody>\n",
       "</table>\n",
       "</div>"
      ],
      "text/plain": [
       "                                                                         title  \\\n",
       "846                                             you can turn into a goose once   \n",
       "805         you can punch with half the strength of someone x as strong as you   \n",
       "589                                                              you can unpee   \n",
       "874  you are immune to clickbait but there are downsides number will shock you   \n",
       "872                                                can we get this kid on here   \n",
       "\n",
       "            id     timestamp  is_sub1    days_ago  has_weird_chars  \\\n",
       "846  t3_8hpuvr  1.525719e+09        1  871.466563                0   \n",
       "805  t3_8hra7y  1.525729e+09        1  871.342697                0   \n",
       "589  t3_8rsl9y  1.529257e+09        1  830.514248                0   \n",
       "874  t3_8wloxs  1.530896e+09        1  811.541366                0   \n",
       "872  t3_900ux3  1.531959e+09        1  799.240000                0   \n",
       "\n",
       "     sentence_len  \n",
       "846             7  \n",
       "805            14  \n",
       "589             3  \n",
       "874            13  \n",
       "872             7  "
      ]
     },
     "execution_count": 47,
     "metadata": {},
     "output_type": "execute_result"
    }
   ],
   "source": [
    "all_data.head()"
   ]
  },
  {
   "cell_type": "code",
   "execution_count": 48,
   "metadata": {},
   "outputs": [],
   "source": [
    "# import stuff\n",
    "from sklearn.model_selection import train_test_split\n",
    "from sklearn.pipeline import Pipeline\n",
    "from sklearn.pipeline import FeatureUnion\n",
    "from nltk.stem import PorterStemmer, WordNetLemmatizer\n",
    "from sklearn.feature_extraction.text import ENGLISH_STOP_WORDS\n",
    "from sklearn.naive_bayes import MultinomialNB"
   ]
  },
  {
   "cell_type": "code",
   "execution_count": 49,
   "metadata": {},
   "outputs": [],
   "source": [
    "# train test split\n",
    "X_all = all_data[[\"title\", \"has_weird_chars\", \"sentence_len\"]]\n",
    "y_all = all_data[\"is_sub1\"]\n",
    "\n",
    "# no random state as we are splitting by time\n",
    "X_train, X_test, y_train, y_test = train_test_split(X_all, y_all, shuffle=False)"
   ]
  },
  {
   "cell_type": "markdown",
   "metadata": {},
   "source": [
    "### Create a pipeline that does the following:\n",
    "- stems words\n",
    "- count vectorize the words. This just counts how many times each word appears and puts them into a table.\n",
    "- Add the other 2 columns we want (num of words and whether weird characters exist)\n",
    "- Run it in a naive bayes classifier, which uses the conditional probability that a word is in sub1 but not sub2 (or the other way around) to determine which subreddit a post is likely to be in.\n",
    "\n",
    "For things like stemming I have to wrap it with a class since the base function doesn't implement fit and transform methods\n",
    "\n",
    "Also, for Naive Bayes, it works based on probability. Therefore I have to convert the 'sentence length' column into a boolean variable (right now it's just the number of words which is not boolean).\n",
    "\n",
    "- Average shittysuperpowers sentence length: 13.986\n",
    "- Average godtiersuperpowers sentence length: 15.682\n",
    "\n",
    "The average of these two 14.83, so I just picked the categories as 15+ words and <15 words. Therefore the 'sentence length' column is 1 if there are 15 or more words, if not it's 0."
   ]
  },
  {
   "cell_type": "code",
   "execution_count": 50,
   "metadata": {},
   "outputs": [],
   "source": [
    "# inherit from this which implements fit\n",
    "class BaseClass:\n",
    "    def __init__(self):\n",
    "        pass\n",
    "    # class must implement fit, it doesnt do anything though\n",
    "    def fit(self, X, y=None):\n",
    "        return self\n",
    "\n",
    "# wrapper for stemmer\n",
    "class PorterStemmerWrapper(BaseClass):\n",
    "    \n",
    "    def transform(self, df):\n",
    "        mystemmer = PorterStemmer()\n",
    "        stemmed_words = []\n",
    "        \n",
    "        # loop through all rows\n",
    "        for sentence in df[\"title\"]:\n",
    "            # loop through each word\n",
    "            split_words = sentence.split()\n",
    "            split_words = [mystemmer.stem(s) for s in split_words]\n",
    "            stemmed_words.append(\" \".join(split_words))\n",
    "        \n",
    "        return stemmed_words\n",
    "\n",
    "# I also want to get the 2 columns that I feature engineered\n",
    "# this class will get them only\n",
    "class GetOtherColumns(BaseClass):\n",
    "    \n",
    "    # return the 2 desired columns\n",
    "    def transform(self, df):\n",
    "        return df[[\"has_weird_chars\", \"sentence_len\"]]\n",
    "\n",
    "\n",
    "# same as above but also converts sentence length to boolean\n",
    "# only needed for naive bayes\n",
    "class GetOtherColumnsBayes(BaseClass):\n",
    "    def transform(self, df):\n",
    "        df[\"sentence_len\"] = [1 if s >=15 else 0 for s in df[\"sentence_len\"]]\n",
    "        return df[[\"has_weird_chars\", \"sentence_len\"]]\n",
    "    \n",
    "    \n",
    "# class to make the count/tfidf vectorized data to dense\n",
    "class ToDense(BaseClass):\n",
    "\n",
    "    def transform(self, data):\n",
    "        return data.todense()\n",
    "    \n",
    "# stem and vectorize pipeline\n",
    "steps = [(\"stem\", PorterStemmerWrapper()),\n",
    "         (\"cvec\", CountVectorizer(stop_words=ENGLISH_STOP_WORDS)),\n",
    "         (\"todense\", ToDense())]\n",
    "\n",
    "stem_and_vectorize = Pipeline(steps)\n",
    "\n",
    "# Merge with feature engineered columns\n",
    "preprocess_steps = [(\"stem_vect\", stem_and_vectorize),\n",
    "                    (\"other_cols\", GetOtherColumnsBayes())]\n",
    "\n",
    "all_preprocess = FeatureUnion(preprocess_steps, n_jobs=-1)\n",
    "\n",
    "\n",
    "# after preprocessing use naive bayes\n",
    "final_steps = [(\"preprocess\", all_preprocess),\n",
    "               (\"nbayes\", MultinomialNB())]\n",
    "\n",
    "complete_pipeline = Pipeline(final_steps, verbose = 1)"
   ]
  },
  {
   "cell_type": "code",
   "execution_count": 51,
   "metadata": {
    "scrolled": true
   },
   "outputs": [
    {
     "name": "stdout",
     "output_type": "stream",
     "text": [
      "[Pipeline] ........ (step 1 of 2) Processing preprocess, total=   2.6s\n",
      "[Pipeline] ............ (step 2 of 2) Processing nbayes, total=   0.0s\n",
      "done\n"
     ]
    }
   ],
   "source": [
    "complete_pipeline.fit(X_train, y_train)\n",
    "print(\"done\")"
   ]
  },
  {
   "cell_type": "markdown",
   "metadata": {},
   "source": [
    "### How did this basic model do?"
   ]
  },
  {
   "cell_type": "code",
   "execution_count": 52,
   "metadata": {},
   "outputs": [
    {
     "data": {
      "text/plain": [
       "0.902542372881356"
      ]
     },
     "execution_count": 52,
     "metadata": {},
     "output_type": "execute_result"
    }
   ],
   "source": [
    "complete_pipeline.score(X_train, y_train)"
   ]
  },
  {
   "cell_type": "code",
   "execution_count": 53,
   "metadata": {},
   "outputs": [
    {
     "data": {
      "text/plain": [
       "0.6927966101694916"
      ]
     },
     "execution_count": 53,
     "metadata": {},
     "output_type": "execute_result"
    }
   ],
   "source": [
    "complete_pipeline.score(X_test, y_test)"
   ]
  },
  {
   "cell_type": "markdown",
   "metadata": {},
   "source": [
    "### Analysis of basic model\n",
    "\n",
    "Good points:\n",
    "- the code worked, which is good because I wasn't sure if feature union was used correctly.\n",
    "- The accuracy on test data is already better than when I tried classifying manually.\n",
    "\n",
    "Bad points:\n",
    "- It doesn't generalize very well\n",
    "- I haven't tuned the hyperparameters"
   ]
  },
  {
   "cell_type": "markdown",
   "metadata": {},
   "source": [
    "Next, I can try to do a few things\n",
    "- Try different hyperparameters with grid search CV\n",
    "- Try different model/vectorizer (e.g. tfidf vectorizer, or logistic regression)\n",
    "- Analyze the parameters to see if anything stands out."
   ]
  },
  {
   "cell_type": "markdown",
   "metadata": {},
   "source": [
    "## Try different hyperparameters\n",
    "I already have the pipeline made so I will just try changing hyperparameters.\n",
    "\n",
    "To reduce variance I try to:\n",
    "- Reduce max features - by only predicting using more frequent words I can reduce variance\n",
    "- Ignore words that are very popular since they don't contribute any info\n",
    "- Ignore very uncommon words as they might cause random error."
   ]
  },
  {
   "cell_type": "code",
   "execution_count": 54,
   "metadata": {},
   "outputs": [],
   "source": [
    "from sklearn.model_selection import GridSearchCV"
   ]
  },
  {
   "cell_type": "code",
   "execution_count": 55,
   "metadata": {},
   "outputs": [],
   "source": [
    "params = {\"preprocess__stem_vect__cvec__max_features\" : [100, 500, 1000, 5000, 10_000, None],\n",
    "          \"preprocess__stem_vect__cvec__max_df\" : [1, 0.9, 0.8],\n",
    "          \"preprocess__stem_vect__cvec__min_df\" : [2, 5, 10]}\n",
    "\n",
    "\n",
    "gridsearcher = GridSearchCV(complete_pipeline, params, n_jobs = -1, cv=3, verbose=1)"
   ]
  },
  {
   "cell_type": "code",
   "execution_count": 56,
   "metadata": {
    "scrolled": true
   },
   "outputs": [
    {
     "name": "stdout",
     "output_type": "stream",
     "text": [
      "Fitting 3 folds for each of 54 candidates, totalling 162 fits\n"
     ]
    },
    {
     "name": "stderr",
     "output_type": "stream",
     "text": [
      "[Parallel(n_jobs=-1)]: Using backend LokyBackend with 12 concurrent workers.\n",
      "[Parallel(n_jobs=-1)]: Done  26 tasks      | elapsed:    2.4s\n",
      "[Parallel(n_jobs=-1)]: Done 162 out of 162 | elapsed:   10.1s finished\n"
     ]
    },
    {
     "name": "stdout",
     "output_type": "stream",
     "text": [
      "[Pipeline] ........ (step 1 of 2) Processing preprocess, total=   0.4s\n",
      "[Pipeline] ............ (step 2 of 2) Processing nbayes, total=   0.0s\n",
      "done\n"
     ]
    }
   ],
   "source": [
    "gridsearcher.fit(X_train, y_train)\n",
    "print(\"done\")"
   ]
  },
  {
   "cell_type": "code",
   "execution_count": 57,
   "metadata": {},
   "outputs": [
    {
     "name": "stdout",
     "output_type": "stream",
     "text": [
      "Best accuracy: 0.6271186440677966\n"
     ]
    }
   ],
   "source": [
    "print(\"Best accuracy: {}\".format(gridsearcher.best_score_))\n",
    "best_model = gridsearcher.best_estimator_"
   ]
  },
  {
   "cell_type": "markdown",
   "metadata": {},
   "source": [
    "### Hyperparameters\n",
    "We can see that the ideal max proportion is 0.9 and the best number of features is 500. min_df is 2."
   ]
  },
  {
   "cell_type": "code",
   "execution_count": 58,
   "metadata": {},
   "outputs": [
    {
     "data": {
      "text/plain": [
       "CountVectorizer(max_df=0.9, max_features=500, min_df=2,\n",
       "                stop_words=frozenset({'a', 'about', 'above', 'across', 'after',\n",
       "                                      'afterwards', 'again', 'against', 'all',\n",
       "                                      'almost', 'alone', 'along', 'already',\n",
       "                                      'also', 'although', 'always', 'am',\n",
       "                                      'among', 'amongst', 'amoungst', 'amount',\n",
       "                                      'an', 'and', 'another', 'any', 'anyhow',\n",
       "                                      'anyone', 'anything', 'anyway',\n",
       "                                      'anywhere', ...}))"
      ]
     },
     "execution_count": 58,
     "metadata": {},
     "output_type": "execute_result"
    }
   ],
   "source": [
    "dict(best_model.named_steps[\"preprocess\"].transformer_list).get(\"stem_vect\").named_steps[\"cvec\"]"
   ]
  },
  {
   "cell_type": "markdown",
   "metadata": {},
   "source": [
    "### Accuracy and AUC ROC"
   ]
  },
  {
   "cell_type": "code",
   "execution_count": 59,
   "metadata": {},
   "outputs": [
    {
     "name": "stdout",
     "output_type": "stream",
     "text": [
      "Train score\n",
      "0.7655367231638418\n",
      "Test score\n",
      "0.6673728813559322\n"
     ]
    }
   ],
   "source": [
    "print(\"Train score\")\n",
    "print(best_model.score(X_train, y_train))\n",
    "print(\"Test score\")\n",
    "print(best_model.score(X_test, y_test))"
   ]
  },
  {
   "cell_type": "markdown",
   "metadata": {},
   "source": [
    "The model is doing about as well on the test data but the training score went down, so we can say it generalizes better. Again, it's better than a human so this is good news."
   ]
  },
  {
   "cell_type": "code",
   "execution_count": 60,
   "metadata": {},
   "outputs": [
    {
     "data": {
      "text/plain": [
       "0.6592190165393459"
      ]
     },
     "execution_count": 60,
     "metadata": {},
     "output_type": "execute_result"
    }
   ],
   "source": [
    "# Calculate the AUC ROC\n",
    "from sklearn.metrics import roc_auc_score\n",
    "\n",
    "roc_auc_score(y_test, best_model.predict(X_test))"
   ]
  },
  {
   "cell_type": "markdown",
   "metadata": {},
   "source": [
    "The AUC ROC is about .66, for naive bayes with stemming and count vectorizer."
   ]
  },
  {
   "cell_type": "markdown",
   "metadata": {},
   "source": [
    "# Other models\n",
    "Let's try some other models and see if they can be more accurate. First let's import them and wrap the lemmatizer in a class so it can be pipelined."
   ]
  },
  {
   "cell_type": "code",
   "execution_count": 61,
   "metadata": {},
   "outputs": [],
   "source": [
    "from sklearn.neighbors import KNeighborsClassifier\n",
    "from sklearn.linear_model import LogisticRegression\n",
    "from sklearn.feature_extraction.text import TfidfVectorizer\n",
    "from sklearn.preprocessing import StandardScaler"
   ]
  },
  {
   "cell_type": "code",
   "execution_count": 62,
   "metadata": {},
   "outputs": [],
   "source": [
    "# Put lemmatizer into pipeline, so it needs a wrapper\n",
    "class LemmatizerWrapper(BaseClass):\n",
    "    def transform(self, df):\n",
    "        mylemmatizer = WordNetLemmatizer()\n",
    "        lemmed_words = []\n",
    "        \n",
    "        # loop through all rows\n",
    "        for sentence in df[\"title\"]:\n",
    "            # loop through each word\n",
    "            split_words = sentence.split()\n",
    "            split_words = [mylemmatizer.lemmatize(s) for s in split_words]\n",
    "            lemmed_words.append(\" \".join(split_words))\n",
    "        \n",
    "        return lemmed_words\n"
   ]
  },
  {
   "cell_type": "markdown",
   "metadata": {},
   "source": [
    "There are many combinations I want to test:\n",
    "- Lemmatizing vs Stemming\n",
    "- Count Vectorizing vs TFIDF Vectorizing\n",
    "- KNN vs Naive Bayes vs Logistic Regression vs Other models (e.g. random forest)\n",
    "\n",
    "\n",
    "## KNN\n",
    "Set up a pipeline that lemmatizes, TFIDF vectorizes, then uses KNN. I didn't use StandardScaler on the vectorized words because:\n",
    "- TFIDF makes more important words have larger coefficients, and scales it already.\n",
    "- KNN uses the distance to nearest words, so if an important word is far away I want to penalize it more\n",
    "- [This](https://datascience.stackexchange.com/questions/33730/should-i-rescale-tfidf-features) post on stack overflow says not to\n",
    "\n",
    "I did, however, standard-scale the 2 numeric columns since those were not TFIDF-ed"
   ]
  },
  {
   "cell_type": "code",
   "execution_count": 63,
   "metadata": {},
   "outputs": [],
   "source": [
    "# Lemmatize, then TFIDF\n",
    "steps1 = [(\"lemma\", LemmatizerWrapper()),\n",
    "         (\"tfidf\", TfidfVectorizer(stop_words=ENGLISH_STOP_WORDS)),\n",
    "         (\"todense\", ToDense())]\n",
    "        \n",
    "preprocess_1 = Pipeline(steps1)\n",
    "\n",
    "# get numeric columns then standard scale\n",
    "steps2 = [(\"numeric_cols\" , GetOtherColumns()),\n",
    "          (\"scale\" , StandardScaler())]\n",
    "\n",
    "preprocess_2 = Pipeline(steps2)\n",
    "\n",
    "# concatenate the 2 pipelines\n",
    "preprocess_steps = [(\"lemma_tfidf\", preprocess_1),\n",
    "                    (\"two_cols\", preprocess_2)]\n",
    "\n",
    "all_preprocess = FeatureUnion(preprocess_steps, n_jobs=-1)\n",
    "\n",
    "# Test KNN\n",
    "final_steps = [(\"preprocess\", all_preprocess),\n",
    "               (\"knn\", KNeighborsClassifier())]\n",
    "\n",
    "knn_lemmatize = Pipeline(final_steps, verbose = 1)"
   ]
  },
  {
   "cell_type": "code",
   "execution_count": 64,
   "metadata": {},
   "outputs": [],
   "source": [
    "# Use gridsearch CV to optimize hyperparameters\n",
    "\n",
    "# try parameters near the previous one\n",
    "params = {\"preprocess__lemma_tfidf__tfidf__max_features\" : [500, 1000, 5000],\n",
    "          \"preprocess__lemma_tfidf__tfidf__max_df\" : [0.95, 0.9, 0.85],\n",
    "          \"knn__n_neighbors\" : [3, 5, 7, 10]}\n",
    "\n",
    "\n",
    "knn_gridsearcher = GridSearchCV(knn_lemmatize, params, n_jobs = -1, cv=3, verbose=1)"
   ]
  },
  {
   "cell_type": "code",
   "execution_count": 65,
   "metadata": {
    "scrolled": true
   },
   "outputs": [
    {
     "name": "stdout",
     "output_type": "stream",
     "text": [
      "Fitting 3 folds for each of 36 candidates, totalling 108 fits\n"
     ]
    },
    {
     "name": "stderr",
     "output_type": "stream",
     "text": [
      "[Parallel(n_jobs=-1)]: Using backend LokyBackend with 12 concurrent workers.\n",
      "[Parallel(n_jobs=-1)]: Done  26 tasks      | elapsed:    5.8s\n",
      "[Parallel(n_jobs=-1)]: Done 108 out of 108 | elapsed:   18.5s finished\n"
     ]
    },
    {
     "name": "stdout",
     "output_type": "stream",
     "text": [
      "[Pipeline] ........ (step 1 of 2) Processing preprocess, total=   0.3s\n",
      "[Pipeline] ............... (step 2 of 2) Processing knn, total=   0.6s\n",
      "done\n"
     ]
    }
   ],
   "source": [
    "knn_gridsearcher.fit(X_train, y_train)\n",
    "print(\"done\")"
   ]
  },
  {
   "cell_type": "code",
   "execution_count": 66,
   "metadata": {},
   "outputs": [],
   "source": [
    "best_knn = knn_gridsearcher.best_estimator_"
   ]
  },
  {
   "cell_type": "code",
   "execution_count": 67,
   "metadata": {},
   "outputs": [
    {
     "name": "stdout",
     "output_type": "stream",
     "text": [
      "Train score\n",
      "0.748587570621469\n",
      "\n",
      "Test score\n",
      "0.6186440677966102\n"
     ]
    }
   ],
   "source": [
    "print(\"Train score\")\n",
    "print(best_knn.score(X_train, y_train))\n",
    "print()\n",
    "print(\"Test score\")\n",
    "print(best_knn.score(X_test, y_test))"
   ]
  },
  {
   "cell_type": "markdown",
   "metadata": {},
   "source": [
    "Again it is overfitting. Also the accuracy isn't as good as before so I probably won't use KNN."
   ]
  },
  {
   "cell_type": "markdown",
   "metadata": {},
   "source": [
    "## Logistic Regression"
   ]
  },
  {
   "cell_type": "markdown",
   "metadata": {},
   "source": [
    "Next, try Logistic Regression. I used Lasso since there are probably a lot of words that don't contribute to classification and I want to remove them. The vectorizer already has parameters for max features but that is more of a hard cap."
   ]
  },
  {
   "cell_type": "code",
   "execution_count": 124,
   "metadata": {},
   "outputs": [],
   "source": [
    "# Lemmatize, then TFIDF\n",
    "steps1 = [(\"lemma\", PorterStemmerWrapper()),\n",
    "         (\"tfidf\", TfidfVectorizer(stop_words=ENGLISH_STOP_WORDS, min_df=5)),\n",
    "         (\"todense\", ToDense())]\n",
    "        \n",
    "preprocess_1 = Pipeline(steps1)\n",
    "\n",
    "# The other 2 numeric columns need to be scaled\n",
    "steps2 = [(\"numeric_cols\" , GetOtherColumns()),\n",
    "          (\"scale\" , StandardScaler())]\n",
    "\n",
    "preprocess_2 = Pipeline(steps2)\n",
    "\n",
    "# concat in one pipeline\n",
    "preprocess_steps = [(\"lemma_tfidf\", preprocess_1),\n",
    "                    (\"other_cols\", preprocess_2)]\n",
    "\n",
    "all_preprocess = FeatureUnion(preprocess_steps, n_jobs=-1)\n",
    "\n",
    "\n",
    "# logistic reg with lasso\n",
    "final_steps = [(\"preprocess\", all_preprocess),\n",
    "               (\"logreg\", LogisticRegression(penalty='l1', solver='liblinear'))]\n",
    "\n",
    "logreg_lemmatize = Pipeline(final_steps, verbose = 1)\n",
    "\n",
    "# parameters to try in gridsearch\n",
    "params = {\"preprocess__lemma_tfidf__tfidf__max_features\" : [500, 1000, 5000],\n",
    "          \"preprocess__lemma_tfidf__tfidf__max_df\" : [0.95, 0.9, 0.85],\n",
    "          \"logreg__C\" : [1/c for c in np.linspace(1, 20, 5)]}\n",
    "\n",
    "\n",
    "logreg_gridsearcher = GridSearchCV(logreg_lemmatize, params, n_jobs = -1, cv=3, verbose=1)"
   ]
  },
  {
   "cell_type": "code",
   "execution_count": 121,
   "metadata": {},
   "outputs": [
    {
     "name": "stdout",
     "output_type": "stream",
     "text": [
      "Fitting 3 folds for each of 45 candidates, totalling 135 fits\n"
     ]
    },
    {
     "name": "stderr",
     "output_type": "stream",
     "text": [
      "[Parallel(n_jobs=-1)]: Using backend LokyBackend with 12 concurrent workers.\n",
      "[Parallel(n_jobs=-1)]: Done  26 tasks      | elapsed:    5.7s\n",
      "[Parallel(n_jobs=-1)]: Done 135 out of 135 | elapsed:   12.2s finished\n"
     ]
    },
    {
     "name": "stdout",
     "output_type": "stream",
     "text": [
      "[Pipeline] ........ (step 1 of 2) Processing preprocess, total=   0.4s\n",
      "[Pipeline] ............ (step 2 of 2) Processing logreg, total=   0.0s\n",
      "done\n"
     ]
    }
   ],
   "source": [
    "logreg_gridsearcher.fit(X_train, y_train)\n",
    "print(\"done\")"
   ]
  },
  {
   "cell_type": "code",
   "execution_count": 122,
   "metadata": {},
   "outputs": [],
   "source": [
    "best_logistic = logreg_gridsearcher.best_estimator_"
   ]
  },
  {
   "cell_type": "code",
   "execution_count": 123,
   "metadata": {},
   "outputs": [
    {
     "name": "stdout",
     "output_type": "stream",
     "text": [
      "Train score\n",
      "0.7175141242937854\n",
      "\n",
      "Test score\n",
      "0.625\n"
     ]
    }
   ],
   "source": [
    "print(\"Train score\")\n",
    "print(best_logistic.score(X_train, y_train))\n",
    "print()\n",
    "print(\"Test score\")\n",
    "print(best_logistic.score(X_test, y_test))"
   ]
  },
  {
   "cell_type": "markdown",
   "metadata": {},
   "source": [
    "Get the AUC ROC"
   ]
  },
  {
   "cell_type": "code",
   "execution_count": 72,
   "metadata": {},
   "outputs": [
    {
     "data": {
      "text/plain": [
       "0.6233034191203739"
      ]
     },
     "execution_count": 72,
     "metadata": {},
     "output_type": "execute_result"
    }
   ],
   "source": [
    "logistic_predictions = best_logistic.predict(X_test)\n",
    "roc_auc_score(y_test, logistic_predictions)"
   ]
  },
  {
   "cell_type": "markdown",
   "metadata": {},
   "source": [
    "We can see that logistic regression works better than KNN however not as well as Naive Bayes. I also tried changing between stemmer and lemmers but it doesn't change that much. The best model is probably using Naive Bayes."
   ]
  },
  {
   "cell_type": "markdown",
   "metadata": {},
   "source": [
    "## Best model: Naive Bayes <a class=\"anchor\" id=\"bestmodel\"></a>\n",
    "We can see that the best model to use is Naive Bayes, it gave a better result than the other 2 models. I will try TFIDF vectorizer, and also tune the hyperparameters a bit more. Also, try 2-grams to see if it helps. This is because there may be words that are usually grouped together.\n",
    "\n",
    "Once again the sentence length is converted into a boolean column using the special class made earlier"
   ]
  },
  {
   "cell_type": "code",
   "execution_count": 138,
   "metadata": {},
   "outputs": [],
   "source": [
    "# set up the pipeline again\n",
    "steps = [(\"stem\", PorterStemmerWrapper()),\n",
    "         (\"vectorize\", TfidfVectorizer(ngram_range=(1,2), stop_words=ENGLISH_STOP_WORDS)),\n",
    "         (\"todense\", ToDense())]\n",
    "        \n",
    "preprocess_1 = Pipeline(steps)\n",
    "\n",
    "# The other 2 numeric columns\n",
    "preprocess_steps = [(\"preprocess_1\", preprocess_1),\n",
    "                    (\"other_cols\", GetOtherColumnsBayes())]\n",
    "\n",
    "all_preprocess = FeatureUnion(preprocess_steps, n_jobs=-1)\n",
    "\n",
    "\n",
    "# logistic reg\n",
    "final_steps = [(\"preprocess\", all_preprocess),\n",
    "               (\"nbayes\", MultinomialNB())]\n",
    "\n",
    "nbayes_pipe = Pipeline(final_steps, verbose = 1)\n",
    "\n",
    "# parameters to try in gridsearch\n",
    "params = {\"preprocess__preprocess_1__vectorize__max_features\" : [300, 400, 800],\n",
    "          \"preprocess__preprocess_1__vectorize__max_df\" : [0.95, 0.97],\n",
    "          \"preprocess__preprocess_1__vectorize__min_df\" : [4, 5, 6],\n",
    "          \"preprocess__preprocess_1__vectorize__ngram_range\" : [(1,1), (1,2)]}\n",
    "\n",
    "\n",
    "nbayes_gridsearcher = GridSearchCV(nbayes_pipe, params, n_jobs = -1, cv=5, verbose=1)"
   ]
  },
  {
   "cell_type": "code",
   "execution_count": 139,
   "metadata": {},
   "outputs": [
    {
     "name": "stdout",
     "output_type": "stream",
     "text": [
      "Fitting 5 folds for each of 36 candidates, totalling 180 fits\n"
     ]
    },
    {
     "name": "stderr",
     "output_type": "stream",
     "text": [
      "[Parallel(n_jobs=-1)]: Using backend LokyBackend with 12 concurrent workers.\n",
      "[Parallel(n_jobs=-1)]: Done  26 tasks      | elapsed:    2.1s\n",
      "[Parallel(n_jobs=-1)]: Done 180 out of 180 | elapsed:   11.0s finished\n"
     ]
    },
    {
     "name": "stdout",
     "output_type": "stream",
     "text": [
      "[Pipeline] ........ (step 1 of 2) Processing preprocess, total=   0.3s\n",
      "[Pipeline] ............ (step 2 of 2) Processing nbayes, total=   0.0s\n",
      "done\n"
     ]
    }
   ],
   "source": [
    "nbayes_gridsearcher.fit(X_train, y_train)\n",
    "print(\"done\")"
   ]
  },
  {
   "cell_type": "code",
   "execution_count": 141,
   "metadata": {},
   "outputs": [],
   "source": [
    "best_nbayes_model = nbayes_gridsearcher.best_estimator_"
   ]
  },
  {
   "cell_type": "markdown",
   "metadata": {},
   "source": [
    "Find the hyperparameters the grid search determined was best:"
   ]
  },
  {
   "cell_type": "code",
   "execution_count": 142,
   "metadata": {
    "scrolled": true
   },
   "outputs": [
    {
     "data": {
      "text/plain": [
       "Pipeline(steps=[('preprocess',\n",
       "                 FeatureUnion(n_jobs=-1,\n",
       "                              transformer_list=[('preprocess_1',\n",
       "                                                 Pipeline(steps=[('stem',\n",
       "                                                                  <types.PorterStemmerWrapper object at 0x00000288232EA730>),\n",
       "                                                                 ('vectorize',\n",
       "                                                                  TfidfVectorizer(max_df=0.95,\n",
       "                                                                                  max_features=400,\n",
       "                                                                                  min_df=5,\n",
       "                                                                                  ngram_range=(1,\n",
       "                                                                                               2),\n",
       "                                                                                  stop_words=frozenset({'a',\n",
       "                                                                                                        'about',\n",
       "                                                                                                        'above',\n",
       "                                                                                                        'across',\n",
       "                                                                                                        'after',\n",
       "                                                                                                        'afterwards',\n",
       "                                                                                                        'again',\n",
       "                                                                                                        'against',\n",
       "                                                                                                        'all',\n",
       "                                                                                                        'a...',\n",
       "                                                                                                        'alone',\n",
       "                                                                                                        'along',\n",
       "                                                                                                        'already',\n",
       "                                                                                                        'also',\n",
       "                                                                                                        'although',\n",
       "                                                                                                        'always',\n",
       "                                                                                                        'am',\n",
       "                                                                                                        'among',\n",
       "                                                                                                        'amongst',\n",
       "                                                                                                        'amoungst',\n",
       "                                                                                                        'amount',\n",
       "                                                                                                        'an',\n",
       "                                                                                                        'and',\n",
       "                                                                                                        'another',\n",
       "                                                                                                        'any',\n",
       "                                                                                                        'anyhow',\n",
       "                                                                                                        'anyone',\n",
       "                                                                                                        'anything',\n",
       "                                                                                                        'anyway',\n",
       "                                                                                                        'anywhere', ...}))),\n",
       "                                                                 ('todense',\n",
       "                                                                  <types.ToDense object at 0x0000028822D97BE0>)])),\n",
       "                                                ('other_cols',\n",
       "                                                 <types.GetOtherColumnsBayes object at 0x00000288232EAB20>)])),\n",
       "                ('nbayes', MultinomialNB())],\n",
       "         verbose=1)"
      ]
     },
     "execution_count": 142,
     "metadata": {},
     "output_type": "execute_result"
    }
   ],
   "source": [
    "best_nbayes_model"
   ]
  },
  {
   "cell_type": "markdown",
   "metadata": {},
   "source": [
    "Get the scores"
   ]
  },
  {
   "cell_type": "code",
   "execution_count": 143,
   "metadata": {},
   "outputs": [
    {
     "name": "stdout",
     "output_type": "stream",
     "text": [
      "Train score\n",
      "0.7492937853107344\n",
      "Test score\n",
      "0.6716101694915254\n"
     ]
    }
   ],
   "source": [
    "print(\"Train score\")\n",
    "print(best_nbayes_model.score(X_train, y_train))\n",
    "print(\"Test score\")\n",
    "print(best_nbayes_model.score(X_test, y_test))\n"
   ]
  },
  {
   "cell_type": "code",
   "execution_count": 144,
   "metadata": {},
   "outputs": [
    {
     "name": "stdout",
     "output_type": "stream",
     "text": [
      "AUC ROC\n",
      "0.6659311725877031\n"
     ]
    }
   ],
   "source": [
    "print(\"AUC ROC\")\n",
    "print(roc_auc_score(y_test, best_nbayes_model.predict(X_test)))"
   ]
  },
  {
   "cell_type": "markdown",
   "metadata": {},
   "source": [
    "## Analysis of best model\n",
    "\n",
    "We can see that the best model is Naive Bayes as it has the best accuracy. We then tuned the hyperparameters and reduced the variance. The model has generalized better (not perfectly) and the score is better than a human.\n",
    "\n",
    "These 2 subreddits are difficult to distinguish since they have a lot of similarities, so I am ok with this relatively high rate of error as even a human trying to classify text didn't have very good results (64% human accuracy)\n",
    "\n",
    "Another very interesting thing is that the model prefers to use (up to) 2-grams instead of just 1-grams. Therefore there must be a lot of very common word combinations especially as it went with max_features = 400 which is quite few.\n",
    "\n",
    "Let's see what the model is using to make predictions."
   ]
  },
  {
   "cell_type": "markdown",
   "metadata": {},
   "source": [
    "## Analyze the coefficients of Naive Bayes\n",
    "We would like to see which words contribute the most to classification. Extract the coefficients from the model."
   ]
  },
  {
   "cell_type": "code",
   "execution_count": 145,
   "metadata": {},
   "outputs": [],
   "source": [
    "nbayes_coeffs = list(best_nbayes_model.named_steps[\"nbayes\"].coef_[0])\n",
    "nbayes_counts = list(best_nbayes_model.named_steps[\"nbayes\"].feature_count_[0])"
   ]
  },
  {
   "cell_type": "code",
   "execution_count": 146,
   "metadata": {},
   "outputs": [],
   "source": [
    "# get the words\n",
    "nbayes_words = dict(best_nbayes_model.named_steps[\"preprocess\"].transformer_list).get(\n",
    "                \"preprocess_1\").named_steps[\"vectorize\"].get_feature_names()\n",
    "\n",
    "\n",
    "# add in the sentence length and number of weird chars as params too\n",
    "nbayes_words.extend([\"has_weird_chars\", \"sentence_len\"])"
   ]
  },
  {
   "cell_type": "code",
   "execution_count": 147,
   "metadata": {},
   "outputs": [],
   "source": [
    "# Create a DF with the best words, and their coefficients\n",
    "nbayes_coeffs_df = pd.DataFrame( [nbayes_words, nbayes_coeffs, nbayes_counts]).transpose()\n",
    "\n",
    "nbayes_coeffs_df.columns = [\"word\", \"naive_bayes_coeff\", \"counts\"]"
   ]
  },
  {
   "cell_type": "code",
   "execution_count": 148,
   "metadata": {},
   "outputs": [],
   "source": [
    "# add column with absolute value (for sorting)\n",
    "nbayes_coeffs_df[\"abs_coeff\"] = np.abs(nbayes_coeffs_df[\"naive_bayes_coeff\"])"
   ]
  },
  {
   "cell_type": "markdown",
   "metadata": {},
   "source": [
    "### Most common words:"
   ]
  },
  {
   "cell_type": "code",
   "execution_count": 149,
   "metadata": {},
   "outputs": [
    {
     "data": {
      "text/html": [
       "<div>\n",
       "<style scoped>\n",
       "    .dataframe tbody tr th:only-of-type {\n",
       "        vertical-align: middle;\n",
       "    }\n",
       "\n",
       "    .dataframe tbody tr th {\n",
       "        vertical-align: top;\n",
       "    }\n",
       "\n",
       "    .dataframe thead th {\n",
       "        text-align: right;\n",
       "    }\n",
       "</style>\n",
       "<table border=\"1\" class=\"dataframe\">\n",
       "  <thead>\n",
       "    <tr style=\"text-align: right;\">\n",
       "      <th></th>\n",
       "      <th>word</th>\n",
       "      <th>naive_bayes_coeff</th>\n",
       "      <th>counts</th>\n",
       "      <th>abs_coeff</th>\n",
       "    </tr>\n",
       "  </thead>\n",
       "  <tbody>\n",
       "    <tr>\n",
       "      <th>401</th>\n",
       "      <td>sentence_len</td>\n",
       "      <td>-1.97992</td>\n",
       "      <td>312</td>\n",
       "      <td>1.97992</td>\n",
       "    </tr>\n",
       "    <tr>\n",
       "      <th>10</th>\n",
       "      <td>ani</td>\n",
       "      <td>-4.72382</td>\n",
       "      <td>32.182</td>\n",
       "      <td>4.72382</td>\n",
       "    </tr>\n",
       "    <tr>\n",
       "      <th>294</th>\n",
       "      <td>say</td>\n",
       "      <td>-5.17827</td>\n",
       "      <td>25.6608</td>\n",
       "      <td>5.17827</td>\n",
       "    </tr>\n",
       "    <tr>\n",
       "      <th>350</th>\n",
       "      <td>time</td>\n",
       "      <td>-4.45967</td>\n",
       "      <td>24.8761</td>\n",
       "      <td>4.45967</td>\n",
       "    </tr>\n",
       "    <tr>\n",
       "      <th>107</th>\n",
       "      <td>everi</td>\n",
       "      <td>-4.68237</td>\n",
       "      <td>23.5784</td>\n",
       "      <td>4.68237</td>\n",
       "    </tr>\n",
       "    <tr>\n",
       "      <th>346</th>\n",
       "      <td>thi</td>\n",
       "      <td>-4.84559</td>\n",
       "      <td>19.769</td>\n",
       "      <td>4.84559</td>\n",
       "    </tr>\n",
       "    <tr>\n",
       "      <th>16</th>\n",
       "      <td>anyth</td>\n",
       "      <td>-6.15529</td>\n",
       "      <td>15.5551</td>\n",
       "      <td>6.15529</td>\n",
       "    </tr>\n",
       "    <tr>\n",
       "      <th>210</th>\n",
       "      <td>make</td>\n",
       "      <td>-4.43218</td>\n",
       "      <td>13.6146</td>\n",
       "      <td>4.43218</td>\n",
       "    </tr>\n",
       "    <tr>\n",
       "      <th>9</th>\n",
       "      <td>alway</td>\n",
       "      <td>-5.37646</td>\n",
       "      <td>13.309</td>\n",
       "      <td>5.37646</td>\n",
       "    </tr>\n",
       "    <tr>\n",
       "      <th>316</th>\n",
       "      <td>someon</td>\n",
       "      <td>-4.87849</td>\n",
       "      <td>13.1746</td>\n",
       "      <td>4.87849</td>\n",
       "    </tr>\n",
       "  </tbody>\n",
       "</table>\n",
       "</div>"
      ],
      "text/plain": [
       "             word naive_bayes_coeff   counts abs_coeff\n",
       "401  sentence_len          -1.97992      312   1.97992\n",
       "10            ani          -4.72382   32.182   4.72382\n",
       "294           say          -5.17827  25.6608   5.17827\n",
       "350          time          -4.45967  24.8761   4.45967\n",
       "107         everi          -4.68237  23.5784   4.68237\n",
       "346           thi          -4.84559   19.769   4.84559\n",
       "16          anyth          -6.15529  15.5551   6.15529\n",
       "210          make          -4.43218  13.6146   4.43218\n",
       "9           alway          -5.37646   13.309   5.37646\n",
       "316        someon          -4.87849  13.1746   4.87849"
      ]
     },
     "execution_count": 149,
     "metadata": {},
     "output_type": "execute_result"
    }
   ],
   "source": [
    "# most common words\n",
    "nbayes_coeffs_df.sort_values(by=\"counts\", ascending=False).head(10)"
   ]
  },
  {
   "cell_type": "markdown",
   "metadata": {},
   "source": [
    "**Note**: ignore sentence_len, it's not a word, it's the feature engineered column added in.\n",
    "\n",
    "\"ani\" (any), \"time\", and \"everi\" (every) are the most popular. It seems that a lot of superpowers focus around things like \"any time you do X\", or \"instantly\". Of course this ignores the stop words, and words with >95% occurrence so there might be some words missing from this. It also ignores words that occur less than 5 times.\n",
    "\n",
    "### Important note for stakeholders:\n",
    "As these are the most common words, if you want to make a 'unique' super power then try to stay away from things like \"[Any time/whenever] you [do/say] X, someone will Y\" as they are very overused."
   ]
  },
  {
   "cell_type": "markdown",
   "metadata": {},
   "source": [
    "### Words used for classifying\n",
    "By taking the largest coefficient (absolute value) from the Naive Bayes model, we can see what the model determines to be the words most unique to one subreddit."
   ]
  },
  {
   "cell_type": "code",
   "execution_count": 150,
   "metadata": {
    "scrolled": true
   },
   "outputs": [
    {
     "data": {
      "text/html": [
       "<div>\n",
       "<style scoped>\n",
       "    .dataframe tbody tr th:only-of-type {\n",
       "        vertical-align: middle;\n",
       "    }\n",
       "\n",
       "    .dataframe tbody tr th {\n",
       "        vertical-align: top;\n",
       "    }\n",
       "\n",
       "    .dataframe thead th {\n",
       "        text-align: right;\n",
       "    }\n",
       "</style>\n",
       "<table border=\"1\" class=\"dataframe\">\n",
       "  <thead>\n",
       "    <tr style=\"text-align: right;\">\n",
       "      <th></th>\n",
       "      <th>word</th>\n",
       "      <th>naive_bayes_coeff</th>\n",
       "      <th>counts</th>\n",
       "      <th>abs_coeff</th>\n",
       "    </tr>\n",
       "  </thead>\n",
       "  <tbody>\n",
       "    <tr>\n",
       "      <th>293</th>\n",
       "      <td>said</td>\n",
       "      <td>-7.62537</td>\n",
       "      <td>2.89691</td>\n",
       "      <td>7.62537</td>\n",
       "    </tr>\n",
       "    <tr>\n",
       "      <th>86</th>\n",
       "      <td>did</td>\n",
       "      <td>-7.62537</td>\n",
       "      <td>2.88452</td>\n",
       "      <td>7.62537</td>\n",
       "    </tr>\n",
       "    <tr>\n",
       "      <th>17</th>\n",
       "      <td>anytim</td>\n",
       "      <td>-7.62537</td>\n",
       "      <td>3.7765</td>\n",
       "      <td>7.62537</td>\n",
       "    </tr>\n",
       "    <tr>\n",
       "      <th>134</th>\n",
       "      <td>friend</td>\n",
       "      <td>-7.62537</td>\n",
       "      <td>2.88159</td>\n",
       "      <td>7.62537</td>\n",
       "    </tr>\n",
       "    <tr>\n",
       "      <th>280</th>\n",
       "      <td>real life</td>\n",
       "      <td>-7.62537</td>\n",
       "      <td>3.55231</td>\n",
       "      <td>7.62537</td>\n",
       "    </tr>\n",
       "    <tr>\n",
       "      <th>91</th>\n",
       "      <td>dollar</td>\n",
       "      <td>-7.62537</td>\n",
       "      <td>3.40501</td>\n",
       "      <td>7.62537</td>\n",
       "    </tr>\n",
       "    <tr>\n",
       "      <th>181</th>\n",
       "      <td>item</td>\n",
       "      <td>-7.62537</td>\n",
       "      <td>2.48379</td>\n",
       "      <td>7.62537</td>\n",
       "    </tr>\n",
       "    <tr>\n",
       "      <th>27</th>\n",
       "      <td>bad</td>\n",
       "      <td>-7.34053</td>\n",
       "      <td>3.78142</td>\n",
       "      <td>7.34053</td>\n",
       "    </tr>\n",
       "    <tr>\n",
       "      <th>14</th>\n",
       "      <td>answer</td>\n",
       "      <td>-7.32828</td>\n",
       "      <td>5.3065</td>\n",
       "      <td>7.32828</td>\n",
       "    </tr>\n",
       "    <tr>\n",
       "      <th>357</th>\n",
       "      <td>travel</td>\n",
       "      <td>-7.3212</td>\n",
       "      <td>1.73084</td>\n",
       "      <td>7.3212</td>\n",
       "    </tr>\n",
       "    <tr>\n",
       "      <th>187</th>\n",
       "      <td>knowledg</td>\n",
       "      <td>-7.30946</td>\n",
       "      <td>3.17733</td>\n",
       "      <td>7.30946</td>\n",
       "    </tr>\n",
       "    <tr>\n",
       "      <th>118</th>\n",
       "      <td>fall asleep</td>\n",
       "      <td>-7.29889</td>\n",
       "      <td>2.63407</td>\n",
       "      <td>7.29889</td>\n",
       "    </tr>\n",
       "    <tr>\n",
       "      <th>23</th>\n",
       "      <td>asleep</td>\n",
       "      <td>-7.29889</td>\n",
       "      <td>2.63407</td>\n",
       "      <td>7.29889</td>\n",
       "    </tr>\n",
       "    <tr>\n",
       "      <th>356</th>\n",
       "      <td>transport</td>\n",
       "      <td>-7.27669</td>\n",
       "      <td>2.22262</td>\n",
       "      <td>7.27669</td>\n",
       "    </tr>\n",
       "    <tr>\n",
       "      <th>177</th>\n",
       "      <td>instantli know</td>\n",
       "      <td>-7.27561</td>\n",
       "      <td>3.12258</td>\n",
       "      <td>7.27561</td>\n",
       "    </tr>\n",
       "    <tr>\n",
       "      <th>63</th>\n",
       "      <td>comfort</td>\n",
       "      <td>-7.26916</td>\n",
       "      <td>3.0362</td>\n",
       "      <td>7.26916</td>\n",
       "    </tr>\n",
       "    <tr>\n",
       "      <th>36</th>\n",
       "      <td>better</td>\n",
       "      <td>-7.26293</td>\n",
       "      <td>2.56071</td>\n",
       "      <td>7.26293</td>\n",
       "    </tr>\n",
       "    <tr>\n",
       "      <th>69</th>\n",
       "      <td>convers</td>\n",
       "      <td>-7.26046</td>\n",
       "      <td>2.57344</td>\n",
       "      <td>7.26046</td>\n",
       "    </tr>\n",
       "    <tr>\n",
       "      <th>338</th>\n",
       "      <td>task</td>\n",
       "      <td>-7.25177</td>\n",
       "      <td>3.05556</td>\n",
       "      <td>7.25177</td>\n",
       "    </tr>\n",
       "    <tr>\n",
       "      <th>249</th>\n",
       "      <td>option</td>\n",
       "      <td>-7.23844</td>\n",
       "      <td>3.18774</td>\n",
       "      <td>7.23844</td>\n",
       "    </tr>\n",
       "  </tbody>\n",
       "</table>\n",
       "</div>"
      ],
      "text/plain": [
       "               word naive_bayes_coeff   counts abs_coeff\n",
       "293            said          -7.62537  2.89691   7.62537\n",
       "86              did          -7.62537  2.88452   7.62537\n",
       "17           anytim          -7.62537   3.7765   7.62537\n",
       "134          friend          -7.62537  2.88159   7.62537\n",
       "280       real life          -7.62537  3.55231   7.62537\n",
       "91           dollar          -7.62537  3.40501   7.62537\n",
       "181            item          -7.62537  2.48379   7.62537\n",
       "27              bad          -7.34053  3.78142   7.34053\n",
       "14           answer          -7.32828   5.3065   7.32828\n",
       "357          travel           -7.3212  1.73084    7.3212\n",
       "187        knowledg          -7.30946  3.17733   7.30946\n",
       "118     fall asleep          -7.29889  2.63407   7.29889\n",
       "23           asleep          -7.29889  2.63407   7.29889\n",
       "356       transport          -7.27669  2.22262   7.27669\n",
       "177  instantli know          -7.27561  3.12258   7.27561\n",
       "63          comfort          -7.26916   3.0362   7.26916\n",
       "36           better          -7.26293  2.56071   7.26293\n",
       "69          convers          -7.26046  2.57344   7.26046\n",
       "338            task          -7.25177  3.05556   7.25177\n",
       "249          option          -7.23844  3.18774   7.23844"
      ]
     },
     "execution_count": 150,
     "metadata": {},
     "output_type": "execute_result"
    }
   ],
   "source": [
    "# Sort by abs coeff\n",
    "nbayes_coeffs_df.sort_values(by=\"abs_coeff\", ascending=False).head(20)"
   ]
  },
  {
   "cell_type": "markdown",
   "metadata": {},
   "source": [
    "Here we can see which words Naive Bayes found the most useful in differentiating between the 2 subreddits."
   ]
  },
  {
   "cell_type": "markdown",
   "metadata": {},
   "source": [
    "Just check the original data to see if the coefficients make sense - words in the table above should be strongly related to one subreddit."
   ]
  },
  {
   "cell_type": "code",
   "execution_count": 151,
   "metadata": {
    "scrolled": true
   },
   "outputs": [
    {
     "data": {
      "text/html": [
       "<div>\n",
       "<style scoped>\n",
       "    .dataframe tbody tr th:only-of-type {\n",
       "        vertical-align: middle;\n",
       "    }\n",
       "\n",
       "    .dataframe tbody tr th {\n",
       "        vertical-align: top;\n",
       "    }\n",
       "\n",
       "    .dataframe thead th {\n",
       "        text-align: right;\n",
       "    }\n",
       "</style>\n",
       "<table border=\"1\" class=\"dataframe\">\n",
       "  <thead>\n",
       "    <tr style=\"text-align: right;\">\n",
       "      <th></th>\n",
       "      <th>title</th>\n",
       "      <th>id</th>\n",
       "      <th>timestamp</th>\n",
       "      <th>is_sub1</th>\n",
       "      <th>days_ago</th>\n",
       "      <th>has_weird_chars</th>\n",
       "      <th>sentence_len</th>\n",
       "    </tr>\n",
       "  </thead>\n",
       "  <tbody>\n",
       "    <tr>\n",
       "      <th>1563</th>\n",
       "      <td>if you yell what you are going to do and after say and nobody can fucking stop me nobody even reality and the laws of physics cant stop you from doing what you said you were going do</td>\n",
       "      <td>t3_bx56gt</td>\n",
       "      <td>1.559755e+09</td>\n",
       "      <td>0</td>\n",
       "      <td>477.525069</td>\n",
       "      <td>0</td>\n",
       "      <td>39</td>\n",
       "    </tr>\n",
       "    <tr>\n",
       "      <th>1170</th>\n",
       "      <td>if you invent a meme format you get a share of karma from every meme made in said format</td>\n",
       "      <td>t3_dqjr2c</td>\n",
       "      <td>1.572699e+09</td>\n",
       "      <td>0</td>\n",
       "      <td>327.709664</td>\n",
       "      <td>0</td>\n",
       "      <td>19</td>\n",
       "    </tr>\n",
       "    <tr>\n",
       "      <th>1458</th>\n",
       "      <td>whenever you wish someone else good luck on a task he she is guaranteed to succeed on said task</td>\n",
       "      <td>t3_dz12w8</td>\n",
       "      <td>1.574251e+09</td>\n",
       "      <td>0</td>\n",
       "      <td>309.750289</td>\n",
       "      <td>0</td>\n",
       "      <td>19</td>\n",
       "    </tr>\n",
       "    <tr>\n",
       "      <th>1263</th>\n",
       "      <td>you can breath lighting like a dragon can breath fire but it requires a nearby source of electricity lighting strike transformer battery etc to work and it drains the electricity from said object the more electrical power nearby the more effective your lightning breath</td>\n",
       "      <td>t3_e0et6z</td>\n",
       "      <td>1.574495e+09</td>\n",
       "      <td>0</td>\n",
       "      <td>306.927569</td>\n",
       "      <td>0</td>\n",
       "      <td>44</td>\n",
       "    </tr>\n",
       "    <tr>\n",
       "      <th>1690</th>\n",
       "      <td>you know every stat about every person you meet how many strawberries had this person eaten whats the longest this man has gone between saying hello he said hello at am on thursday november th and did not say hello again until tuesday th at days hours and minutes</td>\n",
       "      <td>t3_eh7op3</td>\n",
       "      <td>1.577636e+09</td>\n",
       "      <td>0</td>\n",
       "      <td>270.569572</td>\n",
       "      <td>1</td>\n",
       "      <td>50</td>\n",
       "    </tr>\n",
       "    <tr>\n",
       "      <th>1133</th>\n",
       "      <td>your internet connection is always optimal no lag that said you cant blame lag for being bad at pvp games but you have super good internet all the time can i get a high five</td>\n",
       "      <td>t3_f12sjo</td>\n",
       "      <td>1.581219e+09</td>\n",
       "      <td>0</td>\n",
       "      <td>229.106921</td>\n",
       "      <td>0</td>\n",
       "      <td>36</td>\n",
       "    </tr>\n",
       "    <tr>\n",
       "      <th>1114</th>\n",
       "      <td>you have a spidey sense except the said object or direction of incoming danger signals you via</td>\n",
       "      <td>t3_f9nan0</td>\n",
       "      <td>1.582690e+09</td>\n",
       "      <td>0</td>\n",
       "      <td>212.080174</td>\n",
       "      <td>1</td>\n",
       "      <td>17</td>\n",
       "    </tr>\n",
       "    <tr>\n",
       "      <th>1154</th>\n",
       "      <td>you can change what you said in an argument if later you think of a better comeback in the shower</td>\n",
       "      <td>t3_hh9ju4</td>\n",
       "      <td>1.593325e+09</td>\n",
       "      <td>0</td>\n",
       "      <td>88.987685</td>\n",
       "      <td>0</td>\n",
       "      <td>20</td>\n",
       "    </tr>\n",
       "    <tr>\n",
       "      <th>1394</th>\n",
       "      <td>you can play back a recording of the last thing someone said when theres a dispute about word usage</td>\n",
       "      <td>t3_hj9dcw</td>\n",
       "      <td>1.593607e+09</td>\n",
       "      <td>0</td>\n",
       "      <td>85.720914</td>\n",
       "      <td>0</td>\n",
       "      <td>20</td>\n",
       "    </tr>\n",
       "    <tr>\n",
       "      <th>670</th>\n",
       "      <td>people fart when theyre around you and you can control the intensity and volume of said farts ex lvl little poot lvl fart their soul out</td>\n",
       "      <td>t3_itjn1g</td>\n",
       "      <td>1.600211e+09</td>\n",
       "      <td>1</td>\n",
       "      <td>9.291782</td>\n",
       "      <td>0</td>\n",
       "      <td>27</td>\n",
       "    </tr>\n",
       "  </tbody>\n",
       "</table>\n",
       "</div>"
      ],
      "text/plain": [
       "                                                                                                                                                                                                                                                                              title  \\\n",
       "1563                                                                                         if you yell what you are going to do and after say and nobody can fucking stop me nobody even reality and the laws of physics cant stop you from doing what you said you were going do   \n",
       "1170                                                                                                                                                                                       if you invent a meme format you get a share of karma from every meme made in said format   \n",
       "1458                                                                                                                                                                                whenever you wish someone else good luck on a task he she is guaranteed to succeed on said task   \n",
       "1263  you can breath lighting like a dragon can breath fire but it requires a nearby source of electricity lighting strike transformer battery etc to work and it drains the electricity from said object the more electrical power nearby the more effective your lightning breath   \n",
       "1690        you know every stat about every person you meet how many strawberries had this person eaten whats the longest this man has gone between saying hello he said hello at am on thursday november th and did not say hello again until tuesday th at days hours and minutes   \n",
       "1133                                                                                                  your internet connection is always optimal no lag that said you cant blame lag for being bad at pvp games but you have super good internet all the time can i get a high five   \n",
       "1114                                                                                                                                                                                 you have a spidey sense except the said object or direction of incoming danger signals you via   \n",
       "1154                                                                                                                                                                              you can change what you said in an argument if later you think of a better comeback in the shower   \n",
       "1394                                                                                                                                                                            you can play back a recording of the last thing someone said when theres a dispute about word usage   \n",
       "670                                                                                                                                        people fart when theyre around you and you can control the intensity and volume of said farts ex lvl little poot lvl fart their soul out   \n",
       "\n",
       "             id     timestamp  is_sub1    days_ago  has_weird_chars  \\\n",
       "1563  t3_bx56gt  1.559755e+09        0  477.525069                0   \n",
       "1170  t3_dqjr2c  1.572699e+09        0  327.709664                0   \n",
       "1458  t3_dz12w8  1.574251e+09        0  309.750289                0   \n",
       "1263  t3_e0et6z  1.574495e+09        0  306.927569                0   \n",
       "1690  t3_eh7op3  1.577636e+09        0  270.569572                1   \n",
       "1133  t3_f12sjo  1.581219e+09        0  229.106921                0   \n",
       "1114  t3_f9nan0  1.582690e+09        0  212.080174                1   \n",
       "1154  t3_hh9ju4  1.593325e+09        0   88.987685                0   \n",
       "1394  t3_hj9dcw  1.593607e+09        0   85.720914                0   \n",
       "670   t3_itjn1g  1.600211e+09        1    9.291782                0   \n",
       "\n",
       "      sentence_len  \n",
       "1563            39  \n",
       "1170            19  \n",
       "1458            19  \n",
       "1263            44  \n",
       "1690            50  \n",
       "1133            36  \n",
       "1114            17  \n",
       "1154            20  \n",
       "1394            20  \n",
       "670             27  "
      ]
     },
     "execution_count": 151,
     "metadata": {},
     "output_type": "execute_result"
    }
   ],
   "source": [
    "# need original data (not X_train) since it has the target col\n",
    "all_data[all_data[\"title\"].str.contains(\"said\")]"
   ]
  },
  {
   "cell_type": "markdown",
   "metadata": {},
   "source": [
    "We can see that if the word 'said' is present, the post probably has is_sub1 = 0 (i.e. it's in godtiersuperpowers)"
   ]
  },
  {
   "cell_type": "markdown",
   "metadata": {},
   "source": [
    "## Investigate words used for classification\n",
    "For the top 100 words, see if it's mostly in one or the other subreddit."
   ]
  },
  {
   "cell_type": "code",
   "execution_count": 154,
   "metadata": {},
   "outputs": [
    {
     "name": "stdout",
     "output_type": "stream",
     "text": [
      "Words mostly in shittysuperpowers\n",
      "batteri, dont know\n",
      "\n",
      "Words mostly in godtiersuperpowers\n",
      "said, did, anytim, friend, real life, dollar, item, bad, answer, travel, knowledg, fall asleep, asleep, transport, comfort, better, task, option, wish, rememb, video, learn, onlin, state, fix, end, argument, draw, earn, new, heal, damag, univers, text, write, paus, type, includ, free, physic, brain, drive, forget, remov, automat, work, food, ask, doubl, whatev\n"
     ]
    }
   ],
   "source": [
    "# get the words used to classify\n",
    "classifier_words = nbayes_coeffs_df.sort_values(by=\"abs_coeff\", ascending=False).head(100)\n",
    "\n",
    "sub1_words = []\n",
    "sub2_words = []\n",
    "\n",
    "# print each word but only if it appears mostly in one or the other\n",
    "for word in classifier_words[\"word\"]:\n",
    "    num_occurrence = all_data[all_data[\"title\"].str.contains(word)][\"is_sub1\"].mean()\n",
    "    if num_occurrence > 0.7:\n",
    "        sub1_words.append(word)\n",
    "    elif num_occurrence < 0.3:\n",
    "        sub2_words.append(word)\n",
    "        \n",
    "print(\"Words mostly in shittysuperpowers\")\n",
    "print(\", \".join(sub1_words))\n",
    "\n",
    "print()\n",
    "\n",
    "print(\"Words mostly in godtiersuperpowers\")\n",
    "print(\", \".join(sub2_words))"
   ]
  },
  {
   "cell_type": "markdown",
   "metadata": {},
   "source": [
    "As we can see most of these words are in r/godtiersuperpowers. This is a very clear result: out of the top 100 classifying words, only 3 were in shittysuperpowers. This means that godtiersuperpowers has a lot more unique-ness within its posts.\n",
    "\n",
    "## Important takeaway for stakeholders\n",
    "**Most of these words that the model to predict are used only occur in godtiersuperpowers** This means that godtiersuperpowers uses more vocabulary than shittysuperpowers. If we follow the subreddit rules this means that using more different vocabulary leads to sentences that are:\n",
    "- funnier\n",
    "- super powers that are unexpectedly useful\n",
    "\n",
    "So if you are a comedian trying to be funny or a writer thinking of new ideas, you should try to be unique and use less common words.\n",
    "\n",
    "The data also shows what makes a superpower either unique or funny - they are ones relating to dreams, saying things, money (dollars), or friends.etc\n",
    "\n",
    "\n",
    "## Word cloud\n",
    "If the whole document was just summarized into one chart, it would be this one. This just shows the most important words that the model used to classify text, and since most of them are from godtiersuperpowers, it just shows how much more vocabulary is used in that subreddit as opposed to the other one.\n",
    "\n",
    "I just made a word cloud online as it lets you pick a super-hero themed shape. Also I made the words into actual english words instead of the stem so it looks nicer."
   ]
  },
  {
   "cell_type": "code",
   "execution_count": 119,
   "metadata": {},
   "outputs": [
    {
     "name": "stdout",
     "output_type": "stream",
     "text": [
      "God Tier Super Powered Words\n"
     ]
    },
    {
     "data": {
      "text/html": [
       "<img src=\"./superpower_wordcloudpng.png\"/>"
      ],
      "text/plain": [
       "<IPython.core.display.Image object>"
      ]
     },
     "execution_count": 119,
     "metadata": {},
     "output_type": "execute_result"
    }
   ],
   "source": [
    "print(\"God Tier Super Powered Words\")\n",
    "Image(url= \"./superpower_wordcloudpng.png\")"
   ]
  },
  {
   "cell_type": "markdown",
   "metadata": {},
   "source": [
    "## Analysis continued\n",
    "\n",
    "We saw that TFIDF with Naive Bayes was the best model. Why is this? (Apart from just having a better accuracy/AUC ROC)\n",
    "\n",
    "TFIDF vs Count Vectorizer didn't have a big change. The benefit of using TFIDF vectorizer is that it accounts for the popularity of a word based on how often it's used. This means that words which are more popular are weighted higher. However, there are 2 major reasons why it didn't create that much of a difference:\n",
    "- Stop words are already removed\n",
    "- Naive Bayes already uses the probability of a word being in a subreddit but not the other one, which does something similar to TFIDF. If a word is very common then Naive Bayes will already ignore it.\n",
    "\n",
    "Why Naive Bayes?\n",
    "- It performed better than the other models tested\n",
    "- The post titles are short so the conditional assumption of Naive Bayes (that words are independent) is probably not too hard to follow, which helps it a bit.\n",
    "- Words which are related were grouped using n-grams which helps this assumption too"
   ]
  },
  {
   "cell_type": "markdown",
   "metadata": {},
   "source": [
    "# Does Model Generalize? <a class=\"anchor\" id=\"hotpost\"></a>\n",
    "So far, we have been testing the model on the top posts of each subreddit. However, I have also scraped the 'hot' posts using the json API. I want to know if the model will work on these as well.\n",
    "\n",
    "As these hot posts are basically just the most recent posts, the model probably won't have as good of a prediction since there is more random error mixed in, e.g. from people not following posting rules.\n",
    "\n",
    "However, it is important to do this since we would like to know if the model can predict interesting sentences in a more noisy environment. It's also a good test to see if the model can generalize to other related, but not identical situations.\n",
    "\n",
    "First, read in the data:"
   ]
  },
  {
   "cell_type": "code",
   "execution_count": 156,
   "metadata": {},
   "outputs": [],
   "source": [
    "# Get hot data\n",
    "hot_sub1 = pd.read_csv(\"../data/scraped_subreddit_1/hot_from_json_1.csv\")\n",
    "hot_sub2 = pd.read_csv(\"../data/scraped_subreddit_2/hot_from_json_2.csv\")\n",
    "\n",
    "hot_sub1[\"is_sub1\"] = 1\n",
    "hot_sub2[\"is_sub1\"] = 0"
   ]
  },
  {
   "cell_type": "code",
   "execution_count": 157,
   "metadata": {},
   "outputs": [],
   "source": [
    "# Remove the rules post\n",
    "hot_sub1.drop(0, axis=0, inplace=True)"
   ]
  },
  {
   "cell_type": "code",
   "execution_count": 158,
   "metadata": {},
   "outputs": [],
   "source": [
    "# Remove the rules and discord posts\n",
    "hot_sub2.drop([0,1], axis=0, inplace=True)"
   ]
  },
  {
   "cell_type": "code",
   "execution_count": 159,
   "metadata": {},
   "outputs": [],
   "source": [
    "# make into one big df\n",
    "all_hot_posts = pd.concat([hot_sub1, hot_sub2])"
   ]
  },
  {
   "cell_type": "code",
   "execution_count": 160,
   "metadata": {},
   "outputs": [],
   "source": [
    "# drop extra col\n",
    "all_hot_posts.drop(\"Unnamed: 0\", axis=1, inplace=True)"
   ]
  },
  {
   "cell_type": "code",
   "execution_count": 161,
   "metadata": {},
   "outputs": [],
   "source": [
    "# rename cols\n",
    "all_hot_posts.rename({\"0\" : \"title\",\n",
    "                 \"1\" : \"id\",\n",
    "                 \"2\" : \"timestamp\"}, axis=1, inplace=True)"
   ]
  },
  {
   "cell_type": "code",
   "execution_count": 162,
   "metadata": {},
   "outputs": [
    {
     "data": {
      "text/html": [
       "<div>\n",
       "<style scoped>\n",
       "    .dataframe tbody tr th:only-of-type {\n",
       "        vertical-align: middle;\n",
       "    }\n",
       "\n",
       "    .dataframe tbody tr th {\n",
       "        vertical-align: top;\n",
       "    }\n",
       "\n",
       "    .dataframe thead th {\n",
       "        text-align: right;\n",
       "    }\n",
       "</style>\n",
       "<table border=\"1\" class=\"dataframe\">\n",
       "  <thead>\n",
       "    <tr style=\"text-align: right;\">\n",
       "      <th></th>\n",
       "      <th>title</th>\n",
       "      <th>id</th>\n",
       "      <th>timestamp</th>\n",
       "      <th>is_sub1</th>\n",
       "    </tr>\n",
       "  </thead>\n",
       "  <tbody>\n",
       "    <tr>\n",
       "      <th>1</th>\n",
       "      <td>Any water gun you shoot fires actual bullets, while any real gun shoots water.</td>\n",
       "      <td>t3_izzgfn</td>\n",
       "      <td>1.601124e+09</td>\n",
       "      <td>1</td>\n",
       "    </tr>\n",
       "    <tr>\n",
       "      <th>2</th>\n",
       "      <td>You now have the ability to make babies cry or shit on command.</td>\n",
       "      <td>t3_j00mg1</td>\n",
       "      <td>1.601129e+09</td>\n",
       "      <td>1</td>\n",
       "    </tr>\n",
       "    <tr>\n",
       "      <th>3</th>\n",
       "      <td>You can make someone pee for you when you feel like peeing.</td>\n",
       "      <td>t3_j00192</td>\n",
       "      <td>1.601126e+09</td>\n",
       "      <td>1</td>\n",
       "    </tr>\n",
       "    <tr>\n",
       "      <th>4</th>\n",
       "      <td>You can predict the end of a movie though it takes as long as the movie itself to to that</td>\n",
       "      <td>t3_iztyol</td>\n",
       "      <td>1.601103e+09</td>\n",
       "      <td>1</td>\n",
       "    </tr>\n",
       "    <tr>\n",
       "      <th>5</th>\n",
       "      <td>You can tell if a person is romantically interested in you but only after you shit your pants in front of them</td>\n",
       "      <td>t3_izw0q5</td>\n",
       "      <td>1.601111e+09</td>\n",
       "      <td>1</td>\n",
       "    </tr>\n",
       "  </tbody>\n",
       "</table>\n",
       "</div>"
      ],
      "text/plain": [
       "                                                                                                            title  \\\n",
       "1                                  Any water gun you shoot fires actual bullets, while any real gun shoots water.   \n",
       "2                                                 You now have the ability to make babies cry or shit on command.   \n",
       "3                                                     You can make someone pee for you when you feel like peeing.   \n",
       "4                       You can predict the end of a movie though it takes as long as the movie itself to to that   \n",
       "5  You can tell if a person is romantically interested in you but only after you shit your pants in front of them   \n",
       "\n",
       "          id     timestamp  is_sub1  \n",
       "1  t3_izzgfn  1.601124e+09        1  \n",
       "2  t3_j00mg1  1.601129e+09        1  \n",
       "3  t3_j00192  1.601126e+09        1  \n",
       "4  t3_iztyol  1.601103e+09        1  \n",
       "5  t3_izw0q5  1.601111e+09        1  "
      ]
     },
     "execution_count": 162,
     "metadata": {},
     "output_type": "execute_result"
    }
   ],
   "source": [
    "all_hot_posts.head()"
   ]
  },
  {
   "cell_type": "markdown",
   "metadata": {},
   "source": [
    "### Data Cleaning\n",
    "Just clean it a bit to make sure there's nothing weird."
   ]
  },
  {
   "cell_type": "code",
   "execution_count": 163,
   "metadata": {},
   "outputs": [
    {
     "data": {
      "text/html": [
       "<div>\n",
       "<style scoped>\n",
       "    .dataframe tbody tr th:only-of-type {\n",
       "        vertical-align: middle;\n",
       "    }\n",
       "\n",
       "    .dataframe tbody tr th {\n",
       "        vertical-align: top;\n",
       "    }\n",
       "\n",
       "    .dataframe thead th {\n",
       "        text-align: right;\n",
       "    }\n",
       "</style>\n",
       "<table border=\"1\" class=\"dataframe\">\n",
       "  <thead>\n",
       "    <tr style=\"text-align: right;\">\n",
       "      <th></th>\n",
       "      <th>title</th>\n",
       "      <th>id</th>\n",
       "      <th>timestamp</th>\n",
       "      <th>is_sub1</th>\n",
       "    </tr>\n",
       "  </thead>\n",
       "  <tbody>\n",
       "    <tr>\n",
       "      <th>1</th>\n",
       "      <td>Any water gun you shoot fires actual bullets, while any real gun shoots water.</td>\n",
       "      <td>t3_izzgfn</td>\n",
       "      <td>1.601124e+09</td>\n",
       "      <td>1</td>\n",
       "    </tr>\n",
       "    <tr>\n",
       "      <th>2</th>\n",
       "      <td>You now have the ability to make babies cry or shit on command.</td>\n",
       "      <td>t3_j00mg1</td>\n",
       "      <td>1.601129e+09</td>\n",
       "      <td>1</td>\n",
       "    </tr>\n",
       "    <tr>\n",
       "      <th>3</th>\n",
       "      <td>You can make someone pee for you when you feel like peeing.</td>\n",
       "      <td>t3_j00192</td>\n",
       "      <td>1.601126e+09</td>\n",
       "      <td>1</td>\n",
       "    </tr>\n",
       "    <tr>\n",
       "      <th>4</th>\n",
       "      <td>You can predict the end of a movie though it takes as long as the movie itself to to that</td>\n",
       "      <td>t3_iztyol</td>\n",
       "      <td>1.601103e+09</td>\n",
       "      <td>1</td>\n",
       "    </tr>\n",
       "    <tr>\n",
       "      <th>5</th>\n",
       "      <td>You can tell if a person is romantically interested in you but only after you shit your pants in front of them</td>\n",
       "      <td>t3_izw0q5</td>\n",
       "      <td>1.601111e+09</td>\n",
       "      <td>1</td>\n",
       "    </tr>\n",
       "    <tr>\n",
       "      <th>...</th>\n",
       "      <td>...</td>\n",
       "      <td>...</td>\n",
       "      <td>...</td>\n",
       "      <td>...</td>\n",
       "    </tr>\n",
       "    <tr>\n",
       "      <th>954</th>\n",
       "      <td>You change your gender after having sex.</td>\n",
       "      <td>t3_ixlkub</td>\n",
       "      <td>1.600803e+09</td>\n",
       "      <td>1</td>\n",
       "    </tr>\n",
       "    <tr>\n",
       "      <th>955</th>\n",
       "      <td>Whenever you say “Or is it?”, Vsauce music starts playing</td>\n",
       "      <td>t3_ixqyc6</td>\n",
       "      <td>1.600821e+09</td>\n",
       "      <td>1</td>\n",
       "    </tr>\n",
       "    <tr>\n",
       "      <th>956</th>\n",
       "      <td>You get to choose your own power in the comments and I reply with side effects</td>\n",
       "      <td>t3_ixx5hq</td>\n",
       "      <td>1.600840e+09</td>\n",
       "      <td>1</td>\n",
       "    </tr>\n",
       "    <tr>\n",
       "      <th>957</th>\n",
       "      <td>You summon any object in front of you by scheming at the top of your lungs \"GIVE ME (insert object here)!\"</td>\n",
       "      <td>t3_ixyibi</td>\n",
       "      <td>1.600845e+09</td>\n",
       "      <td>1</td>\n",
       "    </tr>\n",
       "    <tr>\n",
       "      <th>958</th>\n",
       "      <td>Everytime you sneeze, you teleport, you cant control your sneezes or where you teleport to.</td>\n",
       "      <td>t3_ixvm10</td>\n",
       "      <td>1.600835e+09</td>\n",
       "      <td>1</td>\n",
       "    </tr>\n",
       "  </tbody>\n",
       "</table>\n",
       "<p>536 rows × 4 columns</p>\n",
       "</div>"
      ],
      "text/plain": [
       "                                                                                                              title  \\\n",
       "1                                    Any water gun you shoot fires actual bullets, while any real gun shoots water.   \n",
       "2                                                   You now have the ability to make babies cry or shit on command.   \n",
       "3                                                       You can make someone pee for you when you feel like peeing.   \n",
       "4                         You can predict the end of a movie though it takes as long as the movie itself to to that   \n",
       "5    You can tell if a person is romantically interested in you but only after you shit your pants in front of them   \n",
       "..                                                                                                              ...   \n",
       "954                                                                        You change your gender after having sex.   \n",
       "955                                                       Whenever you say “Or is it?”, Vsauce music starts playing   \n",
       "956                                  You get to choose your own power in the comments and I reply with side effects   \n",
       "957      You summon any object in front of you by scheming at the top of your lungs \"GIVE ME (insert object here)!\"   \n",
       "958                     Everytime you sneeze, you teleport, you cant control your sneezes or where you teleport to.   \n",
       "\n",
       "            id     timestamp  is_sub1  \n",
       "1    t3_izzgfn  1.601124e+09        1  \n",
       "2    t3_j00mg1  1.601129e+09        1  \n",
       "3    t3_j00192  1.601126e+09        1  \n",
       "4    t3_iztyol  1.601103e+09        1  \n",
       "5    t3_izw0q5  1.601111e+09        1  \n",
       "..         ...           ...      ...  \n",
       "954  t3_ixlkub  1.600803e+09        1  \n",
       "955  t3_ixqyc6  1.600821e+09        1  \n",
       "956  t3_ixx5hq  1.600840e+09        1  \n",
       "957  t3_ixyibi  1.600845e+09        1  \n",
       "958  t3_ixvm10  1.600835e+09        1  \n",
       "\n",
       "[536 rows x 4 columns]"
      ]
     },
     "execution_count": 163,
     "metadata": {},
     "output_type": "execute_result"
    }
   ],
   "source": [
    "# check for duplicates, there's a lot\n",
    "all_hot_posts[all_hot_posts.duplicated(subset=\"id\", keep=False)]"
   ]
  },
  {
   "cell_type": "markdown",
   "metadata": {},
   "source": [
    "I want to avoid posts that are in both subreddits so I dropped them."
   ]
  },
  {
   "cell_type": "code",
   "execution_count": 164,
   "metadata": {},
   "outputs": [],
   "source": [
    "# remove them (all duplicates, don't keep any)\n",
    "all_hot_posts.drop(all_hot_posts.index[all_hot_posts.duplicated(subset=\"id\", keep=False)],\n",
    "                   inplace=True)"
   ]
  },
  {
   "cell_type": "markdown",
   "metadata": {},
   "source": [
    "I also want to check if any post was submitted twice in case people submitted it to both subreddits."
   ]
  },
  {
   "cell_type": "code",
   "execution_count": 165,
   "metadata": {},
   "outputs": [
    {
     "data": {
      "text/html": [
       "<div>\n",
       "<style scoped>\n",
       "    .dataframe tbody tr th:only-of-type {\n",
       "        vertical-align: middle;\n",
       "    }\n",
       "\n",
       "    .dataframe tbody tr th {\n",
       "        vertical-align: top;\n",
       "    }\n",
       "\n",
       "    .dataframe thead th {\n",
       "        text-align: right;\n",
       "    }\n",
       "</style>\n",
       "<table border=\"1\" class=\"dataframe\">\n",
       "  <thead>\n",
       "    <tr style=\"text-align: right;\">\n",
       "      <th></th>\n",
       "      <th>title</th>\n",
       "      <th>id</th>\n",
       "      <th>timestamp</th>\n",
       "      <th>is_sub1</th>\n",
       "    </tr>\n",
       "  </thead>\n",
       "  <tbody>\n",
       "    <tr>\n",
       "      <th>547</th>\n",
       "      <td>Whenever you say “Is it possible to learn this power” you immediately learn it</td>\n",
       "      <td>t3_ivgaw0</td>\n",
       "      <td>1.600498e+09</td>\n",
       "      <td>1</td>\n",
       "    </tr>\n",
       "    <tr>\n",
       "      <th>309</th>\n",
       "      <td>Whenever you say “Is it possible to learn this power” you immediately learn it</td>\n",
       "      <td>t3_ivkdxz</td>\n",
       "      <td>1.600513e+09</td>\n",
       "      <td>0</td>\n",
       "    </tr>\n",
       "    <tr>\n",
       "      <th>593</th>\n",
       "      <td>You can reverse anything</td>\n",
       "      <td>t3_it1bb4</td>\n",
       "      <td>1.600171e+09</td>\n",
       "      <td>0</td>\n",
       "    </tr>\n",
       "    <tr>\n",
       "      <th>603</th>\n",
       "      <td>You have the ability to manipulate probability</td>\n",
       "      <td>t3_isnxt7</td>\n",
       "      <td>1.600129e+09</td>\n",
       "      <td>0</td>\n",
       "    </tr>\n",
       "    <tr>\n",
       "      <th>617</th>\n",
       "      <td>You have the ability to manipulate probability</td>\n",
       "      <td>t3_ispaj5</td>\n",
       "      <td>1.600133e+09</td>\n",
       "      <td>0</td>\n",
       "    </tr>\n",
       "    <tr>\n",
       "      <th>629</th>\n",
       "      <td>You can reverse anything</td>\n",
       "      <td>t3_it1bbb</td>\n",
       "      <td>1.600171e+09</td>\n",
       "      <td>0</td>\n",
       "    </tr>\n",
       "  </tbody>\n",
       "</table>\n",
       "</div>"
      ],
      "text/plain": [
       "                                                                              title  \\\n",
       "547  Whenever you say “Is it possible to learn this power” you immediately learn it   \n",
       "309  Whenever you say “Is it possible to learn this power” you immediately learn it   \n",
       "593                                                        You can reverse anything   \n",
       "603                                  You have the ability to manipulate probability   \n",
       "617                                  You have the ability to manipulate probability   \n",
       "629                                                        You can reverse anything   \n",
       "\n",
       "            id     timestamp  is_sub1  \n",
       "547  t3_ivgaw0  1.600498e+09        1  \n",
       "309  t3_ivkdxz  1.600513e+09        0  \n",
       "593  t3_it1bb4  1.600171e+09        0  \n",
       "603  t3_isnxt7  1.600129e+09        0  \n",
       "617  t3_ispaj5  1.600133e+09        0  \n",
       "629  t3_it1bbb  1.600171e+09        0  "
      ]
     },
     "execution_count": 165,
     "metadata": {},
     "output_type": "execute_result"
    }
   ],
   "source": [
    "# check for duplicated titles\n",
    "all_hot_posts[all_hot_posts.duplicated(subset=\"title\", keep=False)]"
   ]
  },
  {
   "cell_type": "code",
   "execution_count": 166,
   "metadata": {},
   "outputs": [],
   "source": [
    "# remove the one that is in both subreddits\n",
    "all_hot_posts.drop(all_hot_posts.index[all_hot_posts[\"id\"].isin([\"t3_ivgaw0\", \"t3_ivkdxz\"])],\n",
    "                   inplace=True)"
   ]
  },
  {
   "cell_type": "markdown",
   "metadata": {},
   "source": [
    "Also for the posts below they were submitted twice to the same subreddit. Not sure if it counts as a different post, but I just removed one copy."
   ]
  },
  {
   "cell_type": "code",
   "execution_count": 167,
   "metadata": {},
   "outputs": [
    {
     "data": {
      "text/html": [
       "<div>\n",
       "<style scoped>\n",
       "    .dataframe tbody tr th:only-of-type {\n",
       "        vertical-align: middle;\n",
       "    }\n",
       "\n",
       "    .dataframe tbody tr th {\n",
       "        vertical-align: top;\n",
       "    }\n",
       "\n",
       "    .dataframe thead th {\n",
       "        text-align: right;\n",
       "    }\n",
       "</style>\n",
       "<table border=\"1\" class=\"dataframe\">\n",
       "  <thead>\n",
       "    <tr style=\"text-align: right;\">\n",
       "      <th></th>\n",
       "      <th>title</th>\n",
       "      <th>id</th>\n",
       "      <th>timestamp</th>\n",
       "      <th>is_sub1</th>\n",
       "    </tr>\n",
       "  </thead>\n",
       "  <tbody>\n",
       "    <tr>\n",
       "      <th>593</th>\n",
       "      <td>You can reverse anything</td>\n",
       "      <td>t3_it1bb4</td>\n",
       "      <td>1.600171e+09</td>\n",
       "      <td>0</td>\n",
       "    </tr>\n",
       "    <tr>\n",
       "      <th>603</th>\n",
       "      <td>You have the ability to manipulate probability</td>\n",
       "      <td>t3_isnxt7</td>\n",
       "      <td>1.600129e+09</td>\n",
       "      <td>0</td>\n",
       "    </tr>\n",
       "    <tr>\n",
       "      <th>617</th>\n",
       "      <td>You have the ability to manipulate probability</td>\n",
       "      <td>t3_ispaj5</td>\n",
       "      <td>1.600133e+09</td>\n",
       "      <td>0</td>\n",
       "    </tr>\n",
       "    <tr>\n",
       "      <th>629</th>\n",
       "      <td>You can reverse anything</td>\n",
       "      <td>t3_it1bbb</td>\n",
       "      <td>1.600171e+09</td>\n",
       "      <td>0</td>\n",
       "    </tr>\n",
       "  </tbody>\n",
       "</table>\n",
       "</div>"
      ],
      "text/plain": [
       "                                              title         id     timestamp  \\\n",
       "593                        You can reverse anything  t3_it1bb4  1.600171e+09   \n",
       "603  You have the ability to manipulate probability  t3_isnxt7  1.600129e+09   \n",
       "617  You have the ability to manipulate probability  t3_ispaj5  1.600133e+09   \n",
       "629                        You can reverse anything  t3_it1bbb  1.600171e+09   \n",
       "\n",
       "     is_sub1  \n",
       "593        0  \n",
       "603        0  \n",
       "617        0  \n",
       "629        0  "
      ]
     },
     "execution_count": 167,
     "metadata": {},
     "output_type": "execute_result"
    }
   ],
   "source": [
    "# check that the above is deleted properly\n",
    "all_hot_posts[all_hot_posts.duplicated(subset=\"title\", keep=False)]"
   ]
  },
  {
   "cell_type": "code",
   "execution_count": 168,
   "metadata": {},
   "outputs": [],
   "source": [
    "# also drop one of the duplicated titles\n",
    "all_hot_posts.drop(all_hot_posts.index[all_hot_posts.duplicated(subset=\"title\")], inplace=True)"
   ]
  },
  {
   "cell_type": "markdown",
   "metadata": {},
   "source": [
    "Now we just need to do all of the preprocessing steps from before, which is removing puncuation, adding the number of words in each sentence.etc\n",
    "\n",
    "I made a class that has all of the functions from above and just imported it in."
   ]
  },
  {
   "cell_type": "code",
   "execution_count": 169,
   "metadata": {},
   "outputs": [],
   "source": [
    "import mytransformer"
   ]
  },
  {
   "cell_type": "code",
   "execution_count": 170,
   "metadata": {},
   "outputs": [
    {
     "data": {
      "text/html": [
       "<div>\n",
       "<style scoped>\n",
       "    .dataframe tbody tr th:only-of-type {\n",
       "        vertical-align: middle;\n",
       "    }\n",
       "\n",
       "    .dataframe tbody tr th {\n",
       "        vertical-align: top;\n",
       "    }\n",
       "\n",
       "    .dataframe thead th {\n",
       "        text-align: right;\n",
       "    }\n",
       "</style>\n",
       "<table border=\"1\" class=\"dataframe\">\n",
       "  <thead>\n",
       "    <tr style=\"text-align: right;\">\n",
       "      <th></th>\n",
       "      <th>title</th>\n",
       "      <th>id</th>\n",
       "      <th>timestamp</th>\n",
       "      <th>is_sub1</th>\n",
       "      <th>has_weird_chars</th>\n",
       "      <th>sentence_len</th>\n",
       "    </tr>\n",
       "  </thead>\n",
       "  <tbody>\n",
       "    <tr>\n",
       "      <th>478</th>\n",
       "      <td>you can break anyones bone by breaking your own bone</td>\n",
       "      <td>t3_ivbvy2</td>\n",
       "      <td>1.600483e+09</td>\n",
       "      <td>1</td>\n",
       "      <td>False</td>\n",
       "      <td>11</td>\n",
       "    </tr>\n",
       "    <tr>\n",
       "      <th>419</th>\n",
       "      <td>you can clean your butt in one wipe guaranteed</td>\n",
       "      <td>t3_iule8h</td>\n",
       "      <td>1.600384e+09</td>\n",
       "      <td>0</td>\n",
       "      <td>False</td>\n",
       "      <td>9</td>\n",
       "    </tr>\n",
       "    <tr>\n",
       "      <th>551</th>\n",
       "      <td>you can speak in tongues</td>\n",
       "      <td>t3_ivhnvk</td>\n",
       "      <td>1.600502e+09</td>\n",
       "      <td>1</td>\n",
       "      <td>False</td>\n",
       "      <td>5</td>\n",
       "    </tr>\n",
       "  </tbody>\n",
       "</table>\n",
       "</div>"
      ],
      "text/plain": [
       "                                                    title         id  \\\n",
       "478  you can break anyones bone by breaking your own bone  t3_ivbvy2   \n",
       "419        you can clean your butt in one wipe guaranteed  t3_iule8h   \n",
       "551                              you can speak in tongues  t3_ivhnvk   \n",
       "\n",
       "        timestamp  is_sub1  has_weird_chars  sentence_len  \n",
       "478  1.600483e+09        1            False            11  \n",
       "419  1.600384e+09        0            False             9  \n",
       "551  1.600502e+09        1            False             5  "
      ]
     },
     "execution_count": 170,
     "metadata": {},
     "output_type": "execute_result"
    }
   ],
   "source": [
    "preprocess_transformer = mytransformer.PreprocessTransformer()\n",
    "all_hot_posts = preprocess_transformer.transform(all_hot_posts)\n",
    "\n",
    "# check that it worked properly\n",
    "all_hot_posts.sample(3)"
   ]
  },
  {
   "cell_type": "markdown",
   "metadata": {},
   "source": [
    "### Save it as a csv file\n",
    "Uncomment to save"
   ]
  },
  {
   "cell_type": "code",
   "execution_count": 171,
   "metadata": {},
   "outputs": [],
   "source": [
    "# all_hot_posts.to_csv(\"../data/cleaned/hot_posts_both.csv\")"
   ]
  },
  {
   "cell_type": "markdown",
   "metadata": {},
   "source": [
    "## Data Dictionary for hot posts <a class=\"anchor\" id=\"hotdictionary\"></a>\n",
    "\n",
    "It's basically the same as the one for the top posts, just without the column that shows Unix time as days.\n",
    "\n",
    "File is saved as data/cleaned/hot_posts_both.csv\n",
    "\n",
    "|Column|Mean|Standard Deviation|Other Info\n",
    "|---|---|---|---|\n",
    "|title|-|-|The title of the Reddit post. Non-letter characters are removed and turned into spaces, except apostrophes which were just removed. All text is lowercase. Is used for modelling|\n",
    "|id|-|-|The unique ID of the reddit post used to identify duplicates. Not used for modelling.\n",
    "|timestamp|1,600,403,302|747,264|Unix timestamp of post date. Not used for modelling.|\n",
    "|is_sub1|0.477|0.5|1 for shittysuperpowers, 0 for godtiersuperpowers. The target variable|\n",
    "|has_weird_chars|0.018|0.134|Whether the post title had non-standard characters before cleaning. Is used for modelling. The characters are defined as anything not a letter, digit, space, or these punctuations: ,.!?\"'%“”’)(\\/:|\n",
    "|sentence_len|14.03|8.33|Number of words in the sentence. Is used for modelling.|"
   ]
  },
  {
   "cell_type": "markdown",
   "metadata": {},
   "source": [
    "## Test model on hot posts\n",
    "Get the baseline (mean)"
   ]
  },
  {
   "cell_type": "code",
   "execution_count": 172,
   "metadata": {},
   "outputs": [
    {
     "data": {
      "text/plain": [
       "0.5233751425313569"
      ]
     },
     "execution_count": 172,
     "metadata": {},
     "output_type": "execute_result"
    }
   ],
   "source": [
    "1 - all_hot_posts[\"is_sub1\"].mean()"
   ]
  },
  {
   "cell_type": "markdown",
   "metadata": {},
   "source": [
    "If we predict all posts are from r/godtiersuperpowers we will be 52% accurate."
   ]
  },
  {
   "cell_type": "markdown",
   "metadata": {},
   "source": [
    "Get the columns we want from the hot posts"
   ]
  },
  {
   "cell_type": "code",
   "execution_count": 173,
   "metadata": {},
   "outputs": [
    {
     "name": "stdout",
     "output_type": "stream",
     "text": [
      "done\n"
     ]
    }
   ],
   "source": [
    "# Get the relevant columns for our model\n",
    "hot_X = all_hot_posts[[\"title\", \"has_weird_chars\", \"sentence_len\"]]\n",
    "hot_y = all_hot_posts[\"is_sub1\"]\n",
    "\n",
    "# predict using the best model from above\n",
    "hot_predictions = best_nbayes_model.predict(hot_X)\n",
    "print(\"done\")"
   ]
  },
  {
   "cell_type": "markdown",
   "metadata": {},
   "source": [
    "See how well the model works on posts from 'hot'"
   ]
  },
  {
   "cell_type": "code",
   "execution_count": 174,
   "metadata": {},
   "outputs": [
    {
     "data": {
      "text/plain": [
       "0.5929304446978335"
      ]
     },
     "execution_count": 174,
     "metadata": {},
     "output_type": "execute_result"
    }
   ],
   "source": [
    "# get accuracy\n",
    "best_nbayes_model.score(hot_X, hot_y)"
   ]
  },
  {
   "cell_type": "code",
   "execution_count": 175,
   "metadata": {},
   "outputs": [
    {
     "data": {
      "text/plain": [
       "0.5934812521499827"
      ]
     },
     "execution_count": 175,
     "metadata": {},
     "output_type": "execute_result"
    }
   ],
   "source": [
    "# get roc auc\n",
    "roc_auc_score(hot_y, hot_predictions)"
   ]
  },
  {
   "cell_type": "markdown",
   "metadata": {},
   "source": [
    "We can see that the model is a better than random guessing (the baseline) so it has some use.\n",
    "\n",
    "However the accuracy isn't that good, most likely because posts in 'hot' have a lot more noise, and may not be drawn from the same population as 'top' posts (the top posts are self selecting for how funny or unique they are).\n",
    "\n",
    "This isn't necessarily a bad thing since it shows that top posts are significantly funnier/more interesting than the average posts, enough that a computer can find the differences, and that it was a good idea to use the top posts instead of hot as our objective was to determine whether a sentence was interesting."
   ]
  },
  {
   "cell_type": "markdown",
   "metadata": {},
   "source": [
    "# Conclusion <a class=\"anchor\" id=\"conclusion\"></a>\n",
    "\n",
    "### Best model\n",
    "After cleaning the data, and testing a bunch of different models, we found that Naive Bayes with a TFIDF vectorizer was the best model for predicting if a post was interesting (as we are considering r/godtiersuperpowers posts to be more interesting than r/shittysuperpowers)\n",
    "\n",
    "### How successful was it?\n",
    "The model was more successful than a human when tested on all-time top posts (67% for model, 64% for human). The stated goal was achieved. However, there is still room for improvement since about 30% of the time, the model predicts wrongly. Part of this is because the 2 subreddits are very similar so the random error causes a lot of problems.\n",
    "\n",
    "In addition, the model doesn't work as well on 'hot' posts instead of top posts, this is probably because the top posts have some interesting quality to them that made them top. However, the model still does better than guessing at a ~60% accuracy.\n",
    "\n",
    "### Findings\n",
    "Some factors that make a title more interesting, and more likely to be in r/godtiersuperpowers\n",
    "- Longer title\n",
    "- Rarer words\n",
    "- More unique characters (e.g. emojis)\n",
    "\n",
    "To summarize, should a writer wish to engage more with their audience, they would be well-advised to use a broader spectrum of vocabulary, provide more extensive descriptions, and👏use👏more👏emojis, like in this sentence.\n",
    "\n",
    "The model was also able to figure out what post titles were considered interesting or not by looking at the vocabulary. However, the accuracy was not that good, and this was only tested with respect to Reddit post titles (for example it probably won't be able to tell you if a joke is funny or not, since the format is so different).\n",
    "\n",
    "### Info For Stakeholders\n",
    "- For writers of books/films, try to avoid using superpowers that are of the form 'If you do X, Y will happen instantly'. Everyone's super-power idea involves something like that so it isn't unique at all.\n",
    "- For comedians try to use rare words (emojis too) as that might be funnier\n",
    "- For social scientists studying differences between 2 communities with very similar backgrounds: there seems to be some difference as both a human and a computer were able to classify posts better than random chance, however there are still a lot of similarities (in this case) because neither humans or computers could get a very high accuracy.\n",
    "\n",
    "Note that this model predicted based on the presence of some specific 'interesting' words. For example, 'travel' is considered interesting. However if this were a discussion board about travelling, then it probably wouldn't be a very interesting word. Depending on the context in which it is used in, the model may not be that useful.\n",
    "\n",
    "### Future Steps\n",
    "By collecting more data, a more accurate prediction can be made.\n",
    "\n",
    "Also, there are other subreddits which are good for determining how interesting text is. For example r/pointlessstories vs r/writingprompts has stories which are interesting vs uninteresting. These subreddits may also have a clearer distinction between the two of them as well as more text to collect.\n",
    "\n",
    "Finally, using more advanced models (e.g. neural nets) it might be be possible to extract more nuance from the sentences. Right now the model just uses a bag-of-words which doesn't take into account the relationships between the words in a sentence (other than adjacent words captured using 2-grams)"
   ]
  },
  {
   "cell_type": "markdown",
   "metadata": {},
   "source": [
    "## The end"
   ]
  }
 ],
 "metadata": {
  "kernelspec": {
   "display_name": "Python 3",
   "language": "python",
   "name": "python3"
  },
  "language_info": {
   "codemirror_mode": {
    "name": "ipython",
    "version": 3
   },
   "file_extension": ".py",
   "mimetype": "text/x-python",
   "name": "python",
   "nbconvert_exporter": "python",
   "pygments_lexer": "ipython3",
   "version": "3.8.3"
  }
 },
 "nbformat": 4,
 "nbformat_minor": 4
}
